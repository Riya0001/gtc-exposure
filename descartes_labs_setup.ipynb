{
 "cells": [
  {
   "cell_type": "markdown",
   "metadata": {},
   "source": [
    "# Initial Setup\n",
    "\n",
    "Welcome to the Descartes Labs Workbench!\n",
    "\n",
    "This notebook will walk you through a one-time initialization step: we need to add your credentials to this jupyterlab environment so that you can access the Descartes Labs APIs. Run the following cells using `Shift-Enter`. This only needs to be done once. Next time you log in, you will not need to repeat these steps."
   ]
  },
  {
   "cell_type": "markdown",
   "metadata": {},
   "source": [
    "### 1) Log in to [IAM](https://iam.descarteslabs.com/auth/login?refresh_token=true&destination=/auth/refresh_token) with your social/Google login or username/password."
   ]
  },
  {
   "cell_type": "markdown",
   "metadata": {},
   "source": [
    "### 2) Copy the token from this IAM link.  Make sure to include all characters including any trailing \"=\"."
   ]
  },
  {
   "cell_type": "markdown",
   "metadata": {},
   "source": [
    "### 3) Run the next cell with `Shift-Enter`, paste the token into the box that appears, and press `Enter`."
   ]
  },
  {
   "cell_type": "code",
   "execution_count": null,
   "metadata": {},
   "outputs": [],
   "source": [
    "import warnings\n",
    "\n",
    "with warnings.catch_warnings():\n",
    "    warnings.simplefilter(\"ignore\")\n",
    "    \n",
    "    import descarteslabs\n",
    "    import descarteslabs.client.auth.cli as cli\n",
    "\n",
    "    o = descarteslabs.common.dotdict.DotDict()\n",
    "    o.command = \"login\"\n",
    "    cli.LOGIN_URL = \"https://iam.descarteslabs.com/auth/refresh_token\"\n",
    "    cli.auth_handler(o)"
   ]
  },
  {
   "cell_type": "markdown",
   "metadata": {},
   "source": [
    "### 4) Confirmation\n",
    "If this was successful, you should see \"Logged in as [Your Name]\" after running the commands above.  You will not need to repeat these steps the next time you log in.  If you are having any issues logging in, support is available at support@descarteslabs.com."
   ]
  },
  {
   "cell_type": "markdown",
   "metadata": {},
   "source": [
    "## Take Note!\n",
    "\n",
    "The `example_notebooks` directory and all its sub-directories will be overwritten next time you restart your notebook. Therefore, **DO NOT PLACE FILES** in the `example_notebooks` hierarchy. Place your notebooks in the home directory or create your own directories and directory-structure to place your notebooks in."
   ]
  },
  {
   "cell_type": "markdown",
   "metadata": {},
   "source": [
    "## Next Steps\n",
    "From here, you may want to:\n",
    "- check out the [Getting Started notebook](./02_getting_started.ipynb).\n",
    "- explore many more **notebooks** in the `guides` and `examples` directories in the file browser on the left.\n",
    "- view the Descartes Labs [API documentation](https://docs.descarteslabs.com)."
   ]
  }
 ],
 "metadata": {
  "kernelspec": {
   "display_name": "Python 3",
   "language": "python",
   "name": "python3"
  },
  "language_info": {
   "codemirror_mode": {
    "name": "ipython",
    "version": 3
   },
   "file_extension": ".py",
   "mimetype": "text/x-python",
   "name": "python",
   "nbconvert_exporter": "python",
   "pygments_lexer": "ipython3",
   "version": "3.7.6"
  }
 },
 "nbformat": 4,
 "nbformat_minor": 4
}
