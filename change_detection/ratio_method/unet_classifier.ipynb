{
 "cells": [
  {
   "cell_type": "markdown",
   "metadata": {},
   "source": [
    "# Change Detection - Deep Learning on Image Ratios\n",
    "\n",
    "### Summary\n",
    "This notebook trains a Convolutional Neural Network (CNN) to identify building change from the pixel ratios between before/after [Sentinel-2](https://sentinel.esa.int/web/sentinel/user-guides/sentinel-2-msi/overview) imagery. For a better understanding of the ratio method begin with `change_detection.ipynb`. The model is trained on the pixel ratios of pre- & post-disaster imagery for events in the Caribbean. Ground truth building damage data is gathered from [Copernicus EMS](https://emergency.copernicus.eu/mapping/map-of-activations-rapid#zoom=3&lat=29.18235&lon=-70.57787&layers=BT00).\n",
    "\n",
    "If you already have a trained model and simply wish to evaluate it's output at a new location, skip to section 5 after section 1.\n",
    "\n",
    "### Contents\n",
    "- 1 - [Visualise Ratio & Damage Labels](#trLabels)\n",
    "- 2 - [Training Images](#trImages)\n",
    "- 3 - [Build Model](#buildModel)\n",
    "- 4 - [Train Model](#trainModel)\n",
    "- 5 - [Predictions](#Predictions)\n",
    "- 6 - [Evaluate Prediction Accuracy](#PredictionAccuracy)\n",
    "- 7 - [Test Location](#TestLocation)\n",
    "\n",
    "### Requirements\n",
    "- Lat/Long of desired location\n",
    "- Before and after dates for change detection\n",
    "- Output of damages at location if evaluating model\n",
    "\n",
    "__________________________\n",
    "### Initialisation steps - Define variables & import packages"
   ]
  },
  {
   "cell_type": "code",
   "execution_count": 1,
   "metadata": {},
   "outputs": [],
   "source": [
    "## Define location, dates and satellite\n",
    "location = 'Roseau' # Name for saved .pngs\n",
    "lat, lon = 15.3031, -61.3834 # Center of Area of Interest \n",
    "zoom = 15 # Map tile zoom, default 16\n",
    "st_date, end_date = ['2017-08-15', '2017-10-01'], ['2017-09-15', '2017-12-01'] # Timeframes for before-after imagery: start 1, start 2; end 1 ,end 2\n",
    "satellite = \"sentinel-2:L1C\" # Descartes product name\n",
    "bands = ['red','green','blue'] # Bands used for visualisation\n",
    "cloudFraction = 0.05 # May need adjusted to get images from appropriate dates for Sentinel\n",
    "\n",
    "\n",
    "## Testing \n",
    "preModel = \"models/optimalModel\" # Use a pre-trained model - if training leave as \"\"\n",
    "deployed = False # Run model for area without damage assessment\n",
    "\n",
    "# If a damage geojson already exists for location - else leave as \"\"\n",
    "dmgJsons = \"\"  # Damage file name qualifying location and area size if already exists\n",
    "\n",
    "# Form new damage assessment json from Copernicus EMS database\n",
    "dmgAssess = \"gradings/EMSR246_04ROSEAU_02GRADING_v1_5500_settlements_point_grading.dbf\" # Copernicus EMS damage assessment database location (.dbf file needs .prj,.shp,.shx in same directory)\n",
    "grades = ['Completely Destroyed','Highly Damaged'] # Copernicus EMS labels included, options: 'Not Applicable','Negligible to slight damage', 'Moderately Damaged', 'Highly Damaged'\n",
    "area = 0.0004 # Building footprint diameter in lat/long degrees (0.0001~10m at equator)\n",
    "newDmgLocation = 'geojsons/'+location+'Damage'+str(area)[2:]+'g'+str(len(grades))+'.geojson' # Location for newly created damage .json\n",
    "\n",
    "\n",
    "## Training - Model training input\n",
    "resolution = 10 # Resolution of satellite imagery -> 10 if Sentinel\n",
    "tilesize, pad, trainArea = 16, 0, 0.0003 # Tilesize for rastering -> 32 as default, tile padding\n",
    "records = \"records/\"+location+str(trainArea)[2:]+\"g\"+str(len(grades))+\"x\"+str(tilesize)+\"p\"+str(pad)+\".tfrecords\" # Name of file for training labels\n",
    "learning_rate, epochs, batch_size, n_samples = 1e-3, 50, 8, 2000 # Model training parameters\n",
    "modelName = \"models/\"+location+\"g\"+str(len(grades))+\"ts\"+str(tilesize)+\"pd\"+str(pad)+\"lr\"+str(learning_rate)[2:]+\"e\"+str(epochs)+\"bs\"+str(batch_size)+\"a\"+str(trainArea)[2:]+\"n\"+str(n_samples) if preModel is \"\" else preModel # Define output model name"
   ]
  },
  {
   "cell_type": "code",
   "execution_count": 2,
   "metadata": {},
   "outputs": [],
   "source": [
    "# Import packages\n",
    "# Python libraries\n",
    "import IPython\n",
    "import ipywidgets\n",
    "import ipyleaflet\n",
    "import json\n",
    "import random\n",
    "import os\n",
    "import geojson\n",
    "import numpy as np\n",
    "import pandas as pd\n",
    "import geopandas as gpd\n",
    "import tensorflow as tf\n",
    "import matplotlib.pyplot as plt\n",
    "import matplotlib.image as mpimg\n",
    "%matplotlib inline\n",
    "\n",
    "# Library functions\n",
    "from tqdm import tqdm\n",
    "from ipyleaflet import Map, GeoJSON, GeoData, LegendControl\n",
    "from shapely.geometry import Polygon, Point\n",
    "from tensorflow.keras.models import load_model\n",
    "\n",
    "# Descartes Labs\n",
    "import descarteslabs as dl\n",
    "import descarteslabs.workflows as wf\n",
    "\n",
    "# Custom functions\n",
    "from utils import make_ground_dataset_from_ratio_polygons, get_center_location\n",
    "from unet import UNet"
   ]
  },
  {
   "cell_type": "markdown",
   "metadata": {},
   "source": [
    "______________________\n",
    "<a id='trLabels'></a>\n",
    "## 1. Visualise Ratio & Damage Labels\n",
    "First let's extract the training labels from EMS Copernicus data and visualise them. Use magic markers below map to scale imagery properly."
   ]
  },
  {
   "cell_type": "code",
   "execution_count": 3,
   "metadata": {},
   "outputs": [],
   "source": [
    "# Function to create damage json from EMS Copernicus database\n",
    "if not deployed:\n",
    "    def createDmgJson(dmgAssess, grades,area,dmgJsons):\n",
    "        settlements = gpd.read_file(dmgAssess).to_crs({'init': 'epsg:4326'}) # Read from file\n",
    "        color_dict = {'Not Applicable':'green','Negligible to slight damage':'blue', 'Moderately Damaged':'yellow', 'Highly Damaged':'orange', 'Completely Destroyed':'red'}\n",
    "        damage = settlements[settlements.grading.isin(grades)]  # Filter settlements to be within specified damage grade and location polygon\n",
    "\n",
    "        if damage.geometry[damage.index[0]].type is not 'Polygon': # Gets point assessment damages into geojson file\n",
    "            features = []\n",
    "            for i in tqdm(damage.index):\n",
    "                poly = Polygon([[damage.geometry.x[i], damage.geometry.y[i]], [damage.geometry.x[i]+area, damage.geometry.y[i]], [damage.geometry.x[i]+area, damage.geometry.y[i]+area], [damage.geometry.x[i], damage.geometry.y[i]+area], [damage.geometry.x[i], damage.geometry.y[i]]])\n",
    "                features.append(geojson.Feature(properties={\"Damage\": damage.grading[i]}, geometry=poly))\n",
    "\n",
    "            fc = geojson.FeatureCollection(features)\n",
    "            with open(dmgJsons, 'w') as f: geojson.dump(fc, f)\n",
    "\n",
    "        else:\n",
    "            with open(dmgJsons, 'w') as f: geojson.dump(damage, f) # Puts polygon assessments into geojson file\n",
    "\n",
    "    # If geojson of damage from EMS Copernicus does not exist - create one\n",
    "    if not os.path.exists(dmgJsons) and not os.path.exists(newDmgLocation): createDmgJson(dmgAssess,grades,area,newDmgLocation)\n",
    "\n",
    "    try: fc = gpd.read_file(dmgJsons) # Read training label data from damage file\n",
    "    except: fc, dmgJsons = gpd.read_file(newDmgLocation), newDmgLocation"
   ]
  },
  {
   "cell_type": "code",
   "execution_count": 4,
   "metadata": {},
   "outputs": [
    {
     "data": {
      "application/vnd.jupyter.widget-view+json": {
       "model_id": "6d2f02bee9a140e2b97d8e382040ec7a",
       "version_major": 2,
       "version_minor": 0
      },
      "text/plain": [
       "\n",
       "`ipyleaflet` and/or `ipywidgets` Jupyter extensions are not installed! (or you're not in a Jupyter notebook.)\n",
       "To install for JupyterLab, run this in a cell:\n",
       "    !jupyter labextension install jupyter-leaflet @jupyter-widgets/jupyterlab-manager\n",
       "To install for plain Jupyter Notebook, run this in a cell:\n",
       "    !jupyter nbextension enable --py --sys-prefix ipyleaflet\n",
       "Then, restart the kernel and refresh the webpage.\n"
      ]
     },
     "metadata": {},
     "output_type": "display_data"
    }
   ],
   "source": [
    "# Initialise map\n",
    "m1 = wf.interactive.MapApp()\n",
    "m1.center, m1.zoom = (lat, lon), zoom\n",
    "\n",
    "# Define function which displays satellite imagery on map\n",
    "def getImage(time,bands,opacity,mapNum):\n",
    "    img = wf.ImageCollection.from_id(satellite,start_datetime=st_date[time], end_datetime=end_date[time])\n",
    "    if 'sentinel' in satellite: # Use sentinel cloud-mask band if available\n",
    "        img = img.filter(lambda img: img.properties[\"cloud_fraction\"] <= cloudFraction)\n",
    "        img = img.map(lambda img: img.mask(img.pick_bands('cloud-mask')==1))\n",
    "    mos = (img.mosaic().pick_bands(bands))\n",
    "    globals()['mos_'+str(time+1)+str(bands)] = mos\n",
    "    display = mos.visualize('Image '+str(time+1)+' '+str(bands), map=mapNum)\n",
    "    display.opacity = opacity\n",
    "\n",
    "# Display before and after images for selected bands - needs to be RGB for training this model\n",
    "for i in range(len(st_date)): getImage(i,bands,0.7,m1)\n",
    "    \n",
    "# Calculate logarithmic ratio for RGB images and display\n",
    "ratio = wf.log10(globals()['mos_1'+str(bands)] / globals()['mos_2'+str(bands)])\n",
    "rdisplay = ratio.visualize('Ratio' ,map=m1)\n",
    "rdisplay.opacity = 0\n",
    "\n",
    "# Plot damage assessment data\n",
    "if not deployed:\n",
    "    geo_data = GeoData(geo_dataframe = fc, style={\"color\": \"red\", \"fillOpacity\": 0.4}, hover_style={\"fillOpacity\": 0.5})\n",
    "    m1.add_layer(geo_data)\n",
    "\n",
    "    # Legend\n",
    "    m1.add_control(LegendControl({\"Recorded Damage\":\"#FF0000\"})) \n",
    "\n",
    "m1 # Display map"
   ]
  },
  {
   "cell_type": "markdown",
   "metadata": {},
   "source": [
    " Sections 2-4 are for training a new model. If assessing perfomance on new location with damage assessments jump to [section 5](#Predictions). If evaluating change over a new area without ground data (i.e. deployed = True), jump to [section 7](#TestLocation)"
   ]
  },
  {
   "cell_type": "markdown",
   "metadata": {},
   "source": [
    "______________________\n",
    "<a id='trImages'></a>\n",
    "## 2. Training images\n",
    "Next, let's make an image dataset for training. The training data for this segmentation model will be comprised of RGB image tiles with corresponding target rasters of the same size. Targets are binary rasters where 1 indicates the presence of a damaged building and 0 indicates the absence. The function below tiles the region covering the labels, it extracts the corresponding tile of the ratio image displayed above, and makes the corresponding target raster. Training pixel size can be varied in the variables section. These training data are saved as .tfRecords for efficient model training.\n",
    "\n",
    "This step will take 5-10 minutes. The dataset only has to be created once. In case the notebook is re-run with same parameters as a previous run, this cell will be skipped."
   ]
  },
  {
   "cell_type": "code",
   "execution_count": null,
   "metadata": {},
   "outputs": [],
   "source": [
    "if not os.path.exists(records): # If records have not already been created\n",
    "    if not os.path.exists(\"records\"): os.mkdir(\"records\") # Create directory for record output if not existing\n",
    "    trainJsons = 'geojsons/'+location+'Damage'+str(trainArea)[2:]+'g'+str(len(grades))+'.geojson'\n",
    "    if not os.path.exists(trainJsons): createDmgJson(dmgAssess,grades,trainArea,trainJsons)\n",
    "    n_samples = make_ground_dataset_from_ratio_polygons(\n",
    "        ratio,\n",
    "        trainJsons,\n",
    "        products=satellite,\n",
    "        bands=bands,\n",
    "        resolution=resolution,\n",
    "        tilesize=tilesize,\n",
    "        pad=pad,\n",
    "        start_datetime=st_date[0],\n",
    "        end_datetime=end_date[0],\n",
    "        out_file=records,\n",
    "    )"
   ]
  },
  {
   "cell_type": "markdown",
   "metadata": {},
   "source": [
    "In order to read the TFRecords the data structure and a parsing function is defined next."
   ]
  },
  {
   "cell_type": "code",
   "execution_count": 6,
   "metadata": {},
   "outputs": [],
   "source": [
    "# Define the features in the TFRecords file\n",
    "features = {\n",
    "    \"image/image_data\": tf.io.FixedLenSequenceFeature([], dtype=tf.float32, allow_missing=True),\n",
    "    \"image/height\": tf.io.FixedLenFeature([], tf.int64),\n",
    "    \"image/width\": tf.io.FixedLenFeature([], tf.int64),\n",
    "    \"image/channels\": tf.io.FixedLenFeature([], tf.int64),\n",
    "    \"target/target_data\": tf.io.FixedLenSequenceFeature([], dtype=tf.float32, allow_missing=True),\n",
    "    \"target/height\": tf.io.FixedLenFeature([], tf.int64),\n",
    "    \"target/width\": tf.io.FixedLenFeature([], tf.int64),\n",
    "    \"target/channels\": tf.io.FixedLenFeature([], tf.int64),\n",
    "    \"dltile\": tf.io.FixedLenFeature([], tf.string),\n",
    "}\n",
    "\n",
    "def parse_example(example_proto):\n",
    "    image_features = tf.io.parse_single_example(example_proto, features)\n",
    "\n",
    "    img_height = tf.cast(image_features[\"image/height\"], tf.int32)\n",
    "    img_width = tf.cast(image_features[\"image/width\"], tf.int32)\n",
    "    img_channels = tf.cast(image_features[\"image/channels\"], tf.int32)\n",
    "\n",
    "    target_height = tf.cast(image_features[\"target/height\"], tf.int32)\n",
    "    target_width = tf.cast(image_features[\"target/width\"], tf.int32)\n",
    "    target_channels = tf.cast(image_features[\"target/channels\"], tf.int32)\n",
    "\n",
    "    image_raw = tf.reshape(\n",
    "        tf.squeeze(image_features[\"image/image_data\"]),\n",
    "        tf.stack([img_height, img_width, img_channels]),\n",
    "    )\n",
    "\n",
    "    target_raw = tf.reshape(\n",
    "        tf.squeeze(image_features[\"target/target_data\"]),\n",
    "        tf.stack([target_height, target_width, target_channels]),\n",
    "    )\n",
    "\n",
    "    return image_raw, target_raw"
   ]
  },
  {
   "cell_type": "markdown",
   "metadata": {},
   "source": [
    "Let's create a simple data pipeline to visualize some samples from the dataset."
   ]
  },
  {
   "cell_type": "code",
   "execution_count": 7,
   "metadata": {},
   "outputs": [],
   "source": [
    "# Create a TFRecordDataset to read images from these TFRecords\n",
    "data = tf.data.TFRecordDataset(records).map(parse_example, num_parallel_calls=4)\n",
    "data_viz = iter(data.batch(1))"
   ]
  },
  {
   "cell_type": "code",
   "execution_count": null,
   "metadata": {},
   "outputs": [],
   "source": [
    "# Visualize samples. You can re-run this cell to iterate through the dataset.\n",
    "img, trg = next(data_viz)\n",
    "fig, ax = plt.subplots(1, 2, figsize=(8, 5))\n",
    "rat = ax[0].imshow(np.exp(img.numpy()).astype(np.float)[0])\n",
    "lab = ax[1].imshow(trg.numpy().astype(np.uint8)[0].squeeze())\n",
    "rat_title = ax[0].set_title(\"Ratio pixels\")\n",
    "lab_title = ax[1].set_title('Building damages (yellow)')"
   ]
  },
  {
   "cell_type": "markdown",
   "metadata": {},
   "source": [
    "The above display shows the first training sample, displaying the image and corresponding target. Each image can have one or more damaged buildings or can be a negative image without any. You can iterate through the training images by re-running the cell above multiple times.\n",
    "______________________"
   ]
  },
  {
   "cell_type": "markdown",
   "metadata": {},
   "source": [
    "<a id='buildModel'></a>\n",
    "## 3. Build Model\n",
    "\n",
    "The model architecture is a [UNet classifier](https://arxiv.org/abs/1505.04597). We'll use a pre-built implementation in [TensorFlow](https://www.tensorflow.org/)_v2 / Keras . "
   ]
  },
  {
   "cell_type": "code",
   "execution_count": 51,
   "metadata": {},
   "outputs": [],
   "source": [
    "# Insure tensorflow is version 2\n",
    "assert int(tf.__version__[0]) > 1, \"Please install Tensorflow 2\"\n",
    "\n",
    "learning_rate, epochs, batch_size, n_samples = 1e-4, 10, 2, 300\n",
    "modelName = \"models/\"+location+\"g\"+str(len(grades))+\"ts\"+str(tilesize)+\"pd\"+str(pad)+\"lr\"+str(learning_rate)[2:]+\"e\"+str(epochs)+\"bs\"+str(batch_size)+\"a\"+str(trainArea)[2:]+\"n\"+str(n_samples) if preModel is \"\" else preModel # Define output model name\n",
    "\n",
    "# Build the model. We could just use the base_model but then the input size would be fixed once we load a saved model. \n",
    "# In order to be able to predict on larger tiles we create an input layer with no fixed size\n",
    "base_model = UNet()\n",
    "inputs = tf.keras.layers.Input(shape=(None, None, 3))\n",
    "model = tf.keras.Model(inputs=inputs, outputs=base_model(inputs))"
   ]
  },
  {
   "cell_type": "markdown",
   "metadata": {},
   "source": [
    "We will now compile the model and output a summary which takes three arguments:\n",
    "- Optimizer: A reasonable choice of optimizer is [Adam](https://arxiv.org/abs/1412.6980v8) - it performs well in most real-world scenarios.\n",
    "- Loss function: We will use [binary crossentropy](https://www.tensorflow.org/api_docs/python/tf/keras/losses/BinaryCrossentropy) as a loss as it is suitable for binary classification problems.\n",
    "- Metric: From our experience using the simple ratio method, 0.7 precision should be achievable but a big problem is increasing recall. Therefore we will focus on this metric for training.\n"
   ]
  },
  {
   "cell_type": "code",
   "execution_count": null,
   "metadata": {},
   "outputs": [],
   "source": [
    "model.compile(\n",
    "    optimizer=tf.keras.optimizers.Adam(learning_rate=learning_rate),\n",
    "    loss=\"binary_crossentropy\",\n",
    "    metrics=[\"binary_accuracy\",\"Precision\",\"Recall\"]#,\"Precision\",\"Recall\"]#tfa.metrics.F1Score(num_classes=2, threshold=0.5)#tf.keras.metrics.RecallAtPrecision(precision=0.7) #[\"accuracy\"]\n",
    ")\n",
    "model.summary()"
   ]
  },
  {
   "cell_type": "markdown",
   "metadata": {},
   "source": [
    "______________________\n",
    "<a id='trainModel'></a>\n",
    "## 4. Train Model\n",
    "\n",
    "We will now train the model using Stochastic Gradient Descent (SGD) with data batches.  Before training the data is shuffled before splitting into a training and validation set."
   ]
  },
  {
   "cell_type": "code",
   "execution_count": 53,
   "metadata": {},
   "outputs": [],
   "source": [
    "# Get train/validation set sizes\n",
    "n_train_samples = int(0.8 * n_samples)\n",
    "n_val_samples = n_samples - n_train_samples\n",
    "\n",
    "# Get data and apply transform\n",
    "data = tf.data.TFRecordDataset(\"records/HaitiAbricots0002g3x16p0.tfrecords\").map(parse_example, num_parallel_calls=4)\n",
    "def type_transform(feature, target):\n",
    "    return tf.cast(feature, tf.float32), tf.cast(target, tf.float32)\n",
    "data = data.map(type_transform, num_parallel_calls=4)\n",
    "\n",
    "# # Concatenate second training location records if wanted\n",
    "# data2 = tf.data.TFRecordDataset(\"records/HaitiAbricots0002g3x32.tfrecords\").map(parse_example, num_parallel_calls=4)\n",
    "# data2 = data2.map(type_transform, num_parallel_calls=4)\n",
    "# data = data.concatenate(data2)\n",
    "\n",
    "# # Concatenate third training location records if wanted\n",
    "# data3 = tf.data.TFRecordDataset(\"records/HaitiLesCayes0002g2x32.tfrecords\").map(parse_example, num_parallel_calls=4)\n",
    "# data3 = data3.map(type_transform, num_parallel_calls=4)\n",
    "# data = data.concatenate(data3)\n",
    "\n",
    "# Shuffle the data and split into train and validation set\n",
    "data = data.shuffle(buffer_size=300, seed=1)\n",
    "data_train = data.take(n_train_samples).repeat().batch(batch_size)\n",
    "data_val = data.skip(n_train_samples).repeat().batch(batch_size)"
   ]
  },
  {
   "cell_type": "markdown",
   "metadata": {},
   "source": [
    "Let's train the model! This will take a while depending on training set size and number of epochs requested."
   ]
  },
  {
   "cell_type": "code",
   "execution_count": null,
   "metadata": {},
   "outputs": [],
   "source": [
    "with tf.device('/gpu:0'):\n",
    "    history = model.fit(\n",
    "        data_train,\n",
    "        steps_per_epoch=n_train_samples // batch_size,\n",
    "        validation_data=data_val,\n",
    "        validation_steps=n_val_samples // batch_size,\n",
    "        epochs=epochs,\n",
    "    )"
   ]
  },
  {
   "cell_type": "code",
   "execution_count": null,
   "metadata": {},
   "outputs": [],
   "source": [
    "# Save the model to folder\n",
    "if not os.path.exists(\"models\"): os.mkdir(\"models\")\n",
    "tf.saved_model.save(model, modelName)"
   ]
  },
  {
   "cell_type": "code",
   "execution_count": 56,
   "metadata": {},
   "outputs": [],
   "source": [
    "# Save to Descartes Labs storage if you so desire\n",
    "print(modelName) # You'll have to copy this into both parts of the !zip command below\n",
    "!zip -r copyHere.zip copyHere\n",
    "print('Upload model to Storage')\n",
    "storage = dl.Storage()\n",
    "storage.set_file(modelName, modelName+\".zip\")\n",
    "os.remove(modelName+\".zip\")"
   ]
  },
  {
   "cell_type": "markdown",
   "metadata": {},
   "source": [
    "Let's plot the training history. Our model's loss should go down smoothly while the accuracy should go up."
   ]
  },
  {
   "cell_type": "code",
   "execution_count": null,
   "metadata": {},
   "outputs": [],
   "source": [
    "fig, ax = plt.subplots(1, 2, figsize=(12, 5))\n",
    "ax[0].plot(history.history[\"loss\"], label=\"train\")\n",
    "ax[0].plot(history.history[\"val_loss\"], label=\"val\")\n",
    "ax[1].plot(history.history[list(history.history.items())[1][0]], label=\"train\")\n",
    "ax[1].plot(history.history[list(history.history.items())[3][0]], label=\"val\")\n",
    "\n",
    "ax[0].set_title(\"model loss\")\n",
    "ax[1].set_title(\"model accuracy\")\n",
    "ax[0].set_xlabel(\"epoch\")\n",
    "ax[0].set_ylabel(\"loss\")\n",
    "ax[1].set_xlabel(\"epoch\")\n",
    "ax[1].set_ylabel(list(history.history.items())[1][0])\n",
    "ax[0].legend(loc=\"upper right\")\n",
    "\n",
    "p, r = history.history[\"precision\"][epochs-1], history.history[\"recall\"][epochs-1]\n",
    "f1 = 2*(p*r)/(p+r)\n",
    "\n",
    "print(\"Training metrics - Precision: \",p,\", Recall: \",r,\", F1 Score: \",f1)\n",
    "\n",
    "plt.show()"
   ]
  },
  {
   "cell_type": "code",
   "execution_count": null,
   "metadata": {},
   "outputs": [],
   "source": [
    "n_test_samples = 500\n",
    "data_test = tf.data.TFRecordDataset(\"records/HaitiPortSalut0004g3x32.tfrecords\").map(parse_example, num_parallel_calls=4)\n",
    "data_test = data_test.map(type_transform, num_parallel_calls=4)\n",
    "data_test = data_test.shuffle(buffer_size=1000, seed=1)\n",
    "data_test = data_test.take(n_test_samples).repeat().batch(batch_size)\n",
    "\n",
    "results = model.evaluate(data_test,\n",
    "                         batch_size=8,\n",
    "                         steps=n_test_samples//batch_size)\n",
    "\n",
    "p, r = results[2], results[3]\n",
    "f1 = 2*(p*r)/(p+r)\n",
    "print(\"F1: \",f1)"
   ]
  },
  {
   "cell_type": "markdown",
   "metadata": {},
   "source": [
    "________________\n",
    "<a id='Predictions'></a>\n",
    "## 5. Predictions\n",
    "\n",
    "Let's take a look at some predictions made by our model. We will retrieve a tile of the ratio image from our specified test location and get the predicted change from our model. If you want to use a model you've saved to Descartes Storage mark `dl_storage` as True in next box."
   ]
  },
  {
   "cell_type": "code",
   "execution_count": 5,
   "metadata": {},
   "outputs": [],
   "source": [
    "# Function for loading model from Descartes Labs storage\n",
    "dl_storage = False\n",
    "def load_model_from_storage(storage_key):\n",
    "    \"\"\"Load TF model from DL.Storage\"\"\"\n",
    "    import tempfile\n",
    "    model_zip = tempfile.NamedTemporaryFile()\n",
    "    model_dir = tempfile.TemporaryDirectory()\n",
    "    dl.Storage().get_file(storage_key, model_zip.name)\n",
    "    os.system(\"unzip {} -d {}\".format(model_zip.name, model_dir.name))\n",
    "    os.path.join(model_dir.name, \"saved_model\")\n",
    "    model_zip.close()\n",
    "    model_dir.cleanup()\n",
    "\n",
    "    return model"
   ]
  },
  {
   "cell_type": "code",
   "execution_count": 6,
   "metadata": {},
   "outputs": [],
   "source": [
    "# Function retrieving appropriate tile of the ratio\n",
    "def get_ratio_image(dltile_key,ratio,tilesize,bands):\n",
    "    tile = dl.scenes.DLTile.from_key(dltile_key)\n",
    "    sc, ctx = dl.scenes.search(aoi=tile, products=satellite, start_datetime=st_date[0], end_datetime=end_date[0])\n",
    "    return ratio.compute(ctx).ndarray.reshape(tilesize,tilesize,len(bands)) \n",
    "\n",
    "# Function retrieving desired tile from Sentinel imagery for display\n",
    "def get_sentinel_image(dltile_key, bands):\n",
    "    tile = dl.scenes.DLTile.from_key(dltile_key)\n",
    "    sc, ctx = dl.scenes.search(aoi=tile, products=satellite, start_datetime=st_date[0], end_datetime=end_date[0])\n",
    "    im = sc.mosaic(bands=bands, ctx=ctx, bands_axis=-1)\n",
    "    return im, ctx"
   ]
  },
  {
   "cell_type": "markdown",
   "metadata": {},
   "source": [
    "For simplicity, we'll put all of the necessary steps into a single function that loads the model, retrieves the ratio tile for a location specified by `dltile_key`, pre-processes the tile and performs model prediction."
   ]
  },
  {
   "cell_type": "code",
   "execution_count": 7,
   "metadata": {},
   "outputs": [],
   "source": [
    "def predict_image(dltile_key,ratio,tilesize,bands):\n",
    "    print(\"Predict on image for dltile {}\".format(dltile_key))\n",
    "\n",
    "    # load model\n",
    "    model = load_model_from_storage(modelName) if dl_storage else load_model(modelName)\n",
    "\n",
    "    # get imagery\n",
    "    im = get_ratio_image(dltile_key,ratio,tilesize,bands)\n",
    "\n",
    "    # add batch dimension\n",
    "    im = np.expand_dims(im, axis=0).astype(np.float32)\n",
    "\n",
    "    # predict\n",
    "    pred = model.predict(im)\n",
    "\n",
    "    return im, pred"
   ]
  },
  {
   "cell_type": "code",
   "execution_count": 8,
   "metadata": {},
   "outputs": [
    {
     "name": "stdout",
     "output_type": "stream",
     "text": [
      "Predict on image for dltile 16:0:10.0:20:1084:10578\n",
      "\n",
      "Job ID: fe775619e91bb43d41cfcd52a0de773ac0720ebe657fbb9d\n",
      "[######] | Steps: 109/109 | Stage: SUCCEEDED                                  "
     ]
    }
   ],
   "source": [
    "# Type in here if you would like to change the coordinates from the map center defined in variables section.\n",
    "lat, lon, tilesize = lat, lon, tilesize\n",
    "tile = dl.scenes.DLTile.from_latlon(lat, lon, resolution=resolution, tilesize=tilesize, pad=pad) # Convert coordinates to nearest descartes labs tile with size of our choosing\n",
    "\n",
    "im, pred = predict_image(tile.key,ratio,tilesize,bands) # Run prediction function for tile\n",
    "sent, ctx = get_sentinel_image(tile.key,bands) # Get Sentinel imagery for tile"
   ]
  },
  {
   "cell_type": "code",
   "execution_count": 9,
   "metadata": {},
   "outputs": [
    {
     "data": {
      "image/png": "[encoded data removed]",
      "text/plain": [
       "<Figure size 1296x432 with 6 Axes>"
      ]
     },
     "metadata": {
      "needs_background": "light"
     },
     "output_type": "display_data"
    }
   ],
   "source": [
    "# Simple plot of predictions \n",
    "fig, ax = plt.subplots(1, 3, figsize=(18, 6))\n",
    "visBand = 0 # Choose band to visualise ratio of\n",
    "\n",
    "# Plot ratio of chosen band\n",
    "a = ax[0].imshow((im.data[0,:,:,visBand].squeeze()).astype(\"float\"), cmap ='magma')\n",
    "fig.colorbar(a, ax = ax[0])\n",
    "a_tit = ax[0].set_title(\"Ratio for \"+bands[visBand]+\" band\")\n",
    "\n",
    "# Plot identified change\n",
    "disting = pred > 0.2\n",
    "b = ax[1].imshow(disting[0].squeeze().astype(\"float\"))\n",
    "fig.colorbar(b, ax = ax[1])\n",
    "b_tit = ax[1].set_title(\"Building change classification\")\n",
    "\n",
    "# Plot confidence in prediction \n",
    "c = ax[2].imshow(pred[0].squeeze().astype(\"float\"))\n",
    "fig.colorbar(c, ax = ax[2])\n",
    "c_tit = ax[2].set_title(\"Damage probability\")"
   ]
  },
  {
   "cell_type": "code",
   "execution_count": 10,
   "metadata": {},
   "outputs": [],
   "source": [
    "# Extract latitude & longitude of each pixel in prediction (whether true or false)\n",
    "bounds, disting = ctx.bounds, disting[0,:,:,0] if len(disting.shape) == 4 else disting # Get bounds from tile and reduce extra dimensionality of classification matrix\n",
    "lats, longs = np.linspace(bounds[3],bounds[1],disting.shape[0]), np.linspace(bounds[0],bounds[2],disting.shape[1]) # Vector of lat, longs\n",
    "\n",
    "# Create matrix of coordinates for pixels with change detected\n",
    "xm, ym = np.meshgrid(longs,lats)\n",
    "xc, yc = xm*(disting), ym*(disting)\n",
    "\n",
    "# Get geodataframe for pixel points\n",
    "df = pd.DataFrame(columns=['Northing', 'Easting'])\n",
    "for i,j in zip(np.nonzero(xc)[0], np.nonzero(xc)[1]):\n",
    "    df = df.append({'Northing': yc[i][j],'Easting': xc[i][j]}, ignore_index=True)\n",
    "det = gpd.GeoDataFrame(df, crs={'init':ctx.bounds_crs}, geometry=gpd.points_from_xy(df.Easting, df.Northing)).to_crs({'init': 'epsg:4326'})"
   ]
  },
  {
   "cell_type": "code",
   "execution_count": 11,
   "metadata": {},
   "outputs": [
    {
     "data": {
      "application/vnd.jupyter.widget-view+json": {
       "model_id": "1e8df82167b1451e836620aa8905f90d",
       "version_major": 2,
       "version_minor": 0
      },
      "text/plain": [
       "\n",
       "`ipyleaflet` and/or `ipywidgets` Jupyter extensions are not installed! (or you're not in a Jupyter notebook.)\n",
       "To install for JupyterLab, run this in a cell:\n",
       "    !jupyter labextension install jupyter-leaflet @jupyter-widgets/jupyterlab-manager\n",
       "To install for plain Jupyter Notebook, run this in a cell:\n",
       "    !jupyter nbextension enable --py --sys-prefix ipyleaflet\n",
       "Then, restart the kernel and refresh the webpage.\n"
      ]
     },
     "metadata": {},
     "output_type": "display_data"
    }
   ],
   "source": [
    "# Initialise map\n",
    "m3 = wf.interactive.MapApp()\n",
    "m3.center, m3.zoom = (lat, lon), zoom\n",
    "\n",
    "getImage(1,bands,0.7,m3) # Display sentinel imagery using function from map 1\n",
    "\n",
    "# Add layer for predicted building damages\n",
    "geo_data = GeoData(geo_dataframe = det, style={'color': 'yellow', 'radius':2, 'fillColor': 'yellow', 'opacity':1, 'weight':1.9, 'dashArray':'2', 'fillOpacity':1},\n",
    "                    hover_style={'fillColor': 'red' , 'fillOpacity': 1},\n",
    "                    point_style={'radius': 3, 'color': 'yellow', 'fillOpacity': 0.7, 'fillColor': 'yellow', 'weight': 3},\n",
    "                    name = 'Damages')\n",
    "m3.add_layer(geo_data)\n",
    "\n",
    "# Plot bounding box for damage search\n",
    "poly = gpd.GeoSeries(Polygon.from_bounds(ctx.bounds[0],ctx.bounds[1],ctx.bounds[2],ctx.bounds[3]), crs={'init':ctx.bounds_crs}).to_crs(epsg=4326)\n",
    "box = GeoData(geo_dataframe = gpd.GeoDataFrame(geometry = poly.envelope), style={'color':'black','fillOpacity':0, 'opacity':0.9})\n",
    "m3.add_layer(box)\n",
    "\n",
    "# Legend\n",
    "m3.add_control(LegendControl({\"Detected Change\":\"#FFFF00\",\"Search Area\":\"#000000\"}))\n",
    "\n",
    "m3"
   ]
  },
  {
   "cell_type": "markdown",
   "metadata": {},
   "source": [
    "____________\n",
    "<a id='PredictionAccuracy'></a>\n",
    "## 6. Evaluate Prediction Accuracy\n",
    "Finally, let's compare the prediction to known damages from Copernicus EMS assessments and evaluate the effectiveness of our learnt model.\n",
    "\n",
    "As in the ratio method notebook (`change_detection.ipynb`) we determine the accuracy by evaluating the correspondance of detected change pixels to building footprints. The metrics are as follows:\n",
    "- Precision (proportion of damage detected): $P = \\frac{True Positives}{True Positives + False Positives}$\n",
    "- Recall (proportion of detections corresponding to damage): $R = \\frac{True Positives}{True Positives + False Negatives}$\n",
    "- F1 Score: $F1 = 2x\\frac{P*R}{P+R}$"
   ]
  },
  {
   "cell_type": "code",
   "execution_count": 12,
   "metadata": {},
   "outputs": [
    {
     "name": "stderr",
     "output_type": "stream",
     "text": [
      "100%|██████████| 102/102 [00:00<00:00, 3254.96it/s]"
     ]
    },
    {
     "name": "stdout",
     "output_type": "stream",
     "text": [
      "Changed pixels: 102 \n",
      "Damaged buildings: 1598\n",
      "Accuracy: 1.0 \n",
      "Recall: 0.6176470588235294 \n",
      "F1 score: 0.7636363636363637\n"
     ]
    },
    {
     "name": "stderr",
     "output_type": "stream",
     "text": [
      "\n"
     ]
    }
   ],
   "source": [
    "# Load building damages and filter for within detection area\n",
    "dmg = gpd.read_file(dmgJsons)\n",
    "filtered = gpd.GeoDataFrame(crs={'init': 'epsg:4326'})\n",
    "tilePoly = gpd.GeoSeries(Polygon.from_bounds(ctx.bounds[0],ctx.bounds[1],ctx.bounds[2],ctx.bounds[3]), crs={'init':ctx.bounds_crs}).to_crs(epsg=4326).geometry[0]\n",
    "for i in dmg.index: \n",
    "    if dmg.geometry[i].centroid.within(tilePoly):\n",
    "        filtered = filtered.append(dmg.loc[i])\n",
    "\n",
    "print('Changed pixels:',len(det), '\\nDamaged buildings:',len(dmg))\n",
    "\n",
    "# Initialise accuracy and recall vectors\n",
    "acc, rec = np.zeros([max(filtered.index)+1,1]), np.zeros([max(det.index)+1,1]) # Initialise accuracy, recall arrays\n",
    "\n",
    "# Loop through pixels to determine recall (if pixel corresponds to damaged building)\n",
    "for i in tqdm(det.index):\n",
    "    # Loop through building to determine accuracy (damaged building has been detected)\n",
    "    for j in filtered.index:\n",
    "        if det.geometry[i].within(filtered.geometry[j]):\n",
    "            rec[i,0], acc[j,0] = True, True\n",
    "\n",
    "# Calculate metrics from vector outputs\n",
    "a = sum(acc)/len(filtered)\n",
    "r = sum(rec)/len(det)\n",
    "f1 = 2*(a*r)/(a+r)\n",
    "print('Accuracy:',a[0],'\\nRecall:',r[0],'\\nF1 score:',f1[0])"
   ]
  },
  {
   "cell_type": "code",
   "execution_count": 13,
   "metadata": {},
   "outputs": [
    {
     "data": {
      "application/vnd.jupyter.widget-view+json": {
       "model_id": "c32a7d82027a4f2d8e7d2c1ed8e774d0",
       "version_major": 2,
       "version_minor": 0
      },
      "text/plain": [
       "\n",
       "`ipyleaflet` and/or `ipywidgets` Jupyter extensions are not installed! (or you're not in a Jupyter notebook.)\n",
       "To install for JupyterLab, run this in a cell:\n",
       "    !jupyter labextension install jupyter-leaflet @jupyter-widgets/jupyterlab-manager\n",
       "To install for plain Jupyter Notebook, run this in a cell:\n",
       "    !jupyter nbextension enable --py --sys-prefix ipyleaflet\n",
       "Then, restart the kernel and refresh the webpage.\n"
      ]
     },
     "metadata": {},
     "output_type": "display_data"
    },
    {
     "data": {
      "image/png": "[encoded data removed]",
      "text/plain": [
       "<Figure size 864x576 with 2 Axes>"
      ]
     },
     "metadata": {
      "needs_background": "light"
     },
     "output_type": "display_data"
    }
   ],
   "source": [
    "## Plot success of change detection in matplotlib and save figure\n",
    "# Damage detected true/false\n",
    "filtered['found'] = pd.Series(acc[filtered.index,0], index=filtered.index)\n",
    "filtPlot = filtered.plot(figsize=(12,8), column='found',legend=True,cmap='RdYlGn',alpha = 0.7)\n",
    "\n",
    "# False detection points\n",
    "points = np.vstack([rec[i] for i in det.index])\n",
    "x1, y1 = np.array(det.geometry.x)*(1-points).transpose(), np.array(det.geometry.y)*(1-points).transpose()\n",
    "x1, y1 = x1[x1 != 0], y1[y1 != 0]\n",
    "filtPlot.scatter(x1,y1,s=0.05,color='b', label='False detections')\n",
    "filtPlot.set_xlim([tilePoly.bounds[0], tilePoly.bounds[2]])\n",
    "filtPlot.set_ylim([tilePoly.bounds[1], tilePoly.bounds[3]])\n",
    "\n",
    "# # Set titles and save\n",
    "# plt.set_title('Threshold:'+str(threshold)+', Area:'+str(area)+', Kernel:'+str(kSize)+' - Acc:'+str(a[0])[:6]+', Re:'+str(r[0])[:6])\n",
    "# plt.legend()\n",
    "# plt.figure.savefig('results/'+location+'_t'+str(threshold)[2:]+'a'+str(area)[2:]+'g'+str(len(grades))+str(bands)+'.png')\n",
    "\n",
    "## Display on interactive map\n",
    "# Initialise map\n",
    "m4 = wf.interactive.MapApp()\n",
    "m4.center, m4.zoom = (lat, lon), zoom\n",
    "\n",
    "# Plot background imagery as image 2 using function from map 1\n",
    "getImage(1,bands,0.7,m4)\n",
    "\n",
    "det_data = GeoData(geo_dataframe = det, style={'color': 'blue', 'radius':2, 'fillColor': 'blue', 'opacity':0.7, 'weight':1.9, 'dashArray':'2', 'fillOpacity':0.7},\n",
    "                    point_style={'radius': 3, 'color': 'blue', 'fillOpacity': 0.7, 'fillColor': 'blue', 'weight': 3}, name = 'Damages')\n",
    "m4.add_layer(det_data)\n",
    "\n",
    "# Add layers for building polygons whether red for not found, green for found\n",
    "not_found = GeoData(geo_dataframe = filtered.loc[filtered['found']==0], style={'color': 'red', 'radius':2, 'fillColor': 'red', 'opacity':0.7, 'weight':1.9, 'dashArray':'2', 'fillOpacity':0.7},\n",
    "                    hover_style={'fillColor': 'red' , 'fillOpacity': 0.5},\n",
    "                    name = 'Damages')\n",
    "found = GeoData(geo_dataframe = filtered.loc[filtered['found']==1], style={'color': 'green', 'radius':2, 'fillColor': 'green', 'opacity':0.7, 'weight':1.9, 'dashArray':'2', 'fillOpacity':0.7},\n",
    "                    hover_style={'fillColor': 'green' , 'fillOpacity': 0.5},\n",
    "                    name = 'Damages')\n",
    "m4.add_layer(not_found)\n",
    "m4.add_layer(found)\n",
    "\n",
    "# Plot bounding box for damage search\n",
    "poly = gpd.GeoSeries(Polygon.from_bounds(ctx.bounds[0],ctx.bounds[1],ctx.bounds[2],ctx.bounds[3]), crs={'init':'EPSG:32618'}).to_crs(epsg=4326)\n",
    "box = GeoData(geo_dataframe = gpd.GeoDataFrame(geometry = poly.envelope), style={'color':'yellow','fillOpacity':0, 'opacity':0.9})\n",
    "m4.add_layer(box)\n",
    "\n",
    "# Legend\n",
    "m4.add_control(LegendControl({\"Damage Identified\":\"#008000\", \"Damage Not Identified\":\"#FF0000\", \"Detected Change\":\"#0000FF\", \"Search Area\":\"#FFFF00\"}))\n",
    "\n",
    "m4"
   ]
  },
  {
   "cell_type": "markdown",
   "metadata": {},
   "source": [
    "_________________\n",
    "<a id='TestLocation'></a>\n",
    "## 7. Test Location\n",
    "Beyond predicting for a single tile, we would like to evaluate the model's performance over an arbitrary wider area. For this let's draw a polygon over the desired area. Then, each corresponding tile will individually be fed in to the model for assessing change detection. If over a location with ground data, accuracy will then be evaluated for the combined output for all tiles.\n",
    "> One could question the decision not to just increase tilesize. However not only does this method make the evaluation area more flexible, but also the model does not cater well for tile sizes larger than that for which it was trained due to the input layer structure."
   ]
  },
  {
   "cell_type": "code",
   "execution_count": 14,
   "metadata": {},
   "outputs": [
    {
     "data": {
      "application/vnd.jupyter.widget-view+json": {
       "model_id": "5a6f6f70a5124720b09a29bf06a75113",
       "version_major": 2,
       "version_minor": 0
      },
      "text/plain": [
       "Map(center=[15.3031, -61.3834], controls=(ZoomControl(options=['position', 'zoom_in_text', 'zoom_in_title', 'z…"
      ]
     },
     "metadata": {},
     "output_type": "display_data"
    }
   ],
   "source": [
    "# Display map upon which to draw Polygon for analysis\n",
    "r = 10*area\n",
    "testPoly = ipyleaflet.Polygon(locations=[(lat-r, lon-r), (lat-r, lon+r), (lat+r, lon+r),(lat+r, lon-r)], color=\"yellow\", fill_color=\"yellow\", transform=True)\n",
    "\n",
    "pos = Map(center=(lat, lon), zoom=zoom)\n",
    "if not deployed:\n",
    "    pos.add_layer(geo_data)\n",
    "    pos.add_control(LegendControl({\"Recorded Damage\":\"#FF0000\"})) \n",
    "pos.add_layer(testPoly)\n",
    "\n",
    "pos"
   ]
  },
  {
   "cell_type": "code",
   "execution_count": 15,
   "metadata": {},
   "outputs": [],
   "source": [
    "# Define all functions required for obtaining detections\n",
    "if deployed: # Define functions if not defined in section 5\n",
    "    # Function retrieving appropriate tile of the ratio\n",
    "    def get_ratio_image(dltile_key,ratio,tilesize,bands):\n",
    "        tile = dl.scenes.DLTile.from_key(dltile_key)\n",
    "        sc, ctx = dl.scenes.search(aoi=tile, products=satellite, start_datetime=st_date[0], end_datetime=end_date[0])\n",
    "        return ratio.compute(ctx).ndarray.reshape(tilesize,tilesize,len(bands)) \n",
    "\n",
    "    # Function retrieving desired tile from Sentinel imagery for display\n",
    "    def get_sentinel_image(dltile_key, bands):\n",
    "        tile = dl.scenes.DLTile.from_key(dltile_key)\n",
    "        sc, ctx = dl.scenes.search(aoi=tile, products=satellite, start_datetime=st_date[0], end_datetime=end_date[0])\n",
    "        im = sc.mosaic(bands=bands, ctx=ctx, bands_axis=-1)\n",
    "        return im, ctx\n",
    "    \n",
    "    # Function running predict image for each tile\n",
    "    def predict_image(dltile_key,ratio,tilesize,bands):\n",
    "        print(\"Predict on image for dltile {}\".format(dltile_key))\n",
    "\n",
    "        # load model\n",
    "        model = load_model(modelName)\n",
    "\n",
    "        # get imagery\n",
    "        im = get_ratio_image(dltile_key,ratio,tilesize,bands)\n",
    "\n",
    "        # add batch dimension\n",
    "        im = np.expand_dims(im, axis=0).astype(np.float32)\n",
    "\n",
    "        # predict\n",
    "        pred = model.predict(im)\n",
    "\n",
    "        return im, pred\n",
    "\n",
    "## Function to get detections for each tile\n",
    "def testTile(lat,lon,tilesize,threshold):\n",
    "    tile = dl.scenes.DLTile.from_latlon(lat, lon, resolution=resolution, tilesize=tilesize, pad=pad) # Convert coordinates to nearest descartes labs tile with size of our choosing\n",
    "\n",
    "    im, pred = predict_image(tile.key,ratio,tilesize,bands) # Run prediction function for tile\n",
    "    sent, ctx = get_sentinel_image(tile.key,bands) # Get Sentinel imagery for tile\n",
    "\n",
    "    disting = pred > threshold # Get damaged predictions\n",
    "    \n",
    "    # Extract latitude & longitude of each pixel in prediction (whether true or false)\n",
    "    bounds, disting = ctx.bounds, disting[0,:,:,0] if len(disting.shape) == 4 else disting # Get bounds from tile and reduce extra dimensionality of classification matrix\n",
    "    lats, longs = np.linspace(bounds[3],bounds[1],disting.shape[0]), np.linspace(bounds[0],bounds[2],disting.shape[1]) # Vector of lat, longs\n",
    "\n",
    "    # Create matrix of coordinates for pixels with change detected\n",
    "    xm, ym = np.meshgrid(longs,lats)\n",
    "    xc, yc = xm*(disting), ym*(disting)\n",
    "\n",
    "    # Get geodataframe for pixel points\n",
    "    df = pd.DataFrame(columns=['Northing', 'Easting'])\n",
    "    for i,j in zip(np.nonzero(xc)[0], np.nonzero(xc)[1]):\n",
    "        df = df.append({'Northing': yc[i][j],'Easting': xc[i][j]}, ignore_index=True)\n",
    "    det = gpd.GeoDataFrame(df, crs={'init':ctx.bounds_crs}, geometry=gpd.points_from_xy(df.Easting, df.Northing)).to_crs({'init': 'epsg:4326'})\n",
    "    \n",
    "    return det, ctx    "
   ]
  },
  {
   "cell_type": "markdown",
   "metadata": {},
   "source": [
    "Looping through tiles may take a while depending on polygon size and tile size. About 8 seconds per tile requested on 16GB RAM."
   ]
  },
  {
   "cell_type": "code",
   "execution_count": 16,
   "metadata": {
    "collapsed": true,
    "jupyter": {
     "outputs_hidden": true
    }
   },
   "outputs": [
    {
     "name": "stderr",
     "output_type": "stream",
     "text": [
      "  0%|          | 0/6 [00:00<?, ?it/s]\n",
      "  0%|          | 0/8 [00:00<?, ?it/s]\u001b[A"
     ]
    },
    {
     "name": "stdout",
     "output_type": "stream",
     "text": [
      "Number of tiles requested: 48 . Approximately 384 seconds on 16GB RAM.\n",
      "Predict on image for dltile 16:0:10.0:20:1080:10574\n",
      "\n",
      "Job ID: 271c50543c002adf2b23d279c5f743d7e8c7a2bba686b3d5\n",
      "[######] | Steps: 109/109 | Stage: SUCCEEDED                                  "
     ]
    },
    {
     "name": "stderr",
     "output_type": "stream",
     "text": [
      "\n",
      " 12%|█▎        | 1/8 [00:14<01:44, 14.88s/it]\u001b[A"
     ]
    },
    {
     "name": "stdout",
     "output_type": "stream",
     "text": [
      "Predict on image for dltile 16:0:10.0:20:1081:10574\n",
      "\n",
      "Job ID: 1e560c173295a26237dce7d94d2af8499455d551a39b6a9e\n",
      "[######] | Steps: 109/109 | Stage: SUCCEEDED                                  "
     ]
    },
    {
     "name": "stderr",
     "output_type": "stream",
     "text": [
      "\n",
      " 25%|██▌       | 2/8 [00:27<01:24, 14.06s/it]\u001b[A"
     ]
    },
    {
     "name": "stdout",
     "output_type": "stream",
     "text": [
      "Predict on image for dltile 16:0:10.0:20:1083:10574\n",
      "\n",
      "Job ID: 6a40449c92d8d1a52ce3e27df7135298bc4985fa54d0c38c\n",
      "[######] | Steps: 109/109 | Stage: SUCCEEDED                                  "
     ]
    },
    {
     "name": "stderr",
     "output_type": "stream",
     "text": [
      "\n",
      " 38%|███▊      | 3/8 [00:37<01:05, 13.02s/it]\u001b[A"
     ]
    },
    {
     "name": "stdout",
     "output_type": "stream",
     "text": [
      "Predict on image for dltile 16:0:10.0:20:1084:10574\n",
      "\n",
      "Job ID: cd9b64cc721aeb29c86ca82bb89e068de0975914a81d3a09\n",
      "[######] | Steps: 109/109 | Stage: SUCCEEDED                                  WARNING:tensorflow:5 out of the last 5 calls to <function Model.make_predict_function.<locals>.predict_function at 0x7fa314d46b00> triggered tf.function retracing. Tracing is expensive and the excessive number of tracings could be due to (1) creating @tf.function repeatedly in a loop, (2) passing tensors with different shapes, (3) passing Python objects instead of tensors. For (1), please define your @tf.function outside of the loop. For (2), @tf.function has experimental_relax_shapes=True option that relaxes argument shapes that can avoid unnecessary retracing. For (3), please refer to https://www.tensorflow.org/tutorials/customization/performance#python_or_tensor_args and https://www.tensorflow.org/api_docs/python/tf/function for  more details.\n"
     ]
    },
    {
     "name": "stderr",
     "output_type": "stream",
     "text": [
      "\n",
      " 50%|█████     | 4/8 [00:49<00:50, 12.54s/it]\u001b[A"
     ]
    },
    {
     "name": "stdout",
     "output_type": "stream",
     "text": [
      "Predict on image for dltile 16:0:10.0:20:1085:10574\n",
      "\n",
      "Job ID: 4b980ee453fb9987229c547075c725867ca3b1640b4b880e\n",
      "[######] | Steps: 109/109 | Stage: SUCCEEDED                                  WARNING:tensorflow:6 out of the last 6 calls to <function Model.make_predict_function.<locals>.predict_function at 0x7fa314cc2200> triggered tf.function retracing. Tracing is expensive and the excessive number of tracings could be due to (1) creating @tf.function repeatedly in a loop, (2) passing tensors with different shapes, (3) passing Python objects instead of tensors. For (1), please define your @tf.function outside of the loop. For (2), @tf.function has experimental_relax_shapes=True option that relaxes argument shapes that can avoid unnecessary retracing. For (3), please refer to https://www.tensorflow.org/tutorials/customization/performance#python_or_tensor_args and https://www.tensorflow.org/api_docs/python/tf/function for  more details.\n"
     ]
    },
    {
     "name": "stderr",
     "output_type": "stream",
     "text": [
      "\n",
      " 62%|██████▎   | 5/8 [01:00<00:36, 12.19s/it]\u001b[A"
     ]
    },
    {
     "name": "stdout",
     "output_type": "stream",
     "text": [
      "Predict on image for dltile 16:0:10.0:20:1086:10574\n",
      "\n",
      "Job ID: f75460a303c534139f8c0a209530eb86a91636f88a8aac94\n",
      "[######] | Steps: 109/109 | Stage: SUCCEEDED                                  WARNING:tensorflow:7 out of the last 7 calls to <function Model.make_predict_function.<locals>.predict_function at 0x7fa308c1fef0> triggered tf.function retracing. Tracing is expensive and the excessive number of tracings could be due to (1) creating @tf.function repeatedly in a loop, (2) passing tensors with different shapes, (3) passing Python objects instead of tensors. For (1), please define your @tf.function outside of the loop. For (2), @tf.function has experimental_relax_shapes=True option that relaxes argument shapes that can avoid unnecessary retracing. For (3), please refer to https://www.tensorflow.org/tutorials/customization/performance#python_or_tensor_args and https://www.tensorflow.org/api_docs/python/tf/function for  more details.\n"
     ]
    },
    {
     "name": "stderr",
     "output_type": "stream",
     "text": [
      "\n",
      " 75%|███████▌  | 6/8 [01:10<00:22, 11.41s/it]\u001b[A"
     ]
    },
    {
     "name": "stdout",
     "output_type": "stream",
     "text": [
      "Predict on image for dltile 16:0:10.0:20:1087:10574\n",
      "\n",
      "Job ID: 55c81a511b993524bdafceef59f1d1897dfffe2a3dbdf6c2\n",
      "[######] | Steps: 109/109 | Stage: SUCCEEDED                                  WARNING:tensorflow:8 out of the last 8 calls to <function Model.make_predict_function.<locals>.predict_function at 0x7fa308a4f8c0> triggered tf.function retracing. Tracing is expensive and the excessive number of tracings could be due to (1) creating @tf.function repeatedly in a loop, (2) passing tensors with different shapes, (3) passing Python objects instead of tensors. For (1), please define your @tf.function outside of the loop. For (2), @tf.function has experimental_relax_shapes=True option that relaxes argument shapes that can avoid unnecessary retracing. For (3), please refer to https://www.tensorflow.org/tutorials/customization/performance#python_or_tensor_args and https://www.tensorflow.org/api_docs/python/tf/function for  more details.\n"
     ]
    },
    {
     "name": "stderr",
     "output_type": "stream",
     "text": [
      "\n",
      " 88%|████████▊ | 7/8 [01:21<00:11, 11.33s/it]\u001b[A"
     ]
    },
    {
     "name": "stdout",
     "output_type": "stream",
     "text": [
      "Predict on image for dltile 16:0:10.0:20:1088:10574\n",
      "\n",
      "Job ID: 7408f1b0d6dbc9c0f0768af3784c2b1f09cd70c94816bbae\n",
      "[######] | Steps: 109/109 | Stage: SUCCEEDED                                  WARNING:tensorflow:9 out of the last 9 calls to <function Model.make_predict_function.<locals>.predict_function at 0x7fa2fcac05f0> triggered tf.function retracing. Tracing is expensive and the excessive number of tracings could be due to (1) creating @tf.function repeatedly in a loop, (2) passing tensors with different shapes, (3) passing Python objects instead of tensors. For (1), please define your @tf.function outside of the loop. For (2), @tf.function has experimental_relax_shapes=True option that relaxes argument shapes that can avoid unnecessary retracing. For (3), please refer to https://www.tensorflow.org/tutorials/customization/performance#python_or_tensor_args and https://www.tensorflow.org/api_docs/python/tf/function for  more details.\n"
     ]
    },
    {
     "name": "stderr",
     "output_type": "stream",
     "text": [
      "\n",
      "100%|██████████| 8/8 [01:30<00:00, 11.37s/it]\u001b[A\n",
      " 17%|█▋        | 1/6 [01:30<07:34, 91.00s/it]\n",
      "  0%|          | 0/8 [00:00<?, ?it/s]\u001b[A"
     ]
    },
    {
     "name": "stdout",
     "output_type": "stream",
     "text": [
      "Predict on image for dltile 16:0:10.0:20:1080:10576\n",
      "\n",
      "Job ID: c21ff31aa898af89f8d0b5ac5f51db50bb4732db5e64cf30\n",
      "[######] | Steps: 109/109 | Stage: SUCCEEDED                                  WARNING:tensorflow:10 out of the last 10 calls to <function Model.make_predict_function.<locals>.predict_function at 0x7fa2f1195950> triggered tf.function retracing. Tracing is expensive and the excessive number of tracings could be due to (1) creating @tf.function repeatedly in a loop, (2) passing tensors with different shapes, (3) passing Python objects instead of tensors. For (1), please define your @tf.function outside of the loop. For (2), @tf.function has experimental_relax_shapes=True option that relaxes argument shapes that can avoid unnecessary retracing. For (3), please refer to https://www.tensorflow.org/tutorials/customization/performance#python_or_tensor_args and https://www.tensorflow.org/api_docs/python/tf/function for  more details.\n"
     ]
    },
    {
     "name": "stderr",
     "output_type": "stream",
     "text": [
      "\n",
      " 12%|█▎        | 1/8 [00:11<01:21, 11.66s/it]\u001b[A"
     ]
    },
    {
     "name": "stdout",
     "output_type": "stream",
     "text": [
      "Predict on image for dltile 16:0:10.0:20:1081:10576\n",
      "\n",
      "Job ID: 66a6066a3b2526fdd02abac6323d4898bef39596c3b4b9cc\n",
      "[######] | Steps: 109/109 | Stage: SUCCEEDED                                  WARNING:tensorflow:11 out of the last 11 calls to <function Model.make_predict_function.<locals>.predict_function at 0x7fa31445e170> triggered tf.function retracing. Tracing is expensive and the excessive number of tracings could be due to (1) creating @tf.function repeatedly in a loop, (2) passing tensors with different shapes, (3) passing Python objects instead of tensors. For (1), please define your @tf.function outside of the loop. For (2), @tf.function has experimental_relax_shapes=True option that relaxes argument shapes that can avoid unnecessary retracing. For (3), please refer to https://www.tensorflow.org/tutorials/customization/performance#python_or_tensor_args and https://www.tensorflow.org/api_docs/python/tf/function for  more details.\n"
     ]
    },
    {
     "name": "stderr",
     "output_type": "stream",
     "text": [
      "\n",
      " 25%|██▌       | 2/8 [00:18<01:00, 10.08s/it]\u001b[A"
     ]
    },
    {
     "name": "stdout",
     "output_type": "stream",
     "text": [
      "Predict on image for dltile 16:0:10.0:20:1083:10576\n",
      "\n",
      "Job ID: 50ecf4b5850d5fe3fad68d77e9dad52b8ea8437ba8728b60\n",
      "[######] | Steps: 109/109 | Stage: SUCCEEDED                                  WARNING:tensorflow:11 out of the last 11 calls to <function Model.make_predict_function.<locals>.predict_function at 0x7fa2e58fef80> triggered tf.function retracing. Tracing is expensive and the excessive number of tracings could be due to (1) creating @tf.function repeatedly in a loop, (2) passing tensors with different shapes, (3) passing Python objects instead of tensors. For (1), please define your @tf.function outside of the loop. For (2), @tf.function has experimental_relax_shapes=True option that relaxes argument shapes that can avoid unnecessary retracing. For (3), please refer to https://www.tensorflow.org/tutorials/customization/performance#python_or_tensor_args and https://www.tensorflow.org/api_docs/python/tf/function for  more details.\n"
     ]
    },
    {
     "name": "stderr",
     "output_type": "stream",
     "text": [
      "\n",
      " 38%|███▊      | 3/8 [00:29<00:51, 10.36s/it]\u001b[A"
     ]
    },
    {
     "name": "stdout",
     "output_type": "stream",
     "text": [
      "Predict on image for dltile 16:0:10.0:20:1084:10576\n",
      "\n",
      "Job ID: 00030c0eb59255cccf00f08f709fef31cdb280d0f35b6eb8\n",
      "[######] | Steps: 109/109 | Stage: SUCCEEDED                                  WARNING:tensorflow:11 out of the last 11 calls to <function Model.make_predict_function.<locals>.predict_function at 0x7fa2ddfa7830> triggered tf.function retracing. Tracing is expensive and the excessive number of tracings could be due to (1) creating @tf.function repeatedly in a loop, (2) passing tensors with different shapes, (3) passing Python objects instead of tensors. For (1), please define your @tf.function outside of the loop. For (2), @tf.function has experimental_relax_shapes=True option that relaxes argument shapes that can avoid unnecessary retracing. For (3), please refer to https://www.tensorflow.org/tutorials/customization/performance#python_or_tensor_args and https://www.tensorflow.org/api_docs/python/tf/function for  more details.\n"
     ]
    },
    {
     "name": "stderr",
     "output_type": "stream",
     "text": [
      "\n",
      " 50%|█████     | 4/8 [00:35<00:36,  9.11s/it]\u001b[A"
     ]
    },
    {
     "name": "stdout",
     "output_type": "stream",
     "text": [
      "Predict on image for dltile 16:0:10.0:20:1085:10576\n",
      "\n",
      "Job ID: b1a6ea69998fbaa58f4c4c8276d6c54c3319835e481d02a9\n",
      "[######] | Steps: 109/109 | Stage: SUCCEEDED                                  WARNING:tensorflow:11 out of the last 11 calls to <function Model.make_predict_function.<locals>.predict_function at 0x7fa2dde1bb90> triggered tf.function retracing. Tracing is expensive and the excessive number of tracings could be due to (1) creating @tf.function repeatedly in a loop, (2) passing tensors with different shapes, (3) passing Python objects instead of tensors. For (1), please define your @tf.function outside of the loop. For (2), @tf.function has experimental_relax_shapes=True option that relaxes argument shapes that can avoid unnecessary retracing. For (3), please refer to https://www.tensorflow.org/tutorials/customization/performance#python_or_tensor_args and https://www.tensorflow.org/api_docs/python/tf/function for  more details.\n"
     ]
    },
    {
     "name": "stderr",
     "output_type": "stream",
     "text": [
      "\n",
      " 62%|██████▎   | 5/8 [00:46<00:29,  9.71s/it]\u001b[A"
     ]
    },
    {
     "name": "stdout",
     "output_type": "stream",
     "text": [
      "Predict on image for dltile 16:0:10.0:20:1086:10576\n",
      "\n",
      "Job ID: cb6f026a13f6af2459a11f5303920893e62371983c0f16da\n",
      "[######] | Steps: 109/109 | Stage: SUCCEEDED                                  WARNING:tensorflow:11 out of the last 11 calls to <function Model.make_predict_function.<locals>.predict_function at 0x7fa2dc71e7a0> triggered tf.function retracing. Tracing is expensive and the excessive number of tracings could be due to (1) creating @tf.function repeatedly in a loop, (2) passing tensors with different shapes, (3) passing Python objects instead of tensors. For (1), please define your @tf.function outside of the loop. For (2), @tf.function has experimental_relax_shapes=True option that relaxes argument shapes that can avoid unnecessary retracing. For (3), please refer to https://www.tensorflow.org/tutorials/customization/performance#python_or_tensor_args and https://www.tensorflow.org/api_docs/python/tf/function for  more details.\n"
     ]
    },
    {
     "name": "stderr",
     "output_type": "stream",
     "text": [
      "\n",
      " 75%|███████▌  | 6/8 [00:56<00:19,  9.79s/it]\u001b[A"
     ]
    },
    {
     "name": "stdout",
     "output_type": "stream",
     "text": [
      "Predict on image for dltile 16:0:10.0:20:1087:10576\n",
      "\n",
      "Job ID: 0799ffcd4f0d6ec8e91a7faef97bd7e0288416a4a636841a\n",
      "[######] | Steps: 109/109 | Stage: SUCCEEDED                                  WARNING:tensorflow:11 out of the last 11 calls to <function Model.make_predict_function.<locals>.predict_function at 0x7fa2d2de7200> triggered tf.function retracing. Tracing is expensive and the excessive number of tracings could be due to (1) creating @tf.function repeatedly in a loop, (2) passing tensors with different shapes, (3) passing Python objects instead of tensors. For (1), please define your @tf.function outside of the loop. For (2), @tf.function has experimental_relax_shapes=True option that relaxes argument shapes that can avoid unnecessary retracing. For (3), please refer to https://www.tensorflow.org/tutorials/customization/performance#python_or_tensor_args and https://www.tensorflow.org/api_docs/python/tf/function for  more details.\n"
     ]
    },
    {
     "name": "stderr",
     "output_type": "stream",
     "text": [
      "\n",
      " 88%|████████▊ | 7/8 [01:02<00:08,  8.69s/it]\u001b[A"
     ]
    },
    {
     "name": "stdout",
     "output_type": "stream",
     "text": [
      "Predict on image for dltile 16:0:10.0:20:1088:10576\n",
      "\n",
      "Job ID: fc4d96032cdcfcf7f8e05c15e9a5e70745aace182069a978\n",
      "[######] | Steps: 109/109 | Stage: SUCCEEDED                                  WARNING:tensorflow:11 out of the last 11 calls to <function Model.make_predict_function.<locals>.predict_function at 0x7fa2d14dad40> triggered tf.function retracing. Tracing is expensive and the excessive number of tracings could be due to (1) creating @tf.function repeatedly in a loop, (2) passing tensors with different shapes, (3) passing Python objects instead of tensors. For (1), please define your @tf.function outside of the loop. For (2), @tf.function has experimental_relax_shapes=True option that relaxes argument shapes that can avoid unnecessary retracing. For (3), please refer to https://www.tensorflow.org/tutorials/customization/performance#python_or_tensor_args and https://www.tensorflow.org/api_docs/python/tf/function for  more details.\n"
     ]
    },
    {
     "name": "stderr",
     "output_type": "stream",
     "text": [
      "\n",
      "100%|██████████| 8/8 [01:08<00:00,  8.60s/it]\u001b[A\n",
      " 33%|███▎      | 2/6 [02:39<05:37, 84.34s/it]\n",
      "  0%|          | 0/8 [00:00<?, ?it/s]\u001b[A"
     ]
    },
    {
     "name": "stdout",
     "output_type": "stream",
     "text": [
      "Predict on image for dltile 16:0:10.0:20:1080:10577\n",
      "\n",
      "Job ID: f2c608d7edb6b0592259144490f61e6795f89d9fc04494df\n",
      "[######] | Steps: 109/109 | Stage: SUCCEEDED                                  WARNING:tensorflow:11 out of the last 11 calls to <function Model.make_predict_function.<locals>.predict_function at 0x7fa2d2c47b00> triggered tf.function retracing. Tracing is expensive and the excessive number of tracings could be due to (1) creating @tf.function repeatedly in a loop, (2) passing tensors with different shapes, (3) passing Python objects instead of tensors. For (1), please define your @tf.function outside of the loop. For (2), @tf.function has experimental_relax_shapes=True option that relaxes argument shapes that can avoid unnecessary retracing. For (3), please refer to https://www.tensorflow.org/tutorials/customization/performance#python_or_tensor_args and https://www.tensorflow.org/api_docs/python/tf/function for  more details.\n"
     ]
    },
    {
     "name": "stderr",
     "output_type": "stream",
     "text": [
      "\n",
      " 12%|█▎        | 1/8 [00:13<01:31, 13.07s/it]\u001b[A"
     ]
    },
    {
     "name": "stdout",
     "output_type": "stream",
     "text": [
      "Predict on image for dltile 16:0:10.0:20:1081:10577\n",
      "\n",
      "Job ID: 14f8835b2743533890455152eb8d5a0dfdf65623e9001ede\n",
      "[######] | Steps: 109/109 | Stage: SUCCEEDED                                  WARNING:tensorflow:11 out of the last 11 calls to <function Model.make_predict_function.<locals>.predict_function at 0x7fa2d0accd40> triggered tf.function retracing. Tracing is expensive and the excessive number of tracings could be due to (1) creating @tf.function repeatedly in a loop, (2) passing tensors with different shapes, (3) passing Python objects instead of tensors. For (1), please define your @tf.function outside of the loop. For (2), @tf.function has experimental_relax_shapes=True option that relaxes argument shapes that can avoid unnecessary retracing. For (3), please refer to https://www.tensorflow.org/tutorials/customization/performance#python_or_tensor_args and https://www.tensorflow.org/api_docs/python/tf/function for  more details.\n"
     ]
    },
    {
     "name": "stderr",
     "output_type": "stream",
     "text": [
      "\n",
      " 25%|██▌       | 2/8 [00:24<01:14, 12.50s/it]\u001b[A"
     ]
    },
    {
     "name": "stdout",
     "output_type": "stream",
     "text": [
      "Predict on image for dltile 16:0:10.0:20:1083:10577\n",
      "\n",
      "Job ID: 71893ae6a62d7fdc3d67340045d94a6561b60704a8508e0b\n",
      "[######] | Steps: 109/109 | Stage: SUCCEEDED                                  WARNING:tensorflow:11 out of the last 11 calls to <function Model.make_predict_function.<locals>.predict_function at 0x7fa2ceb9d830> triggered tf.function retracing. Tracing is expensive and the excessive number of tracings could be due to (1) creating @tf.function repeatedly in a loop, (2) passing tensors with different shapes, (3) passing Python objects instead of tensors. For (1), please define your @tf.function outside of the loop. For (2), @tf.function has experimental_relax_shapes=True option that relaxes argument shapes that can avoid unnecessary retracing. For (3), please refer to https://www.tensorflow.org/tutorials/customization/performance#python_or_tensor_args and https://www.tensorflow.org/api_docs/python/tf/function for  more details.\n"
     ]
    },
    {
     "name": "stderr",
     "output_type": "stream",
     "text": [
      "\n",
      " 38%|███▊      | 3/8 [00:35<01:00, 12.11s/it]\u001b[A"
     ]
    },
    {
     "name": "stdout",
     "output_type": "stream",
     "text": [
      "Predict on image for dltile 16:0:10.0:20:1084:10577\n",
      "\n",
      "Job ID: 4d92d94914a2407f446dc02fbaf4dabfb683a67c914a8125\n",
      "[######] | Steps: 109/109 | Stage: SUCCEEDED                                  WARNING:tensorflow:11 out of the last 11 calls to <function Model.make_predict_function.<locals>.predict_function at 0x7fa2cd2940e0> triggered tf.function retracing. Tracing is expensive and the excessive number of tracings could be due to (1) creating @tf.function repeatedly in a loop, (2) passing tensors with different shapes, (3) passing Python objects instead of tensors. For (1), please define your @tf.function outside of the loop. For (2), @tf.function has experimental_relax_shapes=True option that relaxes argument shapes that can avoid unnecessary retracing. For (3), please refer to https://www.tensorflow.org/tutorials/customization/performance#python_or_tensor_args and https://www.tensorflow.org/api_docs/python/tf/function for  more details.\n"
     ]
    },
    {
     "name": "stderr",
     "output_type": "stream",
     "text": [
      "\n",
      " 50%|█████     | 4/8 [00:54<00:56, 14.11s/it]\u001b[A"
     ]
    },
    {
     "name": "stdout",
     "output_type": "stream",
     "text": [
      "Predict on image for dltile 16:0:10.0:20:1085:10577\n",
      "\n",
      "Job ID: 717b819fee03c3296afb98666b98602186ac8386de79dab7\n",
      "[######] | Steps: 109/109 | Stage: SUCCEEDED                                  WARNING:tensorflow:11 out of the last 11 calls to <function Model.make_predict_function.<locals>.predict_function at 0x7fa2cb9a0830> triggered tf.function retracing. Tracing is expensive and the excessive number of tracings could be due to (1) creating @tf.function repeatedly in a loop, (2) passing tensors with different shapes, (3) passing Python objects instead of tensors. For (1), please define your @tf.function outside of the loop. For (2), @tf.function has experimental_relax_shapes=True option that relaxes argument shapes that can avoid unnecessary retracing. For (3), please refer to https://www.tensorflow.org/tutorials/customization/performance#python_or_tensor_args and https://www.tensorflow.org/api_docs/python/tf/function for  more details.\n"
     ]
    },
    {
     "name": "stderr",
     "output_type": "stream",
     "text": [
      "\n",
      " 62%|██████▎   | 5/8 [01:00<00:35, 11.78s/it]\u001b[A"
     ]
    },
    {
     "name": "stdout",
     "output_type": "stream",
     "text": [
      "Predict on image for dltile 16:0:10.0:20:1086:10577\n",
      "\n",
      "Job ID: 81a07a383707d907fce31ffa7b73df2197503505f9024bae\n",
      "[######] | Steps: 109/109 | Stage: SUCCEEDED                                  WARNING:tensorflow:11 out of the last 11 calls to <function Model.make_predict_function.<locals>.predict_function at 0x7fa2cd24af80> triggered tf.function retracing. Tracing is expensive and the excessive number of tracings could be due to (1) creating @tf.function repeatedly in a loop, (2) passing tensors with different shapes, (3) passing Python objects instead of tensors. For (1), please define your @tf.function outside of the loop. For (2), @tf.function has experimental_relax_shapes=True option that relaxes argument shapes that can avoid unnecessary retracing. For (3), please refer to https://www.tensorflow.org/tutorials/customization/performance#python_or_tensor_args and https://www.tensorflow.org/api_docs/python/tf/function for  more details.\n"
     ]
    },
    {
     "name": "stderr",
     "output_type": "stream",
     "text": [
      "\n",
      " 75%|███████▌  | 6/8 [01:07<00:20, 10.40s/it]\u001b[A"
     ]
    },
    {
     "name": "stdout",
     "output_type": "stream",
     "text": [
      "Predict on image for dltile 16:0:10.0:20:1087:10577\n",
      "\n",
      "Job ID: 2faa670814f8cc7c00f76c971cbfebe4e2f5a73f913e4b4d\n",
      "[######] | Steps: 109/109 | Stage: SUCCEEDED                                  WARNING:tensorflow:11 out of the last 11 calls to <function Model.make_predict_function.<locals>.predict_function at 0x7fa2cd24a290> triggered tf.function retracing. Tracing is expensive and the excessive number of tracings could be due to (1) creating @tf.function repeatedly in a loop, (2) passing tensors with different shapes, (3) passing Python objects instead of tensors. For (1), please define your @tf.function outside of the loop. For (2), @tf.function has experimental_relax_shapes=True option that relaxes argument shapes that can avoid unnecessary retracing. For (3), please refer to https://www.tensorflow.org/tutorials/customization/performance#python_or_tensor_args and https://www.tensorflow.org/api_docs/python/tf/function for  more details.\n"
     ]
    },
    {
     "name": "stderr",
     "output_type": "stream",
     "text": [
      "\n",
      " 88%|████████▊ | 7/8 [01:20<00:10, 10.99s/it]\u001b[A"
     ]
    },
    {
     "name": "stdout",
     "output_type": "stream",
     "text": [
      "Predict on image for dltile 16:0:10.0:20:1088:10577\n",
      "\n",
      "Job ID: 7e972ff2fd9c897e1eef2a86e85377fb2f6a2049dd8082a5\n",
      "[######] | Steps: 109/109 | Stage: SUCCEEDED                                  WARNING:tensorflow:11 out of the last 11 calls to <function Model.make_predict_function.<locals>.predict_function at 0x7fa2c98dfef0> triggered tf.function retracing. Tracing is expensive and the excessive number of tracings could be due to (1) creating @tf.function repeatedly in a loop, (2) passing tensors with different shapes, (3) passing Python objects instead of tensors. For (1), please define your @tf.function outside of the loop. For (2), @tf.function has experimental_relax_shapes=True option that relaxes argument shapes that can avoid unnecessary retracing. For (3), please refer to https://www.tensorflow.org/tutorials/customization/performance#python_or_tensor_args and https://www.tensorflow.org/api_docs/python/tf/function for  more details.\n"
     ]
    },
    {
     "name": "stderr",
     "output_type": "stream",
     "text": [
      "\n",
      "100%|██████████| 8/8 [01:26<00:00, 10.81s/it]\u001b[A\n",
      " 50%|█████     | 3/6 [04:06<04:14, 84.97s/it]\n",
      "  0%|          | 0/8 [00:00<?, ?it/s]\u001b[A"
     ]
    },
    {
     "name": "stdout",
     "output_type": "stream",
     "text": [
      "Predict on image for dltile 16:0:10.0:20:1080:10578\n",
      "\n",
      "Job ID: 0adc483dba20ed660c98489bf746c316d24f5d5510979e55\n",
      "[######] | Steps: 109/109 | Stage: SUCCEEDED                                  WARNING:tensorflow:11 out of the last 11 calls to <function Model.make_predict_function.<locals>.predict_function at 0x7fa2c7fd9d40> triggered tf.function retracing. Tracing is expensive and the excessive number of tracings could be due to (1) creating @tf.function repeatedly in a loop, (2) passing tensors with different shapes, (3) passing Python objects instead of tensors. For (1), please define your @tf.function outside of the loop. For (2), @tf.function has experimental_relax_shapes=True option that relaxes argument shapes that can avoid unnecessary retracing. For (3), please refer to https://www.tensorflow.org/tutorials/customization/performance#python_or_tensor_args and https://www.tensorflow.org/api_docs/python/tf/function for  more details.\n"
     ]
    },
    {
     "name": "stderr",
     "output_type": "stream",
     "text": [
      "\n",
      " 12%|█▎        | 1/8 [00:06<00:45,  6.49s/it]\u001b[A"
     ]
    },
    {
     "name": "stdout",
     "output_type": "stream",
     "text": [
      "Predict on image for dltile 16:0:10.0:20:1081:10578\n",
      "\n",
      "Job ID: f09d770471cdb2caf5b06535a697e3c5d0fa9b4bfd8127b1\n",
      "[######] | Steps: 109/109 | Stage: SUCCEEDED                                  WARNING:tensorflow:11 out of the last 11 calls to <function Model.make_predict_function.<locals>.predict_function at 0x7fa2c66e7050> triggered tf.function retracing. Tracing is expensive and the excessive number of tracings could be due to (1) creating @tf.function repeatedly in a loop, (2) passing tensors with different shapes, (3) passing Python objects instead of tensors. For (1), please define your @tf.function outside of the loop. For (2), @tf.function has experimental_relax_shapes=True option that relaxes argument shapes that can avoid unnecessary retracing. For (3), please refer to https://www.tensorflow.org/tutorials/customization/performance#python_or_tensor_args and https://www.tensorflow.org/api_docs/python/tf/function for  more details.\n"
     ]
    },
    {
     "name": "stderr",
     "output_type": "stream",
     "text": [
      "\n",
      " 25%|██▌       | 2/8 [00:13<00:40,  6.71s/it]\u001b[A"
     ]
    },
    {
     "name": "stdout",
     "output_type": "stream",
     "text": [
      "Predict on image for dltile 16:0:10.0:20:1083:10578\n",
      "\n",
      "Job ID: d1668d11495b00d7158e120b10f9e4b6a18f7c5e139d65e3\n",
      "[######] | Steps: 109/109 | Stage: SUCCEEDED                                  WARNING:tensorflow:11 out of the last 11 calls to <function Model.make_predict_function.<locals>.predict_function at 0x7fa77c379cb0> triggered tf.function retracing. Tracing is expensive and the excessive number of tracings could be due to (1) creating @tf.function repeatedly in a loop, (2) passing tensors with different shapes, (3) passing Python objects instead of tensors. For (1), please define your @tf.function outside of the loop. For (2), @tf.function has experimental_relax_shapes=True option that relaxes argument shapes that can avoid unnecessary retracing. For (3), please refer to https://www.tensorflow.org/tutorials/customization/performance#python_or_tensor_args and https://www.tensorflow.org/api_docs/python/tf/function for  more details.\n"
     ]
    },
    {
     "name": "stderr",
     "output_type": "stream",
     "text": [
      "\n",
      " 38%|███▊      | 3/8 [00:21<00:34,  6.92s/it]\u001b[A"
     ]
    },
    {
     "name": "stdout",
     "output_type": "stream",
     "text": [
      "Predict on image for dltile 16:0:10.0:20:1084:10578\n",
      "\n",
      "Job ID: 206628d5632bc493cadd2544cedc87f9e38da94a67bda5c3\n",
      "[######] | Steps: 109/109 | Stage: SUCCEEDED                                  WARNING:tensorflow:11 out of the last 11 calls to <function Model.make_predict_function.<locals>.predict_function at 0x7fa2c6656950> triggered tf.function retracing. Tracing is expensive and the excessive number of tracings could be due to (1) creating @tf.function repeatedly in a loop, (2) passing tensors with different shapes, (3) passing Python objects instead of tensors. For (1), please define your @tf.function outside of the loop. For (2), @tf.function has experimental_relax_shapes=True option that relaxes argument shapes that can avoid unnecessary retracing. For (3), please refer to https://www.tensorflow.org/tutorials/customization/performance#python_or_tensor_args and https://www.tensorflow.org/api_docs/python/tf/function for  more details.\n"
     ]
    },
    {
     "name": "stderr",
     "output_type": "stream",
     "text": [
      "\n",
      " 50%|█████     | 4/8 [00:27<00:27,  6.75s/it]\u001b[A"
     ]
    },
    {
     "name": "stdout",
     "output_type": "stream",
     "text": [
      "Predict on image for dltile 16:0:10.0:20:1085:10578\n",
      "\n",
      "Job ID: f81d0ba5abdc70b0c9826c1fbf0632c69a6e137a1083d40a\n",
      "[######] | Steps: 109/109 | Stage: SUCCEEDED                                  WARNING:tensorflow:11 out of the last 11 calls to <function Model.make_predict_function.<locals>.predict_function at 0x7fa2c45f8320> triggered tf.function retracing. Tracing is expensive and the excessive number of tracings could be due to (1) creating @tf.function repeatedly in a loop, (2) passing tensors with different shapes, (3) passing Python objects instead of tensors. For (1), please define your @tf.function outside of the loop. For (2), @tf.function has experimental_relax_shapes=True option that relaxes argument shapes that can avoid unnecessary retracing. For (3), please refer to https://www.tensorflow.org/tutorials/customization/performance#python_or_tensor_args and https://www.tensorflow.org/api_docs/python/tf/function for  more details.\n"
     ]
    },
    {
     "name": "stderr",
     "output_type": "stream",
     "text": [
      "\n",
      " 62%|██████▎   | 5/8 [00:40<00:25,  8.58s/it]\u001b[A"
     ]
    },
    {
     "name": "stdout",
     "output_type": "stream",
     "text": [
      "Predict on image for dltile 16:0:10.0:20:1086:10578\n",
      "\n",
      "Job ID: bde7aba4b2af1d0db7f6f6523468069f7e59948b462c6120\n",
      "[######] | Steps: 109/109 | Stage: SUCCEEDED                                  WARNING:tensorflow:11 out of the last 11 calls to <function Model.make_predict_function.<locals>.predict_function at 0x7fa2c2d01cb0> triggered tf.function retracing. Tracing is expensive and the excessive number of tracings could be due to (1) creating @tf.function repeatedly in a loop, (2) passing tensors with different shapes, (3) passing Python objects instead of tensors. For (1), please define your @tf.function outside of the loop. For (2), @tf.function has experimental_relax_shapes=True option that relaxes argument shapes that can avoid unnecessary retracing. For (3), please refer to https://www.tensorflow.org/tutorials/customization/performance#python_or_tensor_args and https://www.tensorflow.org/api_docs/python/tf/function for  more details.\n"
     ]
    },
    {
     "name": "stderr",
     "output_type": "stream",
     "text": [
      "\n",
      " 75%|███████▌  | 6/8 [00:51<00:18,  9.22s/it]\u001b[A"
     ]
    },
    {
     "name": "stdout",
     "output_type": "stream",
     "text": [
      "Predict on image for dltile 16:0:10.0:20:1087:10578\n",
      "\n",
      "Job ID: 1f5f11ced3d2a5133cd7edf2a2483f2e4bd97de3fab48e6e\n",
      "[######] | Steps: 109/109 | Stage: SUCCEEDED                                  WARNING:tensorflow:11 out of the last 11 calls to <function Model.make_predict_function.<locals>.predict_function at 0x7fa2c1401f80> triggered tf.function retracing. Tracing is expensive and the excessive number of tracings could be due to (1) creating @tf.function repeatedly in a loop, (2) passing tensors with different shapes, (3) passing Python objects instead of tensors. For (1), please define your @tf.function outside of the loop. For (2), @tf.function has experimental_relax_shapes=True option that relaxes argument shapes that can avoid unnecessary retracing. For (3), please refer to https://www.tensorflow.org/tutorials/customization/performance#python_or_tensor_args and https://www.tensorflow.org/api_docs/python/tf/function for  more details.\n"
     ]
    },
    {
     "name": "stderr",
     "output_type": "stream",
     "text": [
      "\n",
      " 88%|████████▊ | 7/8 [00:58<00:08,  8.56s/it]\u001b[A"
     ]
    },
    {
     "name": "stdout",
     "output_type": "stream",
     "text": [
      "Predict on image for dltile 16:0:10.0:20:1088:10578\n",
      "\n",
      "Job ID: d39563999cb1799c57c2c42712b5bcedb64bdbd2d9c52041\n",
      "[######] | Steps: 109/109 | Stage: SUCCEEDED                                  WARNING:tensorflow:11 out of the last 11 calls to <function Model.make_predict_function.<locals>.predict_function at 0x7fa2bfaf8cb0> triggered tf.function retracing. Tracing is expensive and the excessive number of tracings could be due to (1) creating @tf.function repeatedly in a loop, (2) passing tensors with different shapes, (3) passing Python objects instead of tensors. For (1), please define your @tf.function outside of the loop. For (2), @tf.function has experimental_relax_shapes=True option that relaxes argument shapes that can avoid unnecessary retracing. For (3), please refer to https://www.tensorflow.org/tutorials/customization/performance#python_or_tensor_args and https://www.tensorflow.org/api_docs/python/tf/function for  more details.\n"
     ]
    },
    {
     "name": "stderr",
     "output_type": "stream",
     "text": [
      "\n",
      "100%|██████████| 8/8 [01:04<00:00,  8.09s/it]\u001b[A\n",
      " 67%|██████▋   | 4/6 [05:11<02:37, 78.91s/it]\n",
      "  0%|          | 0/8 [00:00<?, ?it/s]\u001b[A"
     ]
    },
    {
     "name": "stdout",
     "output_type": "stream",
     "text": [
      "Predict on image for dltile 16:0:10.0:20:1080:10579\n",
      "\n",
      "Job ID: ebfda61b0975b6866ca8123eb12874429f836d8efba54f0e\n",
      "[######] | Steps: 109/109 | Stage: SUCCEEDED                                  WARNING:tensorflow:11 out of the last 11 calls to <function Model.make_predict_function.<locals>.predict_function at 0x7fa2bfaf8a70> triggered tf.function retracing. Tracing is expensive and the excessive number of tracings could be due to (1) creating @tf.function repeatedly in a loop, (2) passing tensors with different shapes, (3) passing Python objects instead of tensors. For (1), please define your @tf.function outside of the loop. For (2), @tf.function has experimental_relax_shapes=True option that relaxes argument shapes that can avoid unnecessary retracing. For (3), please refer to https://www.tensorflow.org/tutorials/customization/performance#python_or_tensor_args and https://www.tensorflow.org/api_docs/python/tf/function for  more details.\n"
     ]
    },
    {
     "name": "stderr",
     "output_type": "stream",
     "text": [
      "\n",
      " 12%|█▎        | 1/8 [00:06<00:47,  6.79s/it]\u001b[A"
     ]
    },
    {
     "name": "stdout",
     "output_type": "stream",
     "text": [
      "Predict on image for dltile 16:0:10.0:20:1081:10579\n",
      "\n",
      "Job ID: e53d926e8ba44597a68765847f0d15762f931eb7aefeedeb\n",
      "[######] | Steps: 109/109 | Stage: SUCCEEDED                                  WARNING:tensorflow:11 out of the last 11 calls to <function Model.make_predict_function.<locals>.predict_function at 0x7fa2bc921290> triggered tf.function retracing. Tracing is expensive and the excessive number of tracings could be due to (1) creating @tf.function repeatedly in a loop, (2) passing tensors with different shapes, (3) passing Python objects instead of tensors. For (1), please define your @tf.function outside of the loop. For (2), @tf.function has experimental_relax_shapes=True option that relaxes argument shapes that can avoid unnecessary retracing. For (3), please refer to https://www.tensorflow.org/tutorials/customization/performance#python_or_tensor_args and https://www.tensorflow.org/api_docs/python/tf/function for  more details.\n"
     ]
    },
    {
     "name": "stderr",
     "output_type": "stream",
     "text": [
      "\n",
      " 25%|██▌       | 2/8 [00:14<00:41,  6.95s/it]\u001b[A"
     ]
    },
    {
     "name": "stdout",
     "output_type": "stream",
     "text": [
      "Predict on image for dltile 16:0:10.0:20:1083:10579\n",
      "\n",
      "Job ID: 9764707a5f2b76308b66ae4f86b9c2d2cfa6047d436c91df\n",
      "[######] | Steps: 109/109 | Stage: SUCCEEDED                                  WARNING:tensorflow:11 out of the last 11 calls to <function Model.make_predict_function.<locals>.predict_function at 0x7fa2bc7ed830> triggered tf.function retracing. Tracing is expensive and the excessive number of tracings could be due to (1) creating @tf.function repeatedly in a loop, (2) passing tensors with different shapes, (3) passing Python objects instead of tensors. For (1), please define your @tf.function outside of the loop. For (2), @tf.function has experimental_relax_shapes=True option that relaxes argument shapes that can avoid unnecessary retracing. For (3), please refer to https://www.tensorflow.org/tutorials/customization/performance#python_or_tensor_args and https://www.tensorflow.org/api_docs/python/tf/function for  more details.\n"
     ]
    },
    {
     "name": "stderr",
     "output_type": "stream",
     "text": [
      "\n",
      " 38%|███▊      | 3/8 [00:27<00:43,  8.78s/it]\u001b[A"
     ]
    },
    {
     "name": "stdout",
     "output_type": "stream",
     "text": [
      "Predict on image for dltile 16:0:10.0:20:1084:10579\n",
      "\n",
      "Job ID: a640dd1345d4097ad8ce2d8a6f83ebe6431cca726a9f13b7\n",
      "[######] | Steps: 109/109 | Stage: SUCCEEDED                                  WARNING:tensorflow:11 out of the last 11 calls to <function Model.make_predict_function.<locals>.predict_function at 0x7fa2ca47e9e0> triggered tf.function retracing. Tracing is expensive and the excessive number of tracings could be due to (1) creating @tf.function repeatedly in a loop, (2) passing tensors with different shapes, (3) passing Python objects instead of tensors. For (1), please define your @tf.function outside of the loop. For (2), @tf.function has experimental_relax_shapes=True option that relaxes argument shapes that can avoid unnecessary retracing. For (3), please refer to https://www.tensorflow.org/tutorials/customization/performance#python_or_tensor_args and https://www.tensorflow.org/api_docs/python/tf/function for  more details.\n"
     ]
    },
    {
     "name": "stderr",
     "output_type": "stream",
     "text": [
      "\n",
      " 50%|█████     | 4/8 [00:35<00:34,  8.65s/it]\u001b[A"
     ]
    },
    {
     "name": "stdout",
     "output_type": "stream",
     "text": [
      "Predict on image for dltile 16:0:10.0:20:1085:10579\n",
      "\n",
      "Job ID: 2cea7e2f1cf4f4de8646bdfa9da2d1561d3197ce92baabd3\n",
      "[######] | Steps: 109/109 | Stage: SUCCEEDED                                  WARNING:tensorflow:11 out of the last 11 calls to <function Model.make_predict_function.<locals>.predict_function at 0x7fa2c3ae9290> triggered tf.function retracing. Tracing is expensive and the excessive number of tracings could be due to (1) creating @tf.function repeatedly in a loop, (2) passing tensors with different shapes, (3) passing Python objects instead of tensors. For (1), please define your @tf.function outside of the loop. For (2), @tf.function has experimental_relax_shapes=True option that relaxes argument shapes that can avoid unnecessary retracing. For (3), please refer to https://www.tensorflow.org/tutorials/customization/performance#python_or_tensor_args and https://www.tensorflow.org/api_docs/python/tf/function for  more details.\n"
     ]
    },
    {
     "name": "stderr",
     "output_type": "stream",
     "text": [
      "\n",
      " 62%|██████▎   | 5/8 [00:47<00:28,  9.56s/it]\u001b[A"
     ]
    },
    {
     "name": "stdout",
     "output_type": "stream",
     "text": [
      "Predict on image for dltile 16:0:10.0:20:1086:10579\n",
      "\n",
      "Job ID: 35069e46f4458390b78b8a175bdfbea74ca4d431c9bacaea\n",
      "[######] | Steps: 109/109 | Stage: SUCCEEDED                                  WARNING:tensorflow:11 out of the last 11 calls to <function Model.make_predict_function.<locals>.predict_function at 0x7fa2ba87c680> triggered tf.function retracing. Tracing is expensive and the excessive number of tracings could be due to (1) creating @tf.function repeatedly in a loop, (2) passing tensors with different shapes, (3) passing Python objects instead of tensors. For (1), please define your @tf.function outside of the loop. For (2), @tf.function has experimental_relax_shapes=True option that relaxes argument shapes that can avoid unnecessary retracing. For (3), please refer to https://www.tensorflow.org/tutorials/customization/performance#python_or_tensor_args and https://www.tensorflow.org/api_docs/python/tf/function for  more details.\n"
     ]
    },
    {
     "name": "stderr",
     "output_type": "stream",
     "text": [
      "\n",
      " 75%|███████▌  | 6/8 [00:59<00:20, 10.46s/it]\u001b[A"
     ]
    },
    {
     "name": "stdout",
     "output_type": "stream",
     "text": [
      "Predict on image for dltile 16:0:10.0:20:1087:10579\n",
      "\n",
      "Job ID: 9ed15ebc81aee6a62b3574b3a816e2a8b6ed74f535514eb0\n",
      "[######] | Steps: 109/109 | Stage: SUCCEEDED                                  WARNING:tensorflow:11 out of the last 11 calls to <function Model.make_predict_function.<locals>.predict_function at 0x7fa2b8f8ce60> triggered tf.function retracing. Tracing is expensive and the excessive number of tracings could be due to (1) creating @tf.function repeatedly in a loop, (2) passing tensors with different shapes, (3) passing Python objects instead of tensors. For (1), please define your @tf.function outside of the loop. For (2), @tf.function has experimental_relax_shapes=True option that relaxes argument shapes that can avoid unnecessary retracing. For (3), please refer to https://www.tensorflow.org/tutorials/customization/performance#python_or_tensor_args and https://www.tensorflow.org/api_docs/python/tf/function for  more details.\n"
     ]
    },
    {
     "name": "stderr",
     "output_type": "stream",
     "text": [
      "\n",
      " 88%|████████▊ | 7/8 [01:12<00:11, 11.04s/it]\u001b[A"
     ]
    },
    {
     "name": "stdout",
     "output_type": "stream",
     "text": [
      "Predict on image for dltile 16:0:10.0:20:1088:10579\n",
      "\n",
      "Job ID: 66f13bb5e46ee677cfd41421026fbe79f92e8581e9805518\n",
      "[######] | Steps: 109/109 | Stage: SUCCEEDED                                  WARNING:tensorflow:11 out of the last 11 calls to <function Model.make_predict_function.<locals>.predict_function at 0x7fa2b769f050> triggered tf.function retracing. Tracing is expensive and the excessive number of tracings could be due to (1) creating @tf.function repeatedly in a loop, (2) passing tensors with different shapes, (3) passing Python objects instead of tensors. For (1), please define your @tf.function outside of the loop. For (2), @tf.function has experimental_relax_shapes=True option that relaxes argument shapes that can avoid unnecessary retracing. For (3), please refer to https://www.tensorflow.org/tutorials/customization/performance#python_or_tensor_args and https://www.tensorflow.org/api_docs/python/tf/function for  more details.\n"
     ]
    },
    {
     "name": "stderr",
     "output_type": "stream",
     "text": [
      "\n",
      "100%|██████████| 8/8 [01:19<00:00, 10.00s/it]\u001b[A\n",
      " 83%|████████▎ | 5/6 [06:30<01:19, 79.23s/it]\n",
      "  0%|          | 0/8 [00:00<?, ?it/s]\u001b[A"
     ]
    },
    {
     "name": "stdout",
     "output_type": "stream",
     "text": [
      "Predict on image for dltile 16:0:10.0:20:1080:10580\n",
      "\n",
      "Job ID: c4b5ecf2c107c6acd5b37b69665feaf1a6c2a3f5ebbb31b2\n",
      "[######] | Steps: 109/109 | Stage: SUCCEEDED                                  WARNING:tensorflow:11 out of the last 11 calls to <function Model.make_predict_function.<locals>.predict_function at 0x7fa2b5d9c7a0> triggered tf.function retracing. Tracing is expensive and the excessive number of tracings could be due to (1) creating @tf.function repeatedly in a loop, (2) passing tensors with different shapes, (3) passing Python objects instead of tensors. For (1), please define your @tf.function outside of the loop. For (2), @tf.function has experimental_relax_shapes=True option that relaxes argument shapes that can avoid unnecessary retracing. For (3), please refer to https://www.tensorflow.org/tutorials/customization/performance#python_or_tensor_args and https://www.tensorflow.org/api_docs/python/tf/function for  more details.\n"
     ]
    },
    {
     "name": "stderr",
     "output_type": "stream",
     "text": [
      "\n",
      " 12%|█▎        | 1/8 [00:07<00:49,  7.13s/it]\u001b[A"
     ]
    },
    {
     "name": "stdout",
     "output_type": "stream",
     "text": [
      "Predict on image for dltile 16:0:10.0:20:1081:10580\n",
      "\n",
      "Job ID: 3195c2a3f4524bc19d2cc3329fe27660d818d9b38b9083f8\n",
      "[######] | Steps: 109/109 | Stage: SUCCEEDED                                  WARNING:tensorflow:11 out of the last 11 calls to <function Model.make_predict_function.<locals>.predict_function at 0x7fa2b448e290> triggered tf.function retracing. Tracing is expensive and the excessive number of tracings could be due to (1) creating @tf.function repeatedly in a loop, (2) passing tensors with different shapes, (3) passing Python objects instead of tensors. For (1), please define your @tf.function outside of the loop. For (2), @tf.function has experimental_relax_shapes=True option that relaxes argument shapes that can avoid unnecessary retracing. For (3), please refer to https://www.tensorflow.org/tutorials/customization/performance#python_or_tensor_args and https://www.tensorflow.org/api_docs/python/tf/function for  more details.\n"
     ]
    },
    {
     "name": "stderr",
     "output_type": "stream",
     "text": [
      "\n",
      " 25%|██▌       | 2/8 [00:20<00:53,  8.94s/it]\u001b[A"
     ]
    },
    {
     "name": "stdout",
     "output_type": "stream",
     "text": [
      "Predict on image for dltile 16:0:10.0:20:1083:10580\n",
      "\n",
      "Job ID: 104f7a7cf4f4f117168c6df0fb98d2b127e021295f237697\n",
      "[######] | Steps: 109/109 | Stage: SUCCEEDED                                  WARNING:tensorflow:11 out of the last 11 calls to <function Model.make_predict_function.<locals>.predict_function at 0x7fa2b2bc9a70> triggered tf.function retracing. Tracing is expensive and the excessive number of tracings could be due to (1) creating @tf.function repeatedly in a loop, (2) passing tensors with different shapes, (3) passing Python objects instead of tensors. For (1), please define your @tf.function outside of the loop. For (2), @tf.function has experimental_relax_shapes=True option that relaxes argument shapes that can avoid unnecessary retracing. For (3), please refer to https://www.tensorflow.org/tutorials/customization/performance#python_or_tensor_args and https://www.tensorflow.org/api_docs/python/tf/function for  more details.\n"
     ]
    },
    {
     "name": "stderr",
     "output_type": "stream",
     "text": [
      "\n",
      " 38%|███▊      | 3/8 [00:29<00:45,  9.11s/it]\u001b[A"
     ]
    },
    {
     "name": "stdout",
     "output_type": "stream",
     "text": [
      "Predict on image for dltile 16:0:10.0:20:1084:10580\n",
      "\n",
      "Job ID: f6a9fcaf444d808ab671be2909e75909aa05e0ae3db9bf2a\n",
      "[######] | Steps: 109/109 | Stage: SUCCEEDED                                  WARNING:tensorflow:11 out of the last 11 calls to <function Model.make_predict_function.<locals>.predict_function at 0x7fa2b43083b0> triggered tf.function retracing. Tracing is expensive and the excessive number of tracings could be due to (1) creating @tf.function repeatedly in a loop, (2) passing tensors with different shapes, (3) passing Python objects instead of tensors. For (1), please define your @tf.function outside of the loop. For (2), @tf.function has experimental_relax_shapes=True option that relaxes argument shapes that can avoid unnecessary retracing. For (3), please refer to https://www.tensorflow.org/tutorials/customization/performance#python_or_tensor_args and https://www.tensorflow.org/api_docs/python/tf/function for  more details.\n"
     ]
    },
    {
     "name": "stderr",
     "output_type": "stream",
     "text": [
      "\n",
      " 50%|█████     | 4/8 [00:42<00:41, 10.25s/it]\u001b[A"
     ]
    },
    {
     "name": "stdout",
     "output_type": "stream",
     "text": [
      "Predict on image for dltile 16:0:10.0:20:1085:10580\n",
      "\n",
      "Job ID: 4cc5c0dd4537c4cb39e4a348e2e6c33d09309b2a21d8f8f8\n",
      "[######] | Steps: 109/109 | Stage: SUCCEEDED                                  WARNING:tensorflow:11 out of the last 11 calls to <function Model.make_predict_function.<locals>.predict_function at 0x7fa2bdb1e710> triggered tf.function retracing. Tracing is expensive and the excessive number of tracings could be due to (1) creating @tf.function repeatedly in a loop, (2) passing tensors with different shapes, (3) passing Python objects instead of tensors. For (1), please define your @tf.function outside of the loop. For (2), @tf.function has experimental_relax_shapes=True option that relaxes argument shapes that can avoid unnecessary retracing. For (3), please refer to https://www.tensorflow.org/tutorials/customization/performance#python_or_tensor_args and https://www.tensorflow.org/api_docs/python/tf/function for  more details.\n"
     ]
    },
    {
     "name": "stderr",
     "output_type": "stream",
     "text": [
      "\n",
      " 62%|██████▎   | 5/8 [00:50<00:28,  9.49s/it]\u001b[A"
     ]
    },
    {
     "name": "stdout",
     "output_type": "stream",
     "text": [
      "Predict on image for dltile 16:0:10.0:20:1086:10580\n",
      "\n",
      "Job ID: f306a86316941b10c7dd1e230ed3873f74ffeabfec0f8962\n",
      "[######] | Steps: 109/109 | Stage: SUCCEEDED                                  WARNING:tensorflow:11 out of the last 11 calls to <function Model.make_predict_function.<locals>.predict_function at 0x7fa2b24475f0> triggered tf.function retracing. Tracing is expensive and the excessive number of tracings could be due to (1) creating @tf.function repeatedly in a loop, (2) passing tensors with different shapes, (3) passing Python objects instead of tensors. For (1), please define your @tf.function outside of the loop. For (2), @tf.function has experimental_relax_shapes=True option that relaxes argument shapes that can avoid unnecessary retracing. For (3), please refer to https://www.tensorflow.org/tutorials/customization/performance#python_or_tensor_args and https://www.tensorflow.org/api_docs/python/tf/function for  more details.\n"
     ]
    },
    {
     "name": "stderr",
     "output_type": "stream",
     "text": [
      "\n",
      " 75%|███████▌  | 6/8 [01:03<00:21, 10.52s/it]\u001b[A"
     ]
    },
    {
     "name": "stdout",
     "output_type": "stream",
     "text": [
      "Predict on image for dltile 16:0:10.0:20:1087:10580\n",
      "\n",
      "Job ID: b254c1b33f113aecfc99ef25dcc25de9a962b5fb7fe72c41\n",
      "[######] | Steps: 109/109 | Stage: SUCCEEDED                                  WARNING:tensorflow:11 out of the last 11 calls to <function Model.make_predict_function.<locals>.predict_function at 0x7fa2b0b49320> triggered tf.function retracing. Tracing is expensive and the excessive number of tracings could be due to (1) creating @tf.function repeatedly in a loop, (2) passing tensors with different shapes, (3) passing Python objects instead of tensors. For (1), please define your @tf.function outside of the loop. For (2), @tf.function has experimental_relax_shapes=True option that relaxes argument shapes that can avoid unnecessary retracing. For (3), please refer to https://www.tensorflow.org/tutorials/customization/performance#python_or_tensor_args and https://www.tensorflow.org/api_docs/python/tf/function for  more details.\n"
     ]
    },
    {
     "name": "stderr",
     "output_type": "stream",
     "text": [
      "\n",
      " 88%|████████▊ | 7/8 [01:10<00:09,  9.66s/it]\u001b[A"
     ]
    },
    {
     "name": "stdout",
     "output_type": "stream",
     "text": [
      "Predict on image for dltile 16:0:10.0:20:1088:10580\n",
      "\n",
      "Job ID: 072ab9dfe6d87e72cbb1dde7ce18d8e750e13f373c1d9de7\n",
      "[######] | Steps: 109/109 | Stage: SUCCEEDED                                  WARNING:tensorflow:11 out of the last 11 calls to <function Model.make_predict_function.<locals>.predict_function at 0x7fa2af2434d0> triggered tf.function retracing. Tracing is expensive and the excessive number of tracings could be due to (1) creating @tf.function repeatedly in a loop, (2) passing tensors with different shapes, (3) passing Python objects instead of tensors. For (1), please define your @tf.function outside of the loop. For (2), @tf.function has experimental_relax_shapes=True option that relaxes argument shapes that can avoid unnecessary retracing. For (3), please refer to https://www.tensorflow.org/tutorials/customization/performance#python_or_tensor_args and https://www.tensorflow.org/api_docs/python/tf/function for  more details.\n"
     ]
    },
    {
     "name": "stderr",
     "output_type": "stream",
     "text": [
      "\n",
      "100%|██████████| 8/8 [01:18<00:00,  9.84s/it]\u001b[A\n",
      "100%|██████████| 6/6 [07:49<00:00, 78.28s/it]\n"
     ]
    }
   ],
   "source": [
    "## Loop through tiles to get all detections\n",
    "# Get latitudes and longitudes for tiles according to polygon drawn and tilesize\n",
    "tileLats = np.arange(testPoly.locations[0][0]['lat'],testPoly.locations[0][2]['lat'],resolution*1E-5*tilesize)\n",
    "tileLons = np.arange(testPoly.locations[0][0]['lng'],testPoly.locations[0][2]['lng'],resolution*1E-5*tilesize)\n",
    "print(\"Number of tiles requested:\",len(tileLats)*len(tileLons),\". Approximately\",8*len(tileLats)*len(tileLons),\"seconds on 16GB RAM.\")\n",
    "threshold = 0.5\n",
    "\n",
    "allDet = gpd.GeoDataFrame(crs={'init': 'epsg:4326'})\n",
    "allCtx = np.array([])\n",
    "for lat in tqdm(tileLats):\n",
    "    for lon in tqdm(tileLons):\n",
    "        newDet, newCtx = testTile(lat,lon,tilesize,threshold)\n",
    "        newDet.index = newDet.index + len(allDet.index)\n",
    "        allDet = allDet.append(newDet)\n",
    "        allCtx = np.append([allCtx], [np.array(newCtx.bounds)])"
   ]
  },
  {
   "cell_type": "code",
   "execution_count": 17,
   "metadata": {},
   "outputs": [
    {
     "name": "stderr",
     "output_type": "stream",
     "text": [
      "  0%|          | 3/4808 [00:00<02:44, 29.28it/s]"
     ]
    },
    {
     "name": "stdout",
     "output_type": "stream",
     "text": [
      "Changed pixels: 4808 \n",
      "Damaged buildings: 700\n"
     ]
    },
    {
     "name": "stderr",
     "output_type": "stream",
     "text": [
      "100%|██████████| 4808/4808 [03:10<00:00, 25.26it/s]"
     ]
    },
    {
     "name": "stdout",
     "output_type": "stream",
     "text": [
      "Accuracy: 0.7185714285714285 \n",
      "Recall: 0.8566971713810316 \n",
      "F1 score: 0.7815785959435083\n"
     ]
    },
    {
     "name": "stderr",
     "output_type": "stream",
     "text": [
      "\n"
     ]
    }
   ],
   "source": [
    "## Evaluate against damages\n",
    "if not deployed:\n",
    "    # Load building damages and filter for within detection area\n",
    "    dmg = gpd.read_file(dmgJsons)\n",
    "    filtered = gpd.GeoDataFrame(crs={'init': 'epsg:4326'})\n",
    "\n",
    "    tilePoly = gpd.GeoSeries(Polygon.from_bounds(min(allCtx[0::4]),min(allCtx[1::4]),max(allCtx[2::4]),max(allCtx[3::4])), crs={'init':ctx.bounds_crs}).to_crs(epsg=4326).geometry[0]\n",
    "    for i in dmg.index: \n",
    "        if dmg.geometry[i].centroid.within(tilePoly):\n",
    "            filtered = filtered.append(dmg.loc[i])\n",
    "\n",
    "    print('Changed pixels:',len(allDet), '\\nDamaged buildings:',len(filtered))\n",
    "\n",
    "    # Initialise accuracy and recall vectors\n",
    "    acc, rec = np.zeros([max(filtered.index)+1,1]), np.zeros([max(allDet.index)+1,1]) # Initialise accuracy, recall arrays\n",
    "\n",
    "    # Loop through pixels to determine recall (if pixel corresponds to damaged building)\n",
    "    for i in tqdm(allDet.index):\n",
    "        # Loop through building to determine accuracy (damaged building has been detected)\n",
    "        for j in filtered.index:\n",
    "            if allDet.geometry[i].within(filtered.geometry[j]):\n",
    "                rec[i,0], acc[j,0] = True, True\n",
    "\n",
    "    # Calculate metrics from vector outputs\n",
    "    a = sum(acc)/len(filtered)\n",
    "    r = sum(rec)/len(allDet)\n",
    "    f1 = 2*(a*r)/(a+r)\n",
    "    print('Accuracy:',a[0],'\\nRecall:',r[0],'\\nF1 score:',f1[0])    "
   ]
  },
  {
   "cell_type": "code",
   "execution_count": 21,
   "metadata": {},
   "outputs": [
    {
     "data": {
      "application/vnd.jupyter.widget-view+json": {
       "model_id": "2a86bbf71adb4902a1ca20e6a8371d0b",
       "version_major": 2,
       "version_minor": 0
      },
      "text/plain": [
       "\n",
       "`ipyleaflet` and/or `ipywidgets` Jupyter extensions are not installed! (or you're not in a Jupyter notebook.)\n",
       "To install for JupyterLab, run this in a cell:\n",
       "    !jupyter labextension install jupyter-leaflet @jupyter-widgets/jupyterlab-manager\n",
       "To install for plain Jupyter Notebook, run this in a cell:\n",
       "    !jupyter nbextension enable --py --sys-prefix ipyleaflet\n",
       "Then, restart the kernel and refresh the webpage.\n"
      ]
     },
     "metadata": {},
     "output_type": "display_data"
    }
   ],
   "source": [
    "# Initialise map\n",
    "m5 = wf.interactive.MapApp()\n",
    "m5.center, m5.zoom = (lat, lon), zoom\n",
    "\n",
    "getImage(1,bands,0.7,m5) # Display sentinel imagery using function from map 1\n",
    "\n",
    "# Ass layer for detections from model\n",
    "allDet_data = GeoData(geo_dataframe = allDet, style={'color': 'yellow', 'radius':2, 'fillColor': 'yellow', 'opacity':0.7, 'weight':1.9, 'dashArray':'2', 'fillOpacity':0.7},\n",
    "                    point_style={'radius': 2, 'color': 'yellow', 'fillOpacity': 0.7, 'fillColor': 'blue', 'weight': 3}, name = 'Damages')\n",
    "m5.add_layer(allDet_data)\n",
    "\n",
    "# Add layers for building polygons whether red for not found, green for found\n",
    "if not deployed:\n",
    "    filtered['found'] = pd.Series(acc[filtered.index,0], index=filtered.index)\n",
    "    all_not_found = GeoData(geo_dataframe = filtered.loc[filtered['found']==0], style={'color': 'red', 'radius':2, 'fillColor': 'red', 'opacity':0.7, 'weight':1.9, 'dashArray':'2', 'fillOpacity':0.7},\n",
    "                        hover_style={'fillColor': 'red' , 'fillOpacity': 0.5},\n",
    "                        name = 'Damages')\n",
    "    all_found = GeoData(geo_dataframe = filtered.loc[filtered['found']==1], style={'color': 'green', 'radius':2, 'fillColor': 'green', 'opacity':0.7, 'weight':1.9, 'dashArray':'2', 'fillOpacity':0.7},\n",
    "                        hover_style={'fillColor': 'green' , 'fillOpacity': 0.5},\n",
    "                        name = 'Damages')\n",
    "    m5.add_layer(all_not_found)\n",
    "    m5.add_layer(all_found)\n",
    "    \n",
    "    # Legend\n",
    "    m5.add_control(LegendControl({\"Damage Identified\":\"#008000\", \"Damage Not Identified\":\"#FF0000\", \"Detected Change\":\"#0000FF\", \"Search Area\":\"#FFFF00\"}))\n",
    "else: \n",
    "    m5.add_control(LegendControl({\"Detected Change\":\"#FFFF00\", \"Search Area\":\"#0000FF\"}))\n",
    "    \n",
    "\n",
    "# Plot bounding box for damage search\n",
    "testPoly.color, testPoly.fill_opacity = 'blue', 0\n",
    "m5.add_layer(testPoly)\n",
    "\n",
    "m5"
   ]
  },
  {
   "cell_type": "markdown",
   "metadata": {},
   "source": [
    "## --------- END ----------"
   ]
  }
 ],
 "metadata": {
  "kernelspec": {
   "display_name": "Python 3",
   "language": "python",
   "name": "python3"
  },
  "language_info": {
   "codemirror_mode": {
    "name": "ipython",
    "version": 3
   },
   "file_extension": ".py",
   "mimetype": "text/x-python",
   "name": "python",
   "nbconvert_exporter": "python",
   "pygments_lexer": "ipython3",
   "version": "3.7.8"
  }
 },
 "nbformat": 4,
 "nbformat_minor": 4
}
