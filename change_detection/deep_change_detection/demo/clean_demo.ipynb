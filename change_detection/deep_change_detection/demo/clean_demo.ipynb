{
 "cells": [
  {
   "cell_type": "code",
   "execution_count": 1,
   "metadata": {},
   "outputs": [
    {
     "name": "stdout",
     "output_type": "stream",
     "text": [
      "PyTorch version 1.6.0 . If below 1.6.0 you may need to restart kernel.\n",
      "IMPORTS OK\n"
     ]
    }
   ],
   "source": [
    "import demo_functions as dcd"
   ]
  },
  {
   "cell_type": "code",
   "execution_count": 2,
   "metadata": {},
   "outputs": [
    {
     "name": "stderr",
     "output_type": "stream",
     "text": [
      "/home/jovyan/gtc-exposure/change_detection/demo_functions.py:138: UserWarning: /home/jovyan/OSCD/new/killick_0/cm/cm.png is a low contrast image\n",
      "  io.imsave(imgFolder+\"/cm/cm.png\", imgconv)\n"
     ]
    }
   ],
   "source": [
    "dcd.make_polygon()\n",
    "dcd.generate_tiffs_separate_bands()"
   ]
  },
  {
   "cell_type": "code",
   "execution_count": 5,
   "metadata": {},
   "outputs": [
    {
     "name": "stderr",
     "output_type": "stream",
     "text": [
      "100%|██████████| 1/1 [00:00<00:00, 27.18it/s]\n",
      " 21%|██        | 4/19 [00:00<00:00, 31.99it/s]"
     ]
    },
    {
     "name": "stdout",
     "output_type": "stream",
     "text": [
      "killick_0\n",
      "(512, 512, 4) (512, 512, 4)\n",
      "aguasclaras\n",
      "(471, 525, 4) (471, 525, 4)\n",
      "bercy\n",
      "(395, 360, 4) (395, 360, 4)\n",
      "bordeaux\n",
      "(517, 461, 4) (517, 461, 4)\n",
      "nantes\n",
      "(522, 582, 4) (522, 582, 4)\n",
      "paris\n",
      "(408, 390, 4) (408, 390, 4)\n",
      "rennes\n"
     ]
    },
    {
     "name": "stderr",
     "output_type": "stream",
     "text": [
      " 37%|███▋      | 7/19 [00:00<00:00, 22.06it/s]"
     ]
    },
    {
     "name": "stdout",
     "output_type": "stream",
     "text": [
      "(339, 563, 4) (339, 563, 4)\n",
      "saclay_e\n",
      "(639, 688, 4) (631, 679, 4)\n",
      "abudhabi\n"
     ]
    },
    {
     "name": "stderr",
     "output_type": "stream",
     "text": [
      " 47%|████▋     | 9/19 [00:00<00:00, 15.46it/s]"
     ]
    },
    {
     "name": "stdout",
     "output_type": "stream",
     "text": [
      "(799, 785, 4) (795, 782, 4)\n",
      "cupertino\n",
      "(1015, 788, 4) (1015, 788, 4)\n",
      "pisa\n"
     ]
    },
    {
     "name": "stderr",
     "output_type": "stream",
     "text": [
      " 58%|█████▊    | 11/19 [00:00<00:00, 14.00it/s]"
     ]
    },
    {
     "name": "stdout",
     "output_type": "stream",
     "text": [
      "(776, 718, 4) (776, 718, 4)\n",
      "beihai\n",
      "(902, 772, 4) (902, 772, 4)\n",
      "hongkong\n",
      "(695, 540, 4) (693, 538, 4)\n",
      "beirut\n"
     ]
    },
    {
     "name": "stderr",
     "output_type": "stream",
     "text": [
      " 84%|████████▍ | 16/19 [00:01<00:00, 13.01it/s]"
     ]
    },
    {
     "name": "stdout",
     "output_type": "stream",
     "text": [
      "(1180, 1070, 4) (1180, 1070, 4)\n",
      "mumbai\n",
      "(858, 557, 4) (858, 557, 4)\n",
      "valencia\n",
      "(458, 476, 4) (458, 476, 4)\n",
      "dubai\n",
      "(774, 634, 4) (774, 634, 4)\n",
      "lasvegas\n"
     ]
    },
    {
     "name": "stderr",
     "output_type": "stream",
     "text": [
      "100%|██████████| 19/19 [00:01<00:00, 14.58it/s]\n",
      "  0%|          | 0/1 [00:00<?, ?it/s]"
     ]
    },
    {
     "name": "stdout",
     "output_type": "stream",
     "text": [
      "(824, 716, 4) (824, 716, 4)\n",
      "milano\n",
      "(545, 558, 4) (545, 558, 4)\n",
      "chongqing\n",
      "(730, 544, 4) (730, 544, 4)\n",
      "LOAD OK\n"
     ]
    },
    {
     "name": "stderr",
     "output_type": "stream",
     "text": [
      "/home/jovyan/gtc-exposure/change_detection/utils_cd.py:233: UserWarning: ./results/FC-EF-killick_0.png is a low contrast image\n",
      "  io.imsave(f'./results/{net_name}-{name}.png',I)\n",
      "Lossy conversion from int64 to uint8. Range [0, 255]. Convert image to uint8 prior to saving to suppress this warning.\n",
      "100%|██████████| 1/1 [00:01<00:00,  1.04s/it]\n",
      "100%|██████████| 1/1 [00:04<00:00,  4.21s/it]"
     ]
    },
    {
     "name": "stdout",
     "output_type": "stream",
     "text": [
      "Check out imagery results\n"
     ]
    },
    {
     "name": "stderr",
     "output_type": "stream",
     "text": [
      "\n",
      "/home/jovyan/gtc-exposure/change_detection/utils_cd.py:313: RuntimeWarning: invalid value encountered in double_scalars\n",
      "  dice = 2 * prec * rec / (prec + rec)\n"
     ]
    }
   ],
   "source": [
    "dcd.load_and_run_model()"
   ]
  },
  {
   "cell_type": "code",
   "execution_count": 6,
   "metadata": {},
   "outputs": [
    {
     "data": {
      "image/png": "[encoded data removed]",
      "text/plain": [
       "<IPython.core.display.Image object>"
      ]
     },
     "execution_count": 6,
     "metadata": {},
     "output_type": "execute_result"
    }
   ],
   "source": [
    "from IPython.display import Image\n",
    "Image(filename='results/FC-EF-killick_0.png') "
   ]
  },
  {
   "cell_type": "code",
   "execution_count": null,
   "metadata": {},
   "outputs": [],
   "source": []
  }
 ],
 "metadata": {
  "kernelspec": {
   "display_name": "Python 3",
   "language": "python",
   "name": "python3"
  },
  "language_info": {
   "codemirror_mode": {
    "name": "ipython",
    "version": 3
   },
   "file_extension": ".py",
   "mimetype": "text/x-python",
   "name": "python",
   "nbconvert_exporter": "python",
   "pygments_lexer": "ipython3",
   "version": "3.7.10"
  }
 },
 "nbformat": 4,
 "nbformat_minor": 4
}
