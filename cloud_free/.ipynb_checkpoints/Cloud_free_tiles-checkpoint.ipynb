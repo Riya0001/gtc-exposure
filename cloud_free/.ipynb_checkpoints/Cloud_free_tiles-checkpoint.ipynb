{
 "cells": [
  {
   "cell_type": "code",
   "execution_count": null,
   "metadata": {},
   "outputs": [],
   "source": [
    "#THIS WILL TAKE A LONG TIME- BUT ONLY NEEDS TO BE RUN ONCE\n",
    "#- You can run this in the command line should you wish\n",
    "\n",
    "# path to store processed data_tiles; can be anywhere:\n",
    "path = '/home/jovyan/gtc-exposure/cloud_free/tiles/'\n",
    "# This downloads, lazy loads, splits the tiles, then removes the orignal tif \\\n",
    "# the results are saved in the directory specified above\n",
    "!python3 cloud_free.py {path} "
   ]
  },
  {
   "cell_type": "code",
   "execution_count": null,
   "metadata": {},
   "outputs": [],
   "source": [
    "#THIS ALSO TAKES A WHILE - BUT ONLY NEEDS TO BE RUN ONCE\n",
    "# The first polygon image will be displayed\n",
    "\n",
    "from cloud_free import cut_polygon, split_tiles, polygons\n",
    "\n",
    "#path where tiles are stored\n",
    "in_path ='/home/jovyan/gtc-exposure/cloud_free/tiles/'\n",
    "#path where training data files will be stored\n",
    "out_path = '/home/jovyan/gtc-exposure/cloud_free/train_images/'\n",
    "\n",
    "#extract from tiles the relevant area that corresponds to the polygon\n",
    "cut_polygon(in_path, out_path, polygons())\n",
    "\n",
    "#split images into training size 64*64\n",
    "split_tiles(out_path, 64)"
   ]
  },
  {
   "cell_type": "code",
   "execution_count": null,
   "metadata": {},
   "outputs": [],
   "source": []
  }
 ],
 "metadata": {
  "kernelspec": {
   "display_name": "Python 3",
   "language": "python",
   "name": "python3"
  },
  "language_info": {
   "codemirror_mode": {
    "name": "ipython",
    "version": 3
   },
   "file_extension": ".py",
   "mimetype": "text/x-python",
   "name": "python",
   "nbconvert_exporter": "python",
   "pygments_lexer": "ipython3",
   "version": "3.7.8"
  }
 },
 "nbformat": 4,
 "nbformat_minor": 4
}
