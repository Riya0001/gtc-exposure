{
 "cells": [
  {
   "source": [
    "#THIS WILL TAKE A LONG TIME- BUT ONLY NEEDS TO BE RUN ONCE\n",
    "#- You can run this in the command line should you wish\n",
    "\n",
    "# path to store processed data_tiles; can be anywhere:\n",
    "path = '/home/jovyan/gtc-exposure/cloud_free/tiles/'\n",
    "# This downloads, lazy loads, splits the tiles, then removes the orignal tif \\\n",
    "# the results are saved in the directory specified above\n",
    "!python3 download_split.py {path}"
   ],
   "cell_type": "code",
   "metadata": {},
   "execution_count": null,
   "outputs": []
  },
  {
   "source": [
    "from shapely.geometry import Polygon\n",
    "from cut_polygons import cut_polygon, split_tiles\n",
    "\n",
    "#path where tiles are stored\n",
    "in_path ='/home/jovyan/gtc-exposure/cloud_free/tiles/'\n",
    "#path where training data files will be stored\n",
    "out_path = '/home/jovyan/gtc-exposure/cloud_free/train_images/'\n",
    "\n",
    "# create list of polygons to produce training data\n",
    "polygons = []\n",
    "polygons.append(Polygon([[-77.14579146891705,18.411737391394887],\n",
    "                        [-77.14441817790143,18.36237942122922],\n",
    "                        [-77.08468001872174,18.363356943894132],\n",
    "                        [-77.08742660075299,18.41287750743329],\n",
    "                        [-77.14579146891705,18.411737391394887]]))\n",
    "\n",
    "#extract from tiles the relevant area that corresponds to the polygon\n",
    "cut_polygon(in_path, out_path, polygons)\n",
    "\n",
    "#split images into training size 64*64\n",
    "split_tiles(out_path, 64)"
   ],
   "cell_type": "code",
   "metadata": {},
   "execution_count": null,
   "outputs": []
  }
 ],
 "metadata": {
  "kernelspec": {
   "name": "python3",
   "display_name": "Python 2.7.17 64-bit",
   "metadata": {
    "interpreter": {
     "hash": "767d51c1340bd893661ea55ea3124f6de3c7a262a8b4abca0554b478b1e2ff90"
    }
   }
  },
  "language_info": {
   "codemirror_mode": {
    "name": "ipython",
    "version": 3
   },
   "file_extension": ".py",
   "mimetype": "text/x-python",
   "name": "python",
   "nbconvert_exporter": "python",
   "pygments_lexer": "ipython3",
   "version": "2.7.17-final"
  }
 },
 "nbformat": 4,
 "nbformat_minor": 4
}
