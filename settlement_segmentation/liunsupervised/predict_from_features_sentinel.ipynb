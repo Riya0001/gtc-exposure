{
 "cells": [
  {
   "cell_type": "code",
   "execution_count": 1,
   "metadata": {},
   "outputs": [
    {
     "name": "stdout",
     "output_type": "stream",
     "text": [
      "True\n",
      "2.2.0\n",
      "GPUs available: [PhysicalDevice(name='/physical_device:GPU:0', device_type='GPU')]\n"
     ]
    }
   ],
   "source": [
    "import tensorflow as tf\n",
    "import tensorflow_probability as tfp\n",
    "import os\n",
    "import numpy as np\n",
    "import matplotlib.pyplot as plt\n",
    "import pickle as pkl\n",
    "import numpy as np\n",
    "import tifffile\n",
    "import random\n",
    "\n",
    "\n",
    "# Make numpy values easier to read.\n",
    "np.set_printoptions(precision=3, suppress=True)\n",
    "\n",
    "from tensorflow.keras import layers\n",
    "from tensorflow.keras.layers.experimental import preprocessing\n",
    "from tensorflow.keras.preprocessing.image import ImageDataGenerator\n",
    "from PIL import Image\n",
    "from random import choices\n",
    "\n",
    "from sklearn.cluster import KMeans\n",
    "from sklearn.model_selection import train_test_split\n",
    "from sklearn.svm import SVC\n",
    "from sklearn.pipeline import make_pipeline\n",
    "from sklearn.preprocessing import StandardScaler\n",
    "from sklearn.metrics import f1_score, confusion_matrix\n",
    "\n",
    "from seaborn import heatmap\n",
    "\n",
    "print(tf.executing_eagerly())\n",
    "print(tf.__version__)\n",
    "\n",
    "physical_devices = tf.config.list_physical_devices('GPU')\n",
    "tf.config.experimental.set_memory_growth(physical_devices[0], True)\n",
    "\n",
    "print('GPUs available: {}'.format(physical_devices))"
   ]
  },
  {
   "cell_type": "code",
   "execution_count": 2,
   "metadata": {},
   "outputs": [
    {
     "name": "stdout",
     "output_type": "stream",
     "text": [
      "WARNING:tensorflow:No training configuration found in save file, so the model was *not* compiled. Compile it manually.\n"
     ]
    }
   ],
   "source": [
    "model = tf.keras.models.load_model(\"sentinel+UnsupervisedFeatureLearning20210317-162239+w3+K100K900+M411M3600_ZCANormTrue_Seed0\")"
   ]
  },
  {
   "cell_type": "code",
   "execution_count": 3,
   "metadata": {},
   "outputs": [
    {
     "name": "stdout",
     "output_type": "stream",
     "text": [
      "Model: \"model_1\"\n",
      "__________________________________________________________________________________________________\n",
      "Layer (type)                    Output Shape         Param #     Connected to                     \n",
      "==================================================================================================\n",
      "input_4 (InputLayer)            [(None, 64, 64, 4)]  0                                            \n",
      "__________________________________________________________________________________________________\n",
      "feature_map_layer_4 (FeatureMap (None, 62, 62, 100)  7200        input_4[0][0]                    \n",
      "__________________________________________________________________________________________________\n",
      "max_pooling2d_3 (MaxPooling2D)  (None, 31, 31, 100)  0           feature_map_layer_4[0][0]        \n",
      "__________________________________________________________________________________________________\n",
      "feature_map_layer_5 (FeatureMap (None, 29, 29, 900)  1620000     max_pooling2d_3[0][0]            \n",
      "__________________________________________________________________________________________________\n",
      "max_pooling2d_4 (MaxPooling2D)  (None, 14, 14, 900)  0           feature_map_layer_5[0][0]        \n",
      "__________________________________________________________________________________________________\n",
      "average_pooling2d_3 (AveragePoo (None, 3, 3, 100)    0           max_pooling2d_3[0][0]            \n",
      "__________________________________________________________________________________________________\n",
      "average_pooling2d_4 (AveragePoo (None, 3, 3, 900)    0           max_pooling2d_4[0][0]            \n",
      "__________________________________________________________________________________________________\n",
      "flatten_3 (Flatten)             (None, 900)          0           average_pooling2d_3[0][0]        \n",
      "__________________________________________________________________________________________________\n",
      "flatten_4 (Flatten)             (None, 8100)         0           average_pooling2d_4[0][0]        \n",
      "__________________________________________________________________________________________________\n",
      "concatenate_1 (Concatenate)     (None, 9000)         0           flatten_3[0][0]                  \n",
      "                                                                 flatten_4[0][0]                  \n",
      "==================================================================================================\n",
      "Total params: 1,627,200\n",
      "Trainable params: 1,627,200\n",
      "Non-trainable params: 0\n",
      "__________________________________________________________________________________________________\n"
     ]
    }
   ],
   "source": [
    "model.summary()"
   ]
  },
  {
   "cell_type": "code",
   "execution_count": 4,
   "metadata": {},
   "outputs": [],
   "source": [
    "def open_image(image_loc, expected_dim):\n",
    "    pixel_data = tifffile.imread(image_loc)\n",
    "    \n",
    "    height = pixel_data.shape[0]\n",
    "    width = pixel_data.shape[1]\n",
    "    channels = pixel_data.shape[2]\n",
    "\n",
    "    if width != height :\n",
    "        print('Image {} is not square, returning empty variable'.format(image_loc))\n",
    "        return None\n",
    "    \n",
    "    if width != expected_dim:\n",
    "        print('Image {} has dimension {}, expected {}, returning empty variable'.format(image_loc, width, expected_dim))\n",
    "        return None\n",
    "    \n",
    "    return pixel_data / 10000 #Normalised\n",
    "\n",
    "def load_test_data_to_numpy(data_dir):\n",
    "    data = []\n",
    "    labels = []\n",
    "    \n",
    "    for image_loc in os.listdir(data_dir):\n",
    "        data.append(open_image(data_dir + image_loc, 64))\n",
    "        \n",
    "        if image_loc.startswith('inf'):\n",
    "            labels.append(1)\n",
    "        else:\n",
    "            labels.append(0)\n",
    "        \n",
    "    return np.stack(data), np.stack(labels)\n"
   ]
  },
  {
   "cell_type": "code",
   "execution_count": 5,
   "metadata": {},
   "outputs": [],
   "source": [
    "data_dir = \"data/sentinel_labelled/\"\n",
    "data_numpy, labels = load_test_data_to_numpy(data_dir)\n",
    "\n",
    "num_images = data_numpy.shape[0]\n",
    "image_size = data_numpy.shape[1]\n",
    "no_channels = data_numpy.shape[3]"
   ]
  },
  {
   "cell_type": "code",
   "execution_count": 6,
   "metadata": {},
   "outputs": [
    {
     "name": "stdout",
     "output_type": "stream",
     "text": [
      "CPU times: user 889 ms, sys: 925 ms, total: 1.81 s\n",
      "Wall time: 2.77 s\n"
     ]
    }
   ],
   "source": [
    "%%time\n",
    "scale_images = False\n",
    "seed=0\n",
    "svm_params = {'kernel':'linear', 'random_state':seed, 'C':1}\n",
    "\n",
    "scene_embeddings = []\n",
    "\n",
    "mean = data_numpy.mean(axis=0)\n",
    "std = np.std(data_numpy, axis=0)\n",
    "\n",
    "data_scaled = (data_numpy - mean)/std\n",
    "\n",
    "for i in range(num_images):\n",
    "    if scale_images:\n",
    "        scene_embedding = np.array(model(data_scaled[i:i+1]))\n",
    "    else:\n",
    "        scene_embedding = np.array(model(data_numpy[i:i+1]))\n",
    "        \n",
    "    scene_embeddings.append(scene_embedding.flatten())\n",
    "    \n",
    "scene_embeddings = np.stack(scene_embeddings)"
   ]
  },
  {
   "cell_type": "code",
   "execution_count": 7,
   "metadata": {},
   "outputs": [
    {
     "data": {
      "text/plain": [
       "149"
      ]
     },
     "execution_count": 7,
     "metadata": {},
     "output_type": "execute_result"
    }
   ],
   "source": [
    "data_numpy.shape[0]"
   ]
  },
  {
   "cell_type": "code",
   "execution_count": 8,
   "metadata": {},
   "outputs": [
    {
     "name": "stdout",
     "output_type": "stream",
     "text": [
      "Train score mean/std:1.0/0.0\n",
      "Test score mean/std:0.8474933333333333/0.03576753587014658\n",
      "F1 score mean/std:0.19209619111770207/0.138133864442782\n",
      "CPU times: user 1min 10s, sys: 59 ms, total: 1min 10s\n",
      "Wall time: 1min 10s\n"
     ]
    }
   ],
   "source": [
    "%%time\n",
    "no_trials = 1000\n",
    "\n",
    "train_scores=[]\n",
    "test_scores=[]\n",
    "f1_scores=[]\n",
    "\n",
    "random.seed(seed)\n",
    "\n",
    "for _ in range(no_trials):\n",
    "    X_train, X_test, y_train, y_test = train_test_split(scene_embeddings, labels, stratify=labels, test_size=0.5, random_state=random.randrange(1e6))\n",
    "\n",
    "    clf = make_pipeline(StandardScaler(), SVC(**svm_params))\n",
    "    clf.fit(X_train, y_train)\n",
    "\n",
    "    train_scores.append(clf.score(X_train, y_train))\n",
    "    test_scores.append(clf.score(X_test, y_test))\n",
    "    \n",
    "    f1_scores.append(f1_score(y_test, clf.predict(X_test)))\n",
    "    \n",
    "print(\"Train score mean/std:{}/{}\".format(np.mean(train_scores), np.std(train_scores)))\n",
    "print(\"Test score mean/std:{}/{}\".format(np.mean(test_scores), np.std(test_scores)))\n",
    "\n",
    "print(\"F1 score mean/std:{}/{}\".format(np.mean(f1_scores), np.std(f1_scores)))"
   ]
  },
  {
   "cell_type": "markdown",
   "metadata": {},
   "source": [
    "### Saved Results\n",
    "1000 runs/w=6:\n",
    "\n",
    "Train score mean/std:1.0/0.0\n",
    "\n",
    "Test score mean/std:0.8442800000000001/0.03638793206545269\n",
    "\n",
    "F1 score mean/std:0.20867851059844866/0.12512960482858665\n",
    "\n",
    "1000 runs/w=3\n",
    "Train score mean/std:1.0/0.0\n",
    "\n",
    "Test score mean/std:0.8475199999999999/0.03576690959842942\n",
    "\n",
    "F1 score mean/std:0.19211967596618693/0.1381281075875312\n",
    "\n",
    "wall time 1min8s"
   ]
  },
  {
   "cell_type": "code",
   "execution_count": 9,
   "metadata": {},
   "outputs": [
    {
     "name": "stdout",
     "output_type": "stream",
     "text": [
      "1.0\n",
      "0.8666666666666667\n"
     ]
    }
   ],
   "source": [
    "print(clf.score(X_train, y_train))\n",
    "print(clf.score(X_test, y_test))"
   ]
  },
  {
   "cell_type": "code",
   "execution_count": 10,
   "metadata": {},
   "outputs": [
    {
     "data": {
      "text/plain": [
       "0.16666666666666666"
      ]
     },
     "execution_count": 10,
     "metadata": {},
     "output_type": "execute_result"
    }
   ],
   "source": [
    "f1_score(y_test, clf.predict(X_test))"
   ]
  },
  {
   "cell_type": "code",
   "execution_count": 11,
   "metadata": {},
   "outputs": [
    {
     "data": {
      "text/plain": [
       "Text(33.0, 0.5, 'True')"
      ]
     },
     "execution_count": 11,
     "metadata": {},
     "output_type": "execute_result"
    },
    {
     "data": {
      "image/png": "[encoded data removed]",
      "text/plain": [
       "<Figure size 432x288 with 2 Axes>"
      ]
     },
     "metadata": {
      "needs_background": "light"
     },
     "output_type": "display_data"
    }
   ],
   "source": [
    "conf = confusion_matrix(y_test, clf.predict(X_test), normalize='true')\n",
    "\n",
    "ax = plt.axes()\n",
    "heatmap(conf, ax = ax)\n",
    "ax.set_xlabel('Predicted')\n",
    "ax.set_ylabel('True')"
   ]
  },
  {
   "cell_type": "code",
   "execution_count": 12,
   "metadata": {},
   "outputs": [
    {
     "data": {
      "text/plain": [
       "array([135,  14])"
      ]
     },
     "execution_count": 12,
     "metadata": {},
     "output_type": "execute_result"
    }
   ],
   "source": [
    "np.bincount(labels)"
   ]
  },
  {
   "cell_type": "code",
   "execution_count": null,
   "metadata": {},
   "outputs": [],
   "source": []
  }
 ],
 "metadata": {
  "kernelspec": {
   "display_name": "Python 3",
   "language": "python",
   "name": "python3"
  },
  "language_info": {
   "codemirror_mode": {
    "name": "ipython",
    "version": 3
   },
   "file_extension": ".py",
   "mimetype": "text/x-python",
   "name": "python",
   "nbconvert_exporter": "python",
   "pygments_lexer": "ipython3",
   "version": "3.8.3"
  }
 },
 "nbformat": 4,
 "nbformat_minor": 4
}
