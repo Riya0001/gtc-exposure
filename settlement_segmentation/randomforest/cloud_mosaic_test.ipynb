{
 "cells": [
  {
   "cell_type": "code",
   "execution_count": 1,
   "metadata": {},
   "outputs": [],
   "source": [
    "# import packages\n",
    "import IPython\n",
    "import ipywidgets\n",
    "import ipyleaflet\n",
    "import json\n",
    "import matplotlib.pyplot as plt\n",
    "import matplotlib.image as mpimg\n",
    "%matplotlib inline\n",
    "import numpy as np\n",
    "import random\n",
    "import os\n",
    "import tensorflow as tf\n",
    "\n",
    "import descarteslabs as dl\n",
    "import descarteslabs.workflows as wf"
   ]
  },
  {
   "cell_type": "markdown",
   "metadata": {},
   "source": [
    "### Create Geocontext (Currently not actually using any of this except the dates)\n",
    "I was originally aiming to only compute the resulting mosaic over the AOI only using the geocontext but I binned it in the end and just let the interactive map constrain it to the AOI. Might be worth looking into further"
   ]
  },
  {
   "cell_type": "code",
   "execution_count": 2,
   "metadata": {},
   "outputs": [],
   "source": [
    "with open(\"aoi_small_train.geojson\") as f:\n",
    "    fc = json.load(f)\n",
    "    \n",
    "aoi_geo = fc[\"features\"][0][\"geometry\"]\n",
    "\n",
    "aoi = wf.GeoContext(\n",
    "    geometry = aoi_geo,\n",
    "    crs=\"EPSG:3857\",\n",
    "    resolution = 10.0)\n",
    "\n",
    "start_datetime = \"2020-04-01\"\n",
    "end_datetime = \"2020-07-28\""
   ]
  },
  {
   "cell_type": "markdown",
   "metadata": {},
   "source": [
    "### Dilation Function\n",
    "With Kernel"
   ]
  },
  {
   "cell_type": "code",
   "execution_count": 15,
   "metadata": {},
   "outputs": [],
   "source": [
    "# Define simple functions for erosion and dilation\n",
    "def erode_op(map_layer, iters, kernel):\n",
    "    map_layer = ~map_layer\n",
    "    for i in range(iters):\n",
    "        map_layer = wf.conv2d(map_layer, kernel) > 0\n",
    "    map_layer = ~map_layer \n",
    "    return map_layer\n",
    "\n",
    "def dilate_op(map_layer, iters, kernel):\n",
    "    for i in range(iters):\n",
    "        map_layer = map_layer * 1.0\n",
    "        map_layer = wf.conv2d(map_layer, kernel) > 0\n",
    "    return map_layer\n",
    "\n",
    "# Define a kernel and perform one erosion followed by two dilations\n",
    "kernel = wf.Kernel(dims=(3,3), data=[0., 1., 0.,\n",
    "                                      1., 1., 1.,\n",
    "                                      0., 1., 0.])\n",
    "\n"
   ]
  },
  {
   "cell_type": "markdown",
   "metadata": {},
   "source": [
    "### Sentinel 2 stack w/ cloud mask\n",
    "Using whatever bands you like"
   ]
  },
  {
   "cell_type": "code",
   "execution_count": 70,
   "metadata": {},
   "outputs": [],
   "source": [
    "sentinel_stack = (wf.ImageCollection.from_id(\"sentinel-2:L1C\",\n",
    "                                            start_datetime = start_datetime,\n",
    "                                            end_datetime = end_datetime)\n",
    "                  .pick_bands(\"red green blue cloud-mask red-edge-2 red-edge-3 red-edge-4 nir swir1 swir2\")\n",
    "                 )\n",
    "\n",
    "sentinel_stack = sentinel_stack.filter(lambda img:img.properties[\"cloud_fraction\"] <= 0.06)\n",
    "\n",
    "dilated_mask = dilate_op(sentinel_stack.pick_bands(\"cloud-mask\"), iters=75, kernel=kernel)\n",
    "dilated_mask = dilated_mask.rename_bands(\"dilated-cloud-mask\")\n",
    "\n",
    "sentinel_stack = sentinel_stack.concat_bands(dilated_mask)\n",
    "\n",
    "sentinel_masked = sentinel_stack.map(lambda img: img.mask(img.pick_bands('dilated-cloud-mask')==1))"
   ]
  },
  {
   "cell_type": "code",
   "execution_count": null,
   "metadata": {},
   "outputs": [],
   "source": []
  },
  {
   "cell_type": "markdown",
   "metadata": {},
   "source": [
    "### Create the image mosaic and compute over the AOI "
   ]
  },
  {
   "cell_type": "code",
   "execution_count": 71,
   "metadata": {},
   "outputs": [],
   "source": [
    "sentinel_mosaic = (sentinel_masked\n",
    "                   .mosaic()\n",
    "                   .pick_bands(\"red green blue\"))\n",
    "\n",
    "#sentinel_image = sentinel_mosaic.compute(aoi)"
   ]
  },
  {
   "cell_type": "markdown",
   "metadata": {},
   "source": [
    "## Visualise the image\n",
    "I think it looks pretty good, but there's room for improvement. Zoom out to see where it's not great (outside the city)"
   ]
  },
  {
   "cell_type": "code",
   "execution_count": 72,
   "metadata": {},
   "outputs": [
    {
     "data": {
      "application/vnd.jupyter.widget-view+json": {
       "model_id": "4bb73aea81eb42efa92f9098b9630612",
       "version_major": 2,
       "version_minor": 0
      },
      "text/plain": [
       "\n",
       "`ipyleaflet` and/or `ipywidgets` Jupyter extensions are not installed! (or you're not in a Jupyter notebook.)\n",
       "To install for JupyterLab, run this in a cell:\n",
       "    !jupyter labextension install jupyter-leaflet @jupyter-widgets/jupyterlab-manager\n",
       "To install for plain Jupyter Notebook, run this in a cell:\n",
       "    !jupyter nbextension enable --py --sys-prefix ipyleaflet\n",
       "Then, restart the kernel and refresh the webpage.\n"
      ]
     },
     "metadata": {},
     "output_type": "display_data"
    }
   ],
   "source": [
    "a_map = wf.interactive.MapApp()\n",
    "a_map.center = (18.5577, -69.9145)  #18.5265, -69.9129\n",
    "a_map.zoom = 15\n",
    "\n",
    "sentinel_mosaic.visualize('image', scales=[(0, 1), (0, 1), (0, 1)], map=a_map)\n",
    "\n",
    "a_map"
   ]
  },
  {
   "cell_type": "code",
   "execution_count": null,
   "metadata": {},
   "outputs": [],
   "source": []
  },
  {
   "cell_type": "code",
   "execution_count": null,
   "metadata": {},
   "outputs": [],
   "source": []
  }
 ],
 "metadata": {
  "kernelspec": {
   "display_name": "Python 3",
   "language": "python",
   "name": "python3"
  },
  "language_info": {
   "codemirror_mode": {
    "name": "ipython",
    "version": 3
   },
   "file_extension": ".py",
   "mimetype": "text/x-python",
   "name": "python",
   "nbconvert_exporter": "python",
   "pygments_lexer": "ipython3",
   "version": "3.7.8"
  }
 },
 "nbformat": 4,
 "nbformat_minor": 4
}
