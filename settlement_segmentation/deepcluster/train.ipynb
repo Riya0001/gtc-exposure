{
 "cells": [
  {
   "cell_type": "code",
   "execution_count": 4,
   "metadata": {},
   "outputs": [],
   "source": [
    "import numpy as np\n",
    "import matplotlib.pyplot as plt\n",
    "try:\n",
    "    import faiss\n",
    "except ImportError:\n",
    "    # esnure you are using this version due to a object depreciation that means \\\n",
    "    # the clustering does not run on the newer version\n",
    "    !pip3 install faiss-gpu==1.6.1 && conda install -c pytorch torchvision cudatoolkit=10.1 pytorch -y\n",
    "import faiss"
   ]
  },
  {
   "cell_type": "code",
   "execution_count": 25,
   "metadata": {},
   "outputs": [],
   "source": [
    "DIR=\"/home/jovyan/gtc-exposure/cloud_free/train_images/\"\n",
    "ARCH=\"vgg16\"\n",
    "LR, K = 0.01, 8\n",
    "EPOCHS = 20\n",
    "\n",
    "base = '/home/jovyan/gtc-exposure/deepcluster/output/sentinel/'\n",
    "outfile= 'lr:{}_k:{}/'.format(LR, K)\n",
    "EXP= base+outfile\n",
    "\n",
    "#make output directory:\n",
    "!mkdir -p {EXP}\n",
    "print(EXP)\n",
    "!python3 main.py {DIR} --exp {EXP} --arch {ARCH} --lr {LR} \\\n",
    "  --k {K} --sobel --verbose  --epochs {EPOCHS}"
   ]
  },
  {
   "cell_type": "code",
   "execution_count": 5,
   "metadata": {},
   "outputs": [],
   "source": [
    "Clustering_Losses = [1764.6022, 1451.6779, 1345.4794, 1186.6477, 1428.3203, 1395.3264, 1436.7313, 1462.7643, 1577.7015, 1588.283, 1673.0186, 1649.0116, 1701.5258, 1672.3185, 1678.3419, 1706.3281, 1678.9695, 1634.1978, 1707.3866, 1696.7062]\n",
    "Losses = [2.5460224683169557, 1.6801736669129683, 1.6810097845286882, 1.5522207030478645, 1.5377004182889682, 1.4975386950023033, 1.5951965743002772, 1.5608501051153456, 1.446431006704058, 1.4148147458664508, 1.5173291409341227, 1.479497223779434, 1.443910490815379, 1.409538593738019, 1.3006273798581933, 1.3603775649636733, 1.3314913117459841, 1.3340588870043515, 1.309999556163279, 1.1851813116369128]"
   ]
  },
  {
   "cell_type": "code",
   "execution_count": 7,
   "metadata": {},
   "outputs": [
    {
     "data": {
      "image/png": "[encoded data removed]",
      "text/plain": [
       "<Figure size 432x288 with 1 Axes>"
      ]
     },
     "metadata": {
      "needs_background": "light"
     },
     "output_type": "display_data"
    }
   ],
   "source": [
    "plt.plot(range(EPOCHS), Losses)\n",
    "plt.title('Losses')\n",
    "plt.show()"
   ]
  },
  {
   "cell_type": "code",
   "execution_count": null,
   "metadata": {},
   "outputs": [],
   "source": []
  }
 ],
 "metadata": {
  "kernelspec": {
   "display_name": "Python 3",
   "language": "python",
   "name": "python3"
  },
  "language_info": {
   "codemirror_mode": {
    "name": "ipython",
    "version": 3
   },
   "file_extension": ".py",
   "mimetype": "text/x-python",
   "name": "python",
   "nbconvert_exporter": "python",
   "pygments_lexer": "ipython3",
   "version": "3.7.8"
  }
 },
 "nbformat": 4,
 "nbformat_minor": 4
}
