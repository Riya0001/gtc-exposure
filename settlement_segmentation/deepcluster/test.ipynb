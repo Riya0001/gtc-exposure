{
 "cells": [
  {
   "cell_type": "code",
   "execution_count": 89,
   "metadata": {},
   "outputs": [],
   "source": [
    "import os\n",
    "import descarteslabs as dl\n",
    "import numpy as np\n",
    "import pandas as pd\n",
    "import geopandas as gpd\n",
    "import matplotlib.pyplot as plt\n",
    "import rasterio\n",
    "import rasterio\n",
    "from rasterio.warp import transform_bounds\n",
    "from shapely.geometry import Polygon, MultiPolygon, mapping\n",
    "import torch\n",
    "import torch.nn as nn\n",
    "import torch.backends.cudnn as cudnn\n",
    "import torchvision.datasets as datasets\n",
    "import torchvision.transforms as transforms\n",
    "try:\n",
    "    import faiss\n",
    "except ImportError:\n",
    "    # esnure you are using this version due to a object depreciation that means \\\n",
    "    # the clustering does not run on the newer version\n",
    "    os.system(\"pip3 install faiss-gpu==1.6.1 && conda install -c pytorch torchvision cudatoolkit=10.1 pytorch -y\")\n",
    "import faiss\n",
    "try:\n",
    "    import rioxarray as rxr\n",
    "except ModuleNotFoundError: \n",
    "    os.system(\"pip install rioxarray\")\n",
    "import rioxarray as rxr\n",
    "\n"
   ]
  },
  {
   "cell_type": "code",
   "execution_count": 103,
   "metadata": {},
   "outputs": [],
   "source": [
    "import models\n",
    "from test import inference"
   ]
  },
  {
   "cell_type": "code",
   "execution_count": 104,
   "metadata": {},
   "outputs": [
    {
     "data": {
      "text/html": [
       "<div>\n",
       "<style scoped>\n",
       "    .dataframe tbody tr th:only-of-type {\n",
       "        vertical-align: middle;\n",
       "    }\n",
       "\n",
       "    .dataframe tbody tr th {\n",
       "        vertical-align: top;\n",
       "    }\n",
       "\n",
       "    .dataframe thead th {\n",
       "        text-align: right;\n",
       "    }\n",
       "</style>\n",
       "<table border=\"1\" class=\"dataframe\">\n",
       "  <thead>\n",
       "    <tr style=\"text-align: right;\">\n",
       "      <th></th>\n",
       "      <th>Informal</th>\n",
       "      <th>Cluster</th>\n",
       "      <th>geometry</th>\n",
       "    </tr>\n",
       "  </thead>\n",
       "  <tbody>\n",
       "    <tr>\n",
       "      <th>0</th>\n",
       "      <td>not inf</td>\n",
       "      <td>1944</td>\n",
       "      <td>POLYGON ((-77.09616063729847 18.39582520197016...</td>\n",
       "    </tr>\n",
       "    <tr>\n",
       "      <th>1</th>\n",
       "      <td>not inf</td>\n",
       "      <td>1950</td>\n",
       "      <td>POLYGON ((-77.13243087895607 18.39656748292388...</td>\n",
       "    </tr>\n",
       "    <tr>\n",
       "      <th>2</th>\n",
       "      <td>not inf</td>\n",
       "      <td>623</td>\n",
       "      <td>POLYGON ((-77.08407094069003 18.39557624410748...</td>\n",
       "    </tr>\n",
       "    <tr>\n",
       "      <th>3</th>\n",
       "      <td>not inf</td>\n",
       "      <td>1880</td>\n",
       "      <td>POLYGON ((-77.07828755505284 18.38390972968482...</td>\n",
       "    </tr>\n",
       "    <tr>\n",
       "      <th>4</th>\n",
       "      <td>not inf</td>\n",
       "      <td>1388</td>\n",
       "      <td>POLYGON ((-77.10812076015301 18.40184447076541...</td>\n",
       "    </tr>\n",
       "    <tr>\n",
       "      <th>...</th>\n",
       "      <td>...</td>\n",
       "      <td>...</td>\n",
       "      <td>...</td>\n",
       "    </tr>\n",
       "    <tr>\n",
       "      <th>144</th>\n",
       "      <td>not inf</td>\n",
       "      <td>211</td>\n",
       "      <td>POLYGON ((-76.79482171978083 17.98075120626804...</td>\n",
       "    </tr>\n",
       "    <tr>\n",
       "      <th>145</th>\n",
       "      <td>not inf</td>\n",
       "      <td>1944</td>\n",
       "      <td>POLYGON ((-77.08959400763183 18.41878459761533...</td>\n",
       "    </tr>\n",
       "    <tr>\n",
       "      <th>146</th>\n",
       "      <td>not inf</td>\n",
       "      <td>1880</td>\n",
       "      <td>POLYGON ((-76.78249064955513 17.99202690372442...</td>\n",
       "    </tr>\n",
       "    <tr>\n",
       "      <th>147</th>\n",
       "      <td>not inf</td>\n",
       "      <td>1944</td>\n",
       "      <td>POLYGON ((-72.32117722249302 18.55846334721635...</td>\n",
       "    </tr>\n",
       "    <tr>\n",
       "      <th>148</th>\n",
       "      <td>not inf</td>\n",
       "      <td>1950</td>\n",
       "      <td>POLYGON ((-72.31518235077247 18.55818542685937...</td>\n",
       "    </tr>\n",
       "  </tbody>\n",
       "</table>\n",
       "<p>149 rows × 3 columns</p>\n",
       "</div>"
      ],
      "text/plain": [
       "    Informal Cluster                                           geometry\n",
       "0    not inf    1944  POLYGON ((-77.09616063729847 18.39582520197016...\n",
       "1    not inf    1950  POLYGON ((-77.13243087895607 18.39656748292388...\n",
       "2    not inf     623  POLYGON ((-77.08407094069003 18.39557624410748...\n",
       "3    not inf    1880  POLYGON ((-77.07828755505284 18.38390972968482...\n",
       "4    not inf    1388  POLYGON ((-77.10812076015301 18.40184447076541...\n",
       "..       ...     ...                                                ...\n",
       "144  not inf     211  POLYGON ((-76.79482171978083 17.98075120626804...\n",
       "145  not inf    1944  POLYGON ((-77.08959400763183 18.41878459761533...\n",
       "146  not inf    1880  POLYGON ((-76.78249064955513 17.99202690372442...\n",
       "147  not inf    1944  POLYGON ((-72.32117722249302 18.55846334721635...\n",
       "148  not inf    1950  POLYGON ((-72.31518235077247 18.55818542685937...\n",
       "\n",
       "[149 rows x 3 columns]"
      ]
     },
     "execution_count": 104,
     "metadata": {},
     "output_type": "execute_result"
    }
   ],
   "source": [
    "DATA=\"/home/jovyan/gtc-exposure/cloud_free/test_images/\"\n",
    "ARCH=\"vgg16\"\n",
    "LR=0.01\n",
    "K=8\n",
    "\n",
    "df, model = inference(DATA, ARCH, LR, K)\n",
    "df"
   ]
  },
  {
   "cell_type": "code",
   "execution_count": 100,
   "metadata": {},
   "outputs": [
    {
     "data": {
      "text/plain": [
       "(18.54, 18.59)"
      ]
     },
     "execution_count": 100,
     "metadata": {},
     "output_type": "execute_result"
    },
    {
     "data": {
      "image/png": "[encoded data removed]",
      "text/plain": [
       "<Figure size 432x288 with 1 Axes>"
      ]
     },
     "metadata": {
      "needs_background": "light"
     },
     "output_type": "display_data"
    },
    {
     "data": {
      "image/png": "[encoded data removed]",
      "text/plain": [
       "<Figure size 432x288 with 1 Axes>"
      ]
     },
     "metadata": {
      "needs_background": "light"
     },
     "output_type": "display_data"
    },
    {
     "data": {
      "image/png": "[encoded data removed]",
      "text/plain": [
       "<Figure size 432x288 with 1 Axes>"
      ]
     },
     "metadata": {
      "needs_background": "light"
     },
     "output_type": "display_data"
    },
    {
     "data": {
      "image/png": "[encoded data removed]",
      "text/plain": [
       "<Figure size 432x288 with 1 Axes>"
      ]
     },
     "metadata": {
      "needs_background": "light"
     },
     "output_type": "display_data"
    },
    {
     "data": {
      "image/png": "[encoded data removed]",
      "text/plain": [
       "<Figure size 432x288 with 1 Axes>"
      ]
     },
     "metadata": {
      "needs_background": "light"
     },
     "output_type": "display_data"
    },
    {
     "data": {
      "image/png": "[encoded data removed]",
      "text/plain": [
       "<Figure size 432x288 with 1 Axes>"
      ]
     },
     "metadata": {
      "needs_background": "light"
     },
     "output_type": "display_data"
    }
   ],
   "source": [
    "df.plot(df['Cluster'])\n",
    "plt.xlim([-77.05,-77.15 ])\n",
    "plt.ylim([18.35,18.43])\n",
    "df.plot(df['Informal'])\n",
    "plt.xlim([-77.05,-77.15 ])\n",
    "plt.ylim([18.35,18.43])\n",
    "\n",
    "df.plot(df['Cluster'])\n",
    "plt.xlim([-76.85,-76.75])\n",
    "plt.ylim([17.95,18.025])\n",
    "df.plot(df['Informal'])\n",
    "plt.xlim([-76.85,-76.75])\n",
    "plt.ylim([17.95,18.025])\n",
    "\n",
    "df.plot(df['Cluster'])\n",
    "plt.xlim([-72.29,-72.350])\n",
    "plt.ylim([18.54,18.59])\n",
    "df.plot(df['Informal'])\n",
    "plt.xlim([-72.29,-72.350])\n",
    "plt.ylim([18.54,18.59])"
   ]
  },
  {
   "cell_type": "code",
   "execution_count": 116,
   "metadata": {},
   "outputs": [
    {
     "name": "stdout",
     "output_type": "stream",
     "text": [
      "130 1\n",
      "771 3\n",
      "9 13\n",
      "907 1\n",
      "1037 1\n",
      "1300 12\n",
      "1944 28\n",
      "1946 2\n",
      "157 1\n",
      "1950 12\n",
      "1973 6\n",
      "834 1\n",
      "710 5\n",
      "1105 6\n",
      "211 6\n",
      "1880 9\n",
      "354 10\n",
      "1388 27\n",
      "623 1\n",
      "1524 2\n",
      "1908 1\n",
      "1661 1\n"
     ]
    }
   ],
   "source": [
    "clusters = list(df[\"Cluster\"])\n",
    "for i in set(clusters):\n",
    "    print(i, clusters.count(i))\n",
    "pred_inf_clusters = []\n",
    "for i in range(len(df)):\n",
    "    if df['Informal'].loc[i]=='inf':\n",
    "        pred_inf_clusters.append(df['Cluster'].loc[i])"
   ]
  },
  {
   "cell_type": "code",
   "execution_count": 155,
   "metadata": {},
   "outputs": [],
   "source": [
    "#calculate f1 score\n",
    "\n",
    "def f1(df):\n",
    "    pred_inf_clusters = []\n",
    "    #find which cluster is contains the largest number of informal settlements\n",
    "    for i in range(len(df)):\n",
    "        if df['Informal'].loc[i]=='inf':\n",
    "            pred_inf_clusters.append(df['Cluster'].loc[i])\n",
    "    cluster = max(set(pred_inf_clusters), key=pred_inf_clusters.count)\n",
    "    print(cluster)\n",
    "\n",
    "    true_pos = 0\n",
    "    true_neg = 0\n",
    "    false_pos = 0\n",
    "    false_neg = 0\n",
    "\n",
    "    for i in range(len(df)):\n",
    "        if df['Informal'].loc[i]=='inf' and df['Cluster'].loc[i] == cluster:\n",
    "            true_pos+=1\n",
    "        elif df['Informal'].loc[i]=='inf' and df['Cluster'].loc[i] != cluster:\n",
    "            false_neg+=1\n",
    "        elif df['Informal'].loc[i]=='not inf' and df['Cluster'].loc[i] != cluster:\n",
    "            true_neg+=1\n",
    "        else:\n",
    "            false_pos+=1\n",
    "\n",
    "    print(true_pos, true_neg, false_pos, false_neg)\n",
    "    f1 = 2*(true_pos*true_pos)/((true_pos+false_pos)*(true_pos+false_neg))\n",
    "    acc = (true_pos + true_neg) / (true_pos + true_neg + false_pos + false_neg)\n",
    "    return f1, acc"
   ]
  },
  {
   "cell_type": "code",
   "execution_count": 156,
   "metadata": {},
   "outputs": [
    {
     "name": "stdout",
     "output_type": "stream",
     "text": [
      "815\n",
      "7 63 72 7\n",
      "(0.08860759493670886, 0.4697986577181208)\n",
      "1388\n",
      "4 112 23 10\n",
      "(0.08465608465608465, 0.7785234899328859)\n",
      "625\n",
      "4 84 51 10\n",
      "(0.04155844155844156, 0.5906040268456376)\n",
      "1131\n",
      "4 105 30 10\n",
      "(0.06722689075630252, 0.7315436241610739)\n"
     ]
    }
   ],
   "source": [
    "DATA=\"/home/jovyan/gtc-exposure/cloud_free/test_images/\"\n",
    "ARCH=\"vgg16\"\n",
    "LR=0.01\n",
    "\n",
    "for K in [6, 8, 10, 12]:\n",
    "    df, model = inference(DATA, ARCH, LR, K)\n",
    "    print(f1(df))"
   ]
  }
 ],
 "metadata": {
  "kernelspec": {
   "display_name": "Python 3",
   "language": "python",
   "name": "python3"
  },
  "language_info": {
   "codemirror_mode": {
    "name": "ipython",
    "version": 3
   },
   "file_extension": ".py",
   "mimetype": "text/x-python",
   "name": "python",
   "nbconvert_exporter": "python",
   "pygments_lexer": "ipython3",
   "version": "3.7.8"
  }
 },
 "nbformat": 4,
 "nbformat_minor": 4
}