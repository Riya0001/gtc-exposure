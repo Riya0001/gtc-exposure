{
 "cells": [
  {
   "cell_type": "markdown",
   "metadata": {},
   "source": [
    "# Plotting Disaster Data\n",
    "\n",
    "Disaster data download from EM-DAT public data - https://public.emdat.be/data"
   ]
  },
  {
   "cell_type": "code",
   "execution_count": 2,
   "metadata": {
    "collapsed": false
   },
   "outputs": [],
   "source": [
    "# Library import\n",
    "import pandas as pd\n",
    "import matplotlib.pyplot as plt"
   ]
  },
  {
   "cell_type": "code",
   "execution_count": 3,
   "metadata": {
    "collapsed": false
   },
   "outputs": [],
   "source": [
    "# Read input .csv file\n",
    "disasters=pd.read_csv('C:/Users/lukec/OneDrive - University of Cambridge/Projects/GTC/data/emdat_public_meteorological.csv', index_col=0,\n",
    "                   error_bad_lines=False,  \n",
    "                   warn_bad_lines=True)"
   ]
  },
  {
   "cell_type": "code",
   "execution_count": 4,
   "metadata": {
    "collapsed": false
   },
   "outputs": [
    {
     "output_type": "execute_result",
     "data": {
      "text/plain": [
       "               Year  Seq Disaster Group Disaster Subgroup Disaster Type  \\\n",
       "Dis No                                                                    \n",
       "1904-0003-BGD  1904    3        Natural    Meteorological         Storm   \n",
       "1906-0015-HKG  1906   15        Natural    Meteorological         Storm   \n",
       "1909-0010-BGD  1909   10        Natural    Meteorological         Storm   \n",
       "1909-0013-BGD  1909   13        Natural    Meteorological         Storm   \n",
       "1909-0012-HTI  1909   12        Natural    Meteorological         Storm   \n",
       "\n",
       "               Disaster Subtype Disaster Subsubtype Event Name Entry Criteria  \\\n",
       "Dis No                                                                          \n",
       "1904-0003-BGD  Tropical cyclone                 NaN        NaN           OFDA   \n",
       "1906-0015-HKG  Tropical cyclone                 NaN        NaN           Kill   \n",
       "1909-0010-BGD  Tropical cyclone                 NaN        NaN           Kill   \n",
       "1909-0013-BGD  Tropical cyclone                 NaN        NaN           OFDA   \n",
       "1909-0012-HTI  Tropical cyclone                 NaN        NaN           Kill   \n",
       "\n",
       "                  Country  ... End Day Total Deaths No Injured No Affected  \\\n",
       "Dis No                     ...                                               \n",
       "1904-0003-BGD  Bangladesh  ...     NaN          NaN        NaN         NaN   \n",
       "1906-0015-HKG   Hong Kong  ...     8.0      10000.0        NaN         NaN   \n",
       "1909-0010-BGD  Bangladesh  ...    15.0        172.0        NaN         NaN   \n",
       "1909-0013-BGD  Bangladesh  ...     NaN          NaN        NaN         NaN   \n",
       "1909-0012-HTI       Haiti  ...    12.0        150.0        NaN         NaN   \n",
       "\n",
       "              No Homeless Total Affected Reconstruction Costs ('000 US$)  \\\n",
       "Dis No                                                                     \n",
       "1904-0003-BGD         NaN            NaN                             NaN   \n",
       "1906-0015-HKG         NaN            NaN                             NaN   \n",
       "1909-0010-BGD         NaN            NaN                             NaN   \n",
       "1909-0013-BGD         NaN            NaN                             NaN   \n",
       "1909-0012-HTI         NaN            NaN                             NaN   \n",
       "\n",
       "              Insured Damages ('000 US$) Total Damages ('000 US$)     CPI  \n",
       "Dis No                                                                     \n",
       "1904-0003-BGD                        NaN                      NaN  3.5223  \n",
       "1906-0015-HKG                        NaN                  20000.0  3.5223  \n",
       "1909-0010-BGD                        NaN                      NaN  3.5223  \n",
       "1909-0013-BGD                        NaN                      NaN  3.5223  \n",
       "1909-0012-HTI                        NaN                      NaN  3.5223  \n",
       "\n",
       "[5 rows x 42 columns]"
      ],
      "text/html": "<div>\n<style scoped>\n    .dataframe tbody tr th:only-of-type {\n        vertical-align: middle;\n    }\n\n    .dataframe tbody tr th {\n        vertical-align: top;\n    }\n\n    .dataframe thead th {\n        text-align: right;\n    }\n</style>\n<table border=\"1\" class=\"dataframe\">\n  <thead>\n    <tr style=\"text-align: right;\">\n      <th></th>\n      <th>Year</th>\n      <th>Seq</th>\n      <th>Disaster Group</th>\n      <th>Disaster Subgroup</th>\n      <th>Disaster Type</th>\n      <th>Disaster Subtype</th>\n      <th>Disaster Subsubtype</th>\n      <th>Event Name</th>\n      <th>Entry Criteria</th>\n      <th>Country</th>\n      <th>...</th>\n      <th>End Day</th>\n      <th>Total Deaths</th>\n      <th>No Injured</th>\n      <th>No Affected</th>\n      <th>No Homeless</th>\n      <th>Total Affected</th>\n      <th>Reconstruction Costs ('000 US$)</th>\n      <th>Insured Damages ('000 US$)</th>\n      <th>Total Damages ('000 US$)</th>\n      <th>CPI</th>\n    </tr>\n    <tr>\n      <th>Dis No</th>\n      <th></th>\n      <th></th>\n      <th></th>\n      <th></th>\n      <th></th>\n      <th></th>\n      <th></th>\n      <th></th>\n      <th></th>\n      <th></th>\n      <th></th>\n      <th></th>\n      <th></th>\n      <th></th>\n      <th></th>\n      <th></th>\n      <th></th>\n      <th></th>\n      <th></th>\n      <th></th>\n      <th></th>\n    </tr>\n  </thead>\n  <tbody>\n    <tr>\n      <th>1904-0003-BGD</th>\n      <td>1904</td>\n      <td>3</td>\n      <td>Natural</td>\n      <td>Meteorological</td>\n      <td>Storm</td>\n      <td>Tropical cyclone</td>\n      <td>NaN</td>\n      <td>NaN</td>\n      <td>OFDA</td>\n      <td>Bangladesh</td>\n      <td>...</td>\n      <td>NaN</td>\n      <td>NaN</td>\n      <td>NaN</td>\n      <td>NaN</td>\n      <td>NaN</td>\n      <td>NaN</td>\n      <td>NaN</td>\n      <td>NaN</td>\n      <td>NaN</td>\n      <td>3.5223</td>\n    </tr>\n    <tr>\n      <th>1906-0015-HKG</th>\n      <td>1906</td>\n      <td>15</td>\n      <td>Natural</td>\n      <td>Meteorological</td>\n      <td>Storm</td>\n      <td>Tropical cyclone</td>\n      <td>NaN</td>\n      <td>NaN</td>\n      <td>Kill</td>\n      <td>Hong Kong</td>\n      <td>...</td>\n      <td>8.0</td>\n      <td>10000.0</td>\n      <td>NaN</td>\n      <td>NaN</td>\n      <td>NaN</td>\n      <td>NaN</td>\n      <td>NaN</td>\n      <td>NaN</td>\n      <td>20000.0</td>\n      <td>3.5223</td>\n    </tr>\n    <tr>\n      <th>1909-0010-BGD</th>\n      <td>1909</td>\n      <td>10</td>\n      <td>Natural</td>\n      <td>Meteorological</td>\n      <td>Storm</td>\n      <td>Tropical cyclone</td>\n      <td>NaN</td>\n      <td>NaN</td>\n      <td>Kill</td>\n      <td>Bangladesh</td>\n      <td>...</td>\n      <td>15.0</td>\n      <td>172.0</td>\n      <td>NaN</td>\n      <td>NaN</td>\n      <td>NaN</td>\n      <td>NaN</td>\n      <td>NaN</td>\n      <td>NaN</td>\n      <td>NaN</td>\n      <td>3.5223</td>\n    </tr>\n    <tr>\n      <th>1909-0013-BGD</th>\n      <td>1909</td>\n      <td>13</td>\n      <td>Natural</td>\n      <td>Meteorological</td>\n      <td>Storm</td>\n      <td>Tropical cyclone</td>\n      <td>NaN</td>\n      <td>NaN</td>\n      <td>OFDA</td>\n      <td>Bangladesh</td>\n      <td>...</td>\n      <td>NaN</td>\n      <td>NaN</td>\n      <td>NaN</td>\n      <td>NaN</td>\n      <td>NaN</td>\n      <td>NaN</td>\n      <td>NaN</td>\n      <td>NaN</td>\n      <td>NaN</td>\n      <td>3.5223</td>\n    </tr>\n    <tr>\n      <th>1909-0012-HTI</th>\n      <td>1909</td>\n      <td>12</td>\n      <td>Natural</td>\n      <td>Meteorological</td>\n      <td>Storm</td>\n      <td>Tropical cyclone</td>\n      <td>NaN</td>\n      <td>NaN</td>\n      <td>Kill</td>\n      <td>Haiti</td>\n      <td>...</td>\n      <td>12.0</td>\n      <td>150.0</td>\n      <td>NaN</td>\n      <td>NaN</td>\n      <td>NaN</td>\n      <td>NaN</td>\n      <td>NaN</td>\n      <td>NaN</td>\n      <td>NaN</td>\n      <td>3.5223</td>\n    </tr>\n  </tbody>\n</table>\n<p>5 rows × 42 columns</p>\n</div>"
     },
     "metadata": {},
     "execution_count": 4
    }
   ],
   "source": [
    "disasters.head(5)"
   ]
  },
  {
   "cell_type": "code",
   "execution_count": 5,
   "metadata": {
    "collapsed": false
   },
   "outputs": [
    {
     "output_type": "execute_result",
     "data": {
      "text/plain": [
       "array(['Tropical cyclone', 'Convective storm', nan, 'Heat wave',\n",
       "       'Cold wave', 'Severe winter conditions', 'Extra-tropical storm'],\n",
       "      dtype=object)"
      ]
     },
     "metadata": {},
     "execution_count": 5
    }
   ],
   "source": [
    "disasters['Disaster Subtype'].unique()"
   ]
  },
  {
   "source": [
    "--------------------------------------------------------"
   ],
   "cell_type": "markdown",
   "metadata": {}
  },
  {
   "cell_type": "code",
   "execution_count": 40,
   "metadata": {
    "collapsed": false
   },
   "outputs": [
    {
     "output_type": "error",
     "ename": "NameError",
     "evalue": "name 'Basemap' is not defined",
     "traceback": [
      "\u001b[1;31m---------------------------------------------------------------------------\u001b[0m",
      "\u001b[1;31mNameError\u001b[0m                                 Traceback (most recent call last)",
      "\u001b[1;32m<ipython-input-40-1f76e9b5a250>\u001b[0m in \u001b[0;36m<module>\u001b[1;34m\u001b[0m\n\u001b[0;32m      1\u001b[0m \u001b[1;31m#Read the shape file world_countries_boundary_file_world_2002\u001b[0m\u001b[1;33m\u001b[0m\u001b[1;33m\u001b[0m\u001b[1;33m\u001b[0m\u001b[0m\n\u001b[0;32m      2\u001b[0m \u001b[1;31m#which contains the information required to plot the value on world map\u001b[0m\u001b[1;33m\u001b[0m\u001b[1;33m\u001b[0m\u001b[1;33m\u001b[0m\u001b[0m\n\u001b[1;32m----> 3\u001b[1;33m \u001b[0mm\u001b[0m \u001b[1;33m=\u001b[0m \u001b[0mBasemap\u001b[0m\u001b[1;33m(\u001b[0m\u001b[0mprojection\u001b[0m \u001b[1;33m=\u001b[0m \u001b[1;34m'robin'\u001b[0m\u001b[1;33m,\u001b[0m \u001b[0mlon_0\u001b[0m \u001b[1;33m=\u001b[0m \u001b[1;36m0\u001b[0m\u001b[1;33m,\u001b[0m \u001b[0mresolution\u001b[0m \u001b[1;33m=\u001b[0m \u001b[1;34m'c'\u001b[0m\u001b[1;33m)\u001b[0m\u001b[1;33m\u001b[0m\u001b[1;33m\u001b[0m\u001b[0m\n\u001b[0m\u001b[0;32m      4\u001b[0m \u001b[0mshp_info\u001b[0m \u001b[1;33m=\u001b[0m \u001b[0mm\u001b[0m\u001b[1;33m.\u001b[0m\u001b[0mreadshapefile\u001b[0m\u001b[1;33m(\u001b[0m\u001b[1;34m\"world_countries_boundary_file_world_2002\"\u001b[0m\u001b[1;33m,\u001b[0m\u001b[1;34m'country'\u001b[0m\u001b[1;33m)\u001b[0m\u001b[1;33m\u001b[0m\u001b[1;33m\u001b[0m\u001b[0m\n\u001b[0;32m      5\u001b[0m \u001b[1;33m\u001b[0m\u001b[0m\n",
      "\u001b[1;31mNameError\u001b[0m: name 'Basemap' is not defined"
     ]
    }
   ],
   "source": [
    "#Read the shape file world_countries_boundary_file_world_2002 \n",
    "#which contains the information required to plot the value on world map\n",
    "m = Basemap(projection = 'robin', lon_0 = 0, resolution = 'c') \n",
    "shp_info = m.readshapefile(\"world_countries_boundary_file_world_2002\",'country')\n",
    "\n",
    "#dataframe to store the country iso information, which can be used to plot the colour on the map\n",
    "countrynames=[]\n",
    "\n",
    "for shapedict in m.country_info:\n",
    "    countryname = shapedict['GMI_CNTRY']\n",
    "    try:\n",
    "        av = colors[countryname]\n",
    "    except KeyError:\n",
    "        #country names present in shape file but not in the integrated dataset, we can default the colour to green\n",
    "        colors[countryname] = \"green\"\n",
    "    countrynames.append(countryname)\n",
    "\n",
    "np.unique(countrynames)\n"
   ]
  },
  {
   "cell_type": "markdown",
   "metadata": {},
   "source": [
    "Now we shall plot the world map using the information from the shapefile"
   ]
  },
  {
   "cell_type": "code",
   "execution_count": null,
   "metadata": {
    "collapsed": false
   },
   "outputs": [],
   "source": [
    "from matplotlib.collections import LineCollection\n",
    "\n",
    "plt.figure(figsize=(50,20))\n",
    "#plot the default details and draw few latitudes and longitudes and draw the boundaries of all the countries\n",
    "m.drawmapboundary(fill_color = '#85A6D9')\n",
    "m.fillcontinents(color = 'white', lake_color = '#85A6D9') \n",
    "m.drawcoastlines(color = '#6D5F47', linewidth = .4) \n",
    "m.drawcountries(color = '#6D5F47', linewidth = .4)\n",
    "m.drawmeridians(np.arange(-180, 180, 30), color = 'black') \n",
    "m.drawparallels(np.arange(-90, 90, 30), color = 'black')\n",
    "\n",
    "plt.title('WORLD MAP',fontsize='xx-large')\n",
    "plt.gca().axis(\"off\")\n"
   ]
  },
  {
   "cell_type": "markdown",
   "metadata": {},
   "source": [
    ">>**2.5) PLOT SAMPLE ON WORLD MAP **<BR>"
   ]
  },
  {
   "cell_type": "markdown",
   "metadata": {},
   "source": [
    "We now need to plot the integrated dataset onto world map based on the count of occurences and the colour code that we have defined."
   ]
  },
  {
   "cell_type": "code",
   "execution_count": null,
   "metadata": {
    "collapsed": false
   },
   "outputs": [],
   "source": [
    "from matplotlib.collections import LineCollection\n",
    "\n",
    "#display map in large size\n",
    "plt.figure(figsize=(50,20))\n",
    "\n",
    "m.drawmapboundary(fill_color = '#85A6D9')\n",
    "m.fillcontinents(lake_color = '#85A6D9') \n",
    "m.drawcoastlines(color = '#6D5F47', linewidth = .4) \n",
    "m.drawcountries(color = '#6D5F47', linewidth = .4)\n",
    "m.drawmeridians(np.arange(-180, 180, 30), color = 'black') \n",
    "m.drawparallels(np.arange(-90, 90, 30), color = 'black')\n",
    "\n",
    "#fetch information for each country from shape file to plot them accordingly\n",
    "for nshape,seg in enumerate(m.country):\n",
    "    xx,yy = zip(*seg)\n",
    "    #color code of each country is fetched based on values that were already set in colors dataframe\n",
    "    plt.fill(xx,yy,colors[countrynames[nshape]])\n",
    "   \n",
    "plt.title('Country-wise count of disasters between 1980 and 2015',fontsize='xx-large')\n",
    "plt.gca().axis(\"off\")\n",
    "\n",
    "#To create legend for the colour code used\n",
    "import matplotlib.patches as mpatches\n",
    "\n",
    "l10 = mpatches.Patch(color='green', label='0-10')\n",
    "l50 = mpatches.Patch(color='yellow', label='11-50')\n",
    "l100 = mpatches.Patch(color='orange', label='51-100')\n",
    "l200 = mpatches.Patch(color='maroon', label='101-200')\n",
    "g200 = mpatches.Patch(color='red', label='>200')\n",
    "\n",
    "plt.legend(handles=[l10,l50,l100,l200,g200], loc=1, title='Number of disasters', prop={'size':25})\n",
    "\n",
    "plt.show()"
   ]
  }
 ],
 "metadata": {
  "anaconda-cloud": {},
  "kernelspec": {
   "name": "python3",
   "display_name": "Python 3.9.0 64-bit",
   "metadata": {
    "interpreter": {
     "hash": "139694f306bb52b89b2582baaa1d782168b8e92b4bab3b8165b2808ea15893f2"
    }
   }
  },
  "language_info": {
   "codemirror_mode": {
    "name": "ipython",
    "version": 2
   },
   "file_extension": ".py",
   "mimetype": "text/x-python",
   "name": "python",
   "nbconvert_exporter": "python",
   "pygments_lexer": "ipython2",
   "version": "3.9.0-final"
  }
 },
 "nbformat": 4,
 "nbformat_minor": 0
}