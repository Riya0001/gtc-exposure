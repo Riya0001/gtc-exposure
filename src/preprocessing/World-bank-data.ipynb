{
 "metadata": {
  "language_info": {
   "codemirror_mode": {
    "name": "ipython",
    "version": 3
   },
   "file_extension": ".py",
   "mimetype": "text/x-python",
   "name": "python",
   "nbconvert_exporter": "python",
   "pygments_lexer": "ipython3",
   "version": "3.9.0-final"
  },
  "orig_nbformat": 2,
  "kernelspec": {
   "name": "python3",
   "display_name": "Python 3",
   "language": "python"
  }
 },
 "nbformat": 4,
 "nbformat_minor": 2,
 "cells": [
  {
   "source": [
    "# Gathering data from World Bank database\n",
    "\n",
    "wbdata docs: https://wbdata.readthedocs.io/en/stable/"
   ],
   "cell_type": "markdown",
   "metadata": {}
  },
  {
   "cell_type": "code",
   "execution_count": 3,
   "metadata": {},
   "outputs": [],
   "source": [
    "import pandas as pd\n",
    "import wbdata as wb"
   ]
  },
  {
   "cell_type": "code",
   "execution_count": 7,
   "metadata": {},
   "outputs": [
    {
     "output_type": "execute_result",
     "data": {
      "text/plain": [
       "id                 name\n",
       "-----------------  -------------------------------------------------------------------------------------------\n",
       "HOU.XPD.HE.PC.CR   Monthly Per Capita Household Health Expenditure (in IDR)\n",
       "SH.XPD.CHEX.GD.ZS  Current health expenditure (% of GDP)\n",
       "SH.XPD.CHEX.PC.CD  Current health expenditure per capita (current US$)\n",
       "SH.XPD.CHEX.PP.CD  Current health expenditure per capita, PPP (current international $)\n",
       "SH.XPD.EHEX.CH.ZS  External health expenditure (% of current health expenditure)\n",
       "SH.XPD.EHEX.EH.ZS  External health expenditure channeled through government (% of external health expenditure)\n",
       "SH.XPD.EHEX.PC.CD  External health expenditure per capita (current US$)\n",
       "SH.XPD.EHEX.PP.CD  External health expenditure per capita, PPP (current international $)\n",
       "SH.XPD.GHED.CH.ZS  Domestic general government health expenditure (% of current health expenditure)\n",
       "SH.XPD.GHED.GD.ZS  Domestic general government health expenditure (% of GDP)\n",
       "SH.XPD.GHED.GE.ZS  Domestic general government health expenditure (% of general government expenditure)\n",
       "SH.XPD.GHED.PC.CD  Domestic general government health expenditure per capita (current US$)\n",
       "SH.XPD.GHED.PP.CD  Domestic general government health expenditure per capita, PPP (current international $)\n",
       "SH.XPD.KHEX.GD.ZS  Capital health expenditure (% of GDP)\n",
       "SH.XPD.OOPC.CH.ZS  Out-of-pocket expenditure (% of current health expenditure)\n",
       "SH.XPD.OOPC.TO.ZS  Out-of-pocket health expenditure (% of total expenditure on health)\n",
       "SH.XPD.OOPC.ZS     Out-of-pocket health expenditure (% of private expenditure on health)\n",
       "SH.XPD.PCAP        Health expenditure per capita (current US$)\n",
       "SH.XPD.PCAP.GX     Government health expenditure per capita (current US$)\n",
       "SH.XPD.PCAP.PP.KD  Health expenditure per capita, PPP (constant 2011 international $)\n",
       "SH.XPD.PPPC        Health expenditure per capita, PPP (current international $)\n",
       "SH.XPD.PRIV        Health expenditure, private (% of total health expenditure)\n",
       "SH.XPD.PRIV.ZS     Health expenditure, private (% of GDP)\n",
       "SH.XPD.PUBL        Health expenditure, public (% of total health expenditure)\n",
       "SH.XPD.PUBL.GX.ZS  Health expenditure, public (% of government expenditure)\n",
       "SH.XPD.PUBL.ZS     Health expenditure, public (% of GDP)\n",
       "SH.XPD.PVTD.CH.ZS  Domestic private health expenditure (% of current health expenditure)\n",
       "SH.XPD.PVTD.PC.CD  Domestic private health expenditure per capita (current US$)\n",
       "SH.XPD.PVTD.PP.CD  Domestic private health expenditure per capita, PPP (current international $)\n",
       "SH.XPD.TOTL.CD     Health expenditure (current US$)\n",
       "SH.XPD.TOTL.ZS     Health expenditure, total (% of GDP)"
      ]
     },
     "metadata": {},
     "execution_count": 7
    }
   ],
   "source": [
    "# Find what data is available - There is a lot...\n",
    "wb.search_indicators('Health expenditure')"
   ]
  },
  {
   "cell_type": "code",
   "execution_count": 12,
   "metadata": {},
   "outputs": [
    {
     "output_type": "execute_result",
     "data": {
      "text/plain": [
       "         HE /capita      HE /GDP\n",
       "count   3332.000000  3332.000000\n",
       "mean     858.769197     6.282475\n",
       "std     1519.927486     2.786882\n",
       "min        3.350789     1.025159\n",
       "25%       58.965196     4.294498\n",
       "50%      237.614395     5.814809\n",
       "75%      793.726730     8.005001\n",
       "max    10246.138672    25.475058"
      ],
      "text/html": "<div>\n<style scoped>\n    .dataframe tbody tr th:only-of-type {\n        vertical-align: middle;\n    }\n\n    .dataframe tbody tr th {\n        vertical-align: top;\n    }\n\n    .dataframe thead th {\n        text-align: right;\n    }\n</style>\n<table border=\"1\" class=\"dataframe\">\n  <thead>\n    <tr style=\"text-align: right;\">\n      <th></th>\n      <th>HE /capita</th>\n      <th>HE /GDP</th>\n    </tr>\n  </thead>\n  <tbody>\n    <tr>\n      <th>count</th>\n      <td>3332.000000</td>\n      <td>3332.000000</td>\n    </tr>\n    <tr>\n      <th>mean</th>\n      <td>858.769197</td>\n      <td>6.282475</td>\n    </tr>\n    <tr>\n      <th>std</th>\n      <td>1519.927486</td>\n      <td>2.786882</td>\n    </tr>\n    <tr>\n      <th>min</th>\n      <td>3.350789</td>\n      <td>1.025159</td>\n    </tr>\n    <tr>\n      <th>25%</th>\n      <td>58.965196</td>\n      <td>4.294498</td>\n    </tr>\n    <tr>\n      <th>50%</th>\n      <td>237.614395</td>\n      <td>5.814809</td>\n    </tr>\n    <tr>\n      <th>75%</th>\n      <td>793.726730</td>\n      <td>8.005001</td>\n    </tr>\n    <tr>\n      <th>max</th>\n      <td>10246.138672</td>\n      <td>25.475058</td>\n    </tr>\n  </tbody>\n</table>\n</div>"
     },
     "metadata": {},
     "execution_count": 12
    }
   ],
   "source": [
    "# Import into pandas dataframe with sensible names\n",
    "countries = [i['id'] for i in wb.get_country(incomelevel=['HIC','MIC','LIC'])] # If income level not precised it includes various regions also\n",
    "indicators = {\"SH.XPD.CHEX.PC.CD\": \"HE /capita\",\"SH.XPD.CHEX.GD.ZS\": \"HE /GDP\"}\n",
    "data = wb.get_dataframe(indicators, country=countries,convert_date=True)\n",
    "data.describe()"
   ]
  }
 ]
}