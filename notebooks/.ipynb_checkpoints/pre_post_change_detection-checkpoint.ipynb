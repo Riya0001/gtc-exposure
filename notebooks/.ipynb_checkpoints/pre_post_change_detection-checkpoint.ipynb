{
 "cells": [
  {
   "cell_type": "markdown",
   "metadata": {},
   "source": [
    "## Implement change detection pre and post disaster"
   ]
  },
  {
   "cell_type": "markdown",
   "metadata": {},
   "source": [
    "Note: Based on the sar_deforestation Descartes example"
   ]
  },
  {
   "cell_type": "code",
   "execution_count": 34,
   "metadata": {},
   "outputs": [],
   "source": [
    "# Import packages\n",
    "import IPython\n",
    "import ipywidgets\n",
    "import ipyleaflet\n",
    "import json\n",
    "import matplotlib.pyplot as plt\n",
    "import matplotlib.image as mpimg\n",
    "%matplotlib inline\n",
    "import numpy as np\n",
    "import random\n",
    "import os\n",
    "import tensorflow as tf\n",
    "from utils import FullArray, DrawControl\n",
    "from unet import UNet\n",
    "import geopandas as gpd\n",
    "import descarteslabs as dl\n",
    "import descarteslabs.workflows as wf\n",
    "from descarteslabs.vectors import FeatureCollection, properties as p\n",
    "\n"
   ]
  },
  {
   "cell_type": "markdown",
   "metadata": {},
   "source": [
    "## Sentinel-1 log ratio\n",
    "\n",
    "Here, we generate Sentinel-1 SAR median composites for August-September and October-November, and create a log-ratio layer by taking the log of the ratio of these two composites. "
   ]
  },
  {
   "cell_type": "code",
   "execution_count": 44,
   "metadata": {},
   "outputs": [],
   "source": [
    "# Define & visualize Workflows ImageCollection for before & after Sentinel-1 composites\n",
    "\n",
    "#pre-disaster imagery\n",
    "img = wf.ImageCollection.from_id(\"sentinel-2:L1C\",start_datetime='2017-08-15', end_datetime='2017-09-15').pick_bands(\"red green blue\")\n",
    "img = img.filter(lambda img: img.properties[\"cloud_fraction\"] <= 0.1) #filtering out the clouds\n",
    "mosaic_pre = img.min(axis=\"images\")  #axis='images')\n",
    "mosaic_pre.visualize('before', map=m1) # scales=[(0, 1), (0, 1), (0, 1)],\n",
    "\n",
    "#post disaster imagery\n",
    "img2 = wf.ImageCollection.from_id(\"sentinel-2:L1C\",start_datetime='2017-10-01', end_datetime='2017-11-01').pick_bands(\"red green blue\")\n",
    "img2 = img2.filter(lambda img: img.properties[\"cloud_fraction\"] <= 0.06) #filtering out the clouds\n",
    "mosaic_post = img2.min(axis=\"images\")\n",
    "mosaic_post.visualize('after', map=m1) # scales=[(0, 1), (0, 1), (0, 1)],\n",
    "\n",
    "#take the log of the ratio of both composites (equivalent to difference of logs)\n",
    "#calculate the ratio on the mosaic rather than the image collection, as visualise will only work with a single image\n",
    "log_ratio = wf.log10(mosaic_pre / mosaic_post)\n",
    "\n",
    "threshold =  0.15\n",
    "\n",
    "# Threshold the log ratio layer  \n",
    "change_detected = (log_ratio > threshold) "
   ]
  },
  {
   "cell_type": "markdown",
   "metadata": {},
   "source": [
    "# Morphological filtering\n",
    "The log-ratio methodology is inherently noisy, so here we leverage the Workflows kernel capability to apply some simple morphological filtering to the change_d layer in order to clean up the deforestation detections."
   ]
  },
  {
   "cell_type": "code",
   "execution_count": 45,
   "metadata": {},
   "outputs": [],
   "source": [
    "# Define simple functions for erosion and dilation\n",
    "\n",
    "def erode_op(map_layer, iters, kernel):\n",
    "    map_layer = ~map_layer\n",
    "    for i in range(iters):\n",
    "        map_layer = wf.conv2d(map_layer, kernel) > 0\n",
    "    map_layer = ~map_layer \n",
    "    return map_layer\n",
    "\n",
    "def dilate_op(map_layer, iters, kernel):\n",
    "    for i in range(iters):\n",
    "        map_layer = map_layer * 1.0\n",
    "        map_layer = wf.conv2d(map_layer, kernel) > 0\n",
    "    return map_layer\n",
    "\n",
    "# Define a kernel and perform one erosion followed by two dilations\n",
    "kernel = wf.Kernel(dims=(3,3), data=[0., 1., 0.,\n",
    "                                      1., 1., 1.,\n",
    "                                      0., 1., 0.])\n",
    "\n",
    "eroded = erode_op(change_detected, iters=1, kernel=kernel)\n",
    "dilated = dilate_op(eroded, iters=2, kernel=kernel)"
   ]
  },
  {
   "cell_type": "markdown",
   "metadata": {},
   "source": [
    "## Define custom ipywidget to visualize change detection mask \n",
    "\n",
    "The FullArray call leverages the supporting utilities to enable the user to draw a polygon around an area of interest to output the size of the areas where change was detected. "
   ]
  },
  {
   "cell_type": "code",
   "execution_count": 46,
   "metadata": {},
   "outputs": [
    {
     "data": {
      "application/vnd.jupyter.widget-view+json": {
       "model_id": "9874e441a86143c4af62f220437fe23b",
       "version_major": 2,
       "version_minor": 0
      },
      "text/plain": [
       "HBox(children=(\n",
       "`ipyleaflet` and/or `ipywidgets` Jupyter extensions are not installed! (or you're not in a Jup…"
      ]
     },
     "metadata": {},
     "output_type": "display_data"
    }
   ],
   "source": [
    "# Place the center of the map in an interesting area\n",
    "center = (18.466333, -66.105721)\n",
    "\n",
    "# Initialize a workflow map\n",
    "m = wf.map.map\n",
    "m.center = center\n",
    "m.zoom = 15\n",
    "m.layout.width = '1200px'\n",
    "m.layout.height = '900'\n",
    "\n",
    "\n",
    "\n",
    "dc = DrawControl(circlemarker={}, rectangle={}, polyline={})\n",
    "wf.map.add_control(dc)\n",
    "\n",
    "log_ratio.visualize('change_detcted', map=m)\n",
    "\n",
    "ipywidgets.HBox([wf.map])\n",
    "\n"
   ]
  },
  {
   "cell_type": "code",
   "execution_count": 47,
   "metadata": {},
   "outputs": [
    {
     "ename": "NameError",
     "evalue": "name 'settlements' is not defined",
     "output_type": "error",
     "traceback": [
      "\u001b[0;31m---------------------------------------------------------------------------\u001b[0m",
      "\u001b[0;31mNameError\u001b[0m                                 Traceback (most recent call last)",
      "\u001b[0;32m<ipython-input-47-ec7f7c6305c6>\u001b[0m in \u001b[0;36m<module>\u001b[0;34m\u001b[0m\n\u001b[1;32m      1\u001b[0m \u001b[0;32mimport\u001b[0m \u001b[0mgeojson\u001b[0m\u001b[0;34m\u001b[0m\u001b[0;34m\u001b[0m\u001b[0m\n\u001b[1;32m      2\u001b[0m \u001b[0;32mfrom\u001b[0m \u001b[0mgeojson\u001b[0m \u001b[0;32mimport\u001b[0m \u001b[0mPoint\u001b[0m\u001b[0;34m,\u001b[0m \u001b[0mMultiPolygon\u001b[0m\u001b[0;34m,\u001b[0m \u001b[0mPolygon\u001b[0m\u001b[0;34m,\u001b[0m \u001b[0mFeature\u001b[0m\u001b[0;34m,\u001b[0m \u001b[0mFeatureCollection\u001b[0m\u001b[0;34m,\u001b[0m \u001b[0mdump\u001b[0m\u001b[0;34m\u001b[0m\u001b[0;34m\u001b[0m\u001b[0m\n\u001b[0;32m----> 3\u001b[0;31m \u001b[0mpoly\u001b[0m \u001b[0;34m=\u001b[0m \u001b[0mPolygon\u001b[0m\u001b[0;34m(\u001b[0m\u001b[0;34m[\u001b[0m\u001b[0;34m[\u001b[0m\u001b[0msettlements\u001b[0m\u001b[0;34m.\u001b[0m\u001b[0mgeometry\u001b[0m\u001b[0;34m.\u001b[0m\u001b[0mx\u001b[0m\u001b[0;34m[\u001b[0m\u001b[0;36m0\u001b[0m\u001b[0;34m]\u001b[0m\u001b[0;34m,\u001b[0m \u001b[0msettlements\u001b[0m\u001b[0;34m.\u001b[0m\u001b[0mgeometry\u001b[0m\u001b[0;34m.\u001b[0m\u001b[0my\u001b[0m\u001b[0;34m[\u001b[0m\u001b[0;36m0\u001b[0m\u001b[0;34m]\u001b[0m\u001b[0;34m]\u001b[0m\u001b[0;34m,\u001b[0m \u001b[0;34m[\u001b[0m\u001b[0msettlements\u001b[0m\u001b[0;34m.\u001b[0m\u001b[0mgeometry\u001b[0m\u001b[0;34m.\u001b[0m\u001b[0mx\u001b[0m\u001b[0;34m[\u001b[0m\u001b[0;36m0\u001b[0m\u001b[0;34m]\u001b[0m\u001b[0;34m+\u001b[0m\u001b[0;36m0.001\u001b[0m\u001b[0;34m,\u001b[0m \u001b[0msettlements\u001b[0m\u001b[0;34m.\u001b[0m\u001b[0mgeometry\u001b[0m\u001b[0;34m.\u001b[0m\u001b[0my\u001b[0m\u001b[0;34m[\u001b[0m\u001b[0;36m0\u001b[0m\u001b[0;34m]\u001b[0m\u001b[0;34m]\u001b[0m\u001b[0;34m,\u001b[0m \u001b[0;34m[\u001b[0m\u001b[0msettlements\u001b[0m\u001b[0;34m.\u001b[0m\u001b[0mgeometry\u001b[0m\u001b[0;34m.\u001b[0m\u001b[0mx\u001b[0m\u001b[0;34m[\u001b[0m\u001b[0;36m0\u001b[0m\u001b[0;34m]\u001b[0m\u001b[0;34m+\u001b[0m\u001b[0;36m0.01\u001b[0m\u001b[0;34m,\u001b[0m \u001b[0msettlements\u001b[0m\u001b[0;34m.\u001b[0m\u001b[0mgeometry\u001b[0m\u001b[0;34m.\u001b[0m\u001b[0my\u001b[0m\u001b[0;34m[\u001b[0m\u001b[0;36m0\u001b[0m\u001b[0;34m]\u001b[0m\u001b[0;34m+\u001b[0m\u001b[0;36m0.01\u001b[0m\u001b[0;34m]\u001b[0m\u001b[0;34m,\u001b[0m \u001b[0;34m[\u001b[0m\u001b[0msettlements\u001b[0m\u001b[0;34m.\u001b[0m\u001b[0mgeometry\u001b[0m\u001b[0;34m.\u001b[0m\u001b[0mx\u001b[0m\u001b[0;34m[\u001b[0m\u001b[0;36m0\u001b[0m\u001b[0;34m]\u001b[0m\u001b[0;34m,\u001b[0m \u001b[0msettlements\u001b[0m\u001b[0;34m.\u001b[0m\u001b[0mgeometry\u001b[0m\u001b[0;34m.\u001b[0m\u001b[0my\u001b[0m\u001b[0;34m[\u001b[0m\u001b[0;36m0\u001b[0m\u001b[0;34m]\u001b[0m\u001b[0;34m+\u001b[0m\u001b[0;36m0.01\u001b[0m\u001b[0;34m]\u001b[0m\u001b[0;34m,\u001b[0m \u001b[0;34m[\u001b[0m\u001b[0msettlements\u001b[0m\u001b[0;34m.\u001b[0m\u001b[0mgeometry\u001b[0m\u001b[0;34m.\u001b[0m\u001b[0mx\u001b[0m\u001b[0;34m[\u001b[0m\u001b[0;36m0\u001b[0m\u001b[0;34m]\u001b[0m\u001b[0;34m,\u001b[0m \u001b[0msettlements\u001b[0m\u001b[0;34m.\u001b[0m\u001b[0mgeometry\u001b[0m\u001b[0;34m.\u001b[0m\u001b[0my\u001b[0m\u001b[0;34m[\u001b[0m\u001b[0;36m0\u001b[0m\u001b[0;34m]\u001b[0m\u001b[0;34m]\u001b[0m\u001b[0;34m]\u001b[0m\u001b[0;34m)\u001b[0m\u001b[0;34m\u001b[0m\u001b[0;34m\u001b[0m\u001b[0m\n\u001b[0m\u001b[1;32m      4\u001b[0m \u001b[0;31m#poly = Polygon(([[settlements.geometry.x[0], settlements.geometry.y[0]], [settlements.geometry.x[0], settlements.geometry.y[0]], [settlements.geometry.x[0], settlements.geometry.y[0]], [settlements.geometry.x[0], settlements.geometry.y[0]], [settlements.geometry.x[0], settlements.geometry.y[0]]]))\u001b[0m\u001b[0;34m\u001b[0m\u001b[0;34m\u001b[0m\u001b[0;34m\u001b[0m\u001b[0m\n\u001b[1;32m      5\u001b[0m \u001b[0mfeatures\u001b[0m \u001b[0;34m=\u001b[0m \u001b[0;34m[\u001b[0m\u001b[0;34m]\u001b[0m\u001b[0;34m\u001b[0m\u001b[0;34m\u001b[0m\u001b[0m\n",
      "\u001b[0;31mNameError\u001b[0m: name 'settlements' is not defined"
     ]
    }
   ],
   "source": [
    "import geojson\n",
    "from geojson import Point, MultiPolygon, Polygon, Feature, FeatureCollection, dump\n",
    "poly = Polygon([[settlements.geometry.x[0], settlements.geometry.y[0]], [settlements.geometry.x[0]+0.001, settlements.geometry.y[0]], [settlements.geometry.x[0]+0.01, settlements.geometry.y[0]+0.01], [settlements.geometry.x[0], settlements.geometry.y[0]+0.01], [settlements.geometry.x[0], settlements.geometry.y[0]]])\n",
    "#poly = Polygon(([[settlements.geometry.x[0], settlements.geometry.y[0]], [settlements.geometry.x[0], settlements.geometry.y[0]], [settlements.geometry.x[0], settlements.geometry.y[0]], [settlements.geometry.x[0], settlements.geometry.y[0]], [settlements.geometry.x[0], settlements.geometry.y[0]]]))\n",
    "features = []\n",
    "features.append(Feature(properties={\"Damage\": settlements.grading[0]}, geometry=poly))\n",
    "feature_collection = FeatureCollection(features)\n",
    "with open('dominicaDamage.geojson', 'w') as f:\n",
    "   dump(feature_collection, f)"
   ]
  },
  {
   "cell_type": "code",
   "execution_count": null,
   "metadata": {},
   "outputs": [],
   "source": []
  }
 ],
 "metadata": {
  "kernelspec": {
   "display_name": "Python 3",
   "language": "python",
   "name": "python3"
  },
  "language_info": {
   "codemirror_mode": {
    "name": "ipython",
    "version": 3
   },
   "file_extension": ".py",
   "mimetype": "text/x-python",
   "name": "python",
   "nbconvert_exporter": "python",
   "pygments_lexer": "ipython3",
   "version": "3.7.8"
  }
 },
 "nbformat": 4,
 "nbformat_minor": 4
}
