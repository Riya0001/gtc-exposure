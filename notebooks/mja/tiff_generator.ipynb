{
 "cells": [
  {
   "cell_type": "markdown",
   "metadata": {},
   "source": [
    "## Packages "
   ]
  },
  {
   "cell_type": "code",
   "execution_count": 19,
   "metadata": {},
   "outputs": [
    {
     "name": "stdout",
     "output_type": "stream",
     "text": [
      "Requirement already satisfied: tifffile in /opt/conda/lib/python3.7/site-packages (2021.2.1)\n",
      "Requirement already satisfied: numpy>=1.15.1 in /opt/conda/lib/python3.7/site-packages (from tifffile) (1.18.5)\n",
      "Note: you may need to restart the kernel to use updated packages.\n"
     ]
    }
   ],
   "source": [
    "pip install tifffile"
   ]
  },
  {
   "cell_type": "code",
   "execution_count": 20,
   "metadata": {},
   "outputs": [],
   "source": [
    "# import packages\n",
    "import IPython\n",
    "import ipywidgets\n",
    "import ipyleaflet\n",
    "import json\n",
    "import matplotlib.pyplot as plt\n",
    "import matplotlib.image as mpimg\n",
    "%matplotlib inline\n",
    "import numpy as np\n",
    "import random\n",
    "import os\n",
    "import tensorflow as tf\n",
    "\n",
    "import descarteslabs as dl\n",
    "import descarteslabs.workflows as wf\n",
    "import utils_santo \n",
    "import importlib\n",
    "import tifffile\n",
    "\n",
    "from utils_santo import gdal_dataset_from_geocontext\n",
    "from unet import UNet\n",
    "from PIL import Image\n",
    "from shapely.geometry import shape\n",
    "from osgeo import gdal, ogr\n",
    "from typing import Sequence"
   ]
  },
  {
   "cell_type": "markdown",
   "metadata": {},
   "source": [
    "## Import GeoJSON"
   ]
  },
  {
   "cell_type": "code",
   "execution_count": 21,
   "metadata": {},
   "outputs": [],
   "source": [
    "with open(\"polygons/parry_town.geojson\") as f:\n",
    "    fc = json.load(f)"
   ]
  },
  {
   "cell_type": "code",
   "execution_count": 22,
   "metadata": {},
   "outputs": [
    {
     "data": {
      "application/vnd.jupyter.widget-view+json": {
       "model_id": "5dcd31b366324e0a9108e12483ce5f4f",
       "version_major": 2,
       "version_minor": 0
      },
      "text/plain": [
       "\n",
       "`ipyleaflet` and/or `ipywidgets` Jupyter extensions are not installed! (or you're not in a Jupyter notebook.)\n",
       "To install for JupyterLab, run this in a cell:\n",
       "    !jupyter labextension install jupyter-leaflet @jupyter-widgets/jupyterlab-manager\n",
       "To install for plain Jupyter Notebook, run this in a cell:\n",
       "    !jupyter nbextension enable --py --sys-prefix ipyleaflet\n",
       "Then, restart the kernel and refresh the webpage.\n"
      ]
     },
     "metadata": {},
     "output_type": "display_data"
    }
   ],
   "source": [
    "a_map = wf.interactive.MapApp()\n",
    "a_map.center = (18.394, -77.093)\n",
    "a_map.zoom = 15\n",
    "\n",
    "los_plat_geojson = ipyleaflet.GeoJSON(data=fc,\n",
    "                   style={\"color\": \"red\", \"fillOpacity\": 0.1},\n",
    "                   hover_style={\"fillOpacity\": 0.1})\n",
    "\n",
    "a_map.add_layer(los_plat_geojson)\n",
    "\n",
    "img = wf.ImageCollection.from_id(\"sentinel-2:L1C\",start_datetime='2017-08-1', end_datetime='2020-09-9').pick_bands(\"red green blue cloud-mask\") #North santo-domingo: start_datetime='2020-11-24', end_datetime='2020-12-01' #Parry town: start_datetime='2017-08-1', end_datetime='2020-09-9'\n",
    "img = img.filter(lambda img:img.properties[\"cloud_fraction\"] <= 0.01)\n",
    "img = img.map(lambda img: img.mask(img.pick_bands('cloud-mask')==1))\n",
    "\n",
    "my_mosaic = img.pick_bands(\"red green blue\").mosaic()\n",
    "my_mosaic.visualize('image', scales=[(0, 1), (0, 1), (0, 1)], map=a_map)\n",
    "\n",
    "a_map"
   ]
  },
  {
   "cell_type": "markdown",
   "metadata": {},
   "source": [
    "## Generate Training Data from Polygons"
   ]
  },
  {
   "cell_type": "code",
   "execution_count": 26,
   "metadata": {},
   "outputs": [],
   "source": [
    "def generate_tiff_from_polygons(\n",
    "    polygons, #Should be saved as a FeatureCollection in earth engine\n",
    "    products,\n",
    "    bands,\n",
    "    resolution,\n",
    "    tilesize,\n",
    "    pad,\n",
    "    cloud_fraction,\n",
    "    start_datetime,\n",
    "    end_datetime,\n",
    "    out_folder,\n",
    "    seed=0,\n",
    "    debugging = False,\n",
    "    manual_aoi_poly = None #Should be saved as a FeatureCollection in earth engine\n",
    "    ):\n",
    "    \n",
    "    if isinstance(polygons, str):\n",
    "        fname = polygons\n",
    "        with open(fname) as f:\n",
    "            poly = json.load(f)\n",
    "        polygons = {\"type\": \"FeatureCollection\", \"features\": poly[\"features\"]}\n",
    "        ogr_ds = ogr.Open(fname)\n",
    "    elif isinstance(polygons, dict):\n",
    "        assert polygons[\"type\"] == \"FeatureCollection\"\n",
    "        ogr_ds = ogr.Open(json.dumps(polygons))\n",
    "    else:\n",
    "        print(\"Wrong datatype for POLYGONS.\")\n",
    "        return 0\n",
    "    n_features = len(polygons[\"features\"])\n",
    "    layer = ogr_ds.GetLayer()\n",
    "    \n",
    "    \n",
    "    \n",
    "    if isinstance(manual_aoi_poly, str):\n",
    "        with open(manual_aoi_poly) as f:\n",
    "            aoi_poly_collection = json.load(f)\n",
    "        aoi_poly = aoi_poly_collection[\"features\"][0][\"geometry\"]\n",
    "    elif isinstance(manual_aoi_poly, dict):\n",
    "        assert manual_aoi_poly[\"type\"] == \"FeatureCollection\"\n",
    "        aoi_poly = manual_aoi_poly\n",
    "    elif manual_aoi_poly is None:\n",
    "        #Bounding box covering all the polygons\n",
    "        poly_coords = []\n",
    "        for i in range(n_features):\n",
    "            poly_coords.extend(polygons['features'][i]['geometry']['coordinates'][0])\n",
    "\n",
    "\n",
    "        min_corner = [min(map(lambda x:x[0], poly_coords)), min(map(lambda x:x[1], poly_coords))]\n",
    "        max_corner = [max(map(lambda x:x[0], poly_coords)), max(map(lambda x:x[1], poly_coords))]\n",
    "\n",
    "        #Turn this into a polygon\n",
    "        aoi_poly = {\n",
    "            \"type\":\"Polygon\",\n",
    "            \"coordinates\":[[\n",
    "                min_corner,\n",
    "                [min_corner[0], max_corner[1]],\n",
    "                max_corner,\n",
    "                [max_corner[0], min_corner[1]],\n",
    "                min_corner\n",
    "            ]]\n",
    "        } \n",
    "    else:\n",
    "        print(\"Wrong datatype for MANUAL_AOI\")\n",
    "\n",
    "        \n",
    "        \n",
    "    #Get dltiles for bounding box around geojsons\n",
    "    dltiles = dl.scenes.DLTile.from_shape(shape = aoi_poly, resolution = resolution, tilesize = tilesize, pad = pad)\n",
    "    \n",
    "    arrs = []\n",
    "    trgts = []\n",
    "    \n",
    "    #Normalisation for spectral bands for the given product. ASSUMES THEY ARE ALL ON THE SAME SCALE\n",
    "    product_bands = list(dl.catalog.Product.get(products).bands())\n",
    "    \n",
    "    max_spectral_val = -1\n",
    "    for band in product_bands:\n",
    "        if band.type == 'spectral':\n",
    "            max_spectral_val = band.data_range[1]\n",
    "            break\n",
    "    \n",
    "    if max_spectral_val == -1:\n",
    "        print(\"Could not find maximum spectral value for bands in product\")\n",
    "        return\n",
    "    \n",
    "    if not os.path.exists(out_folder + \"sentinel_raster_maps/\"):\n",
    "        os.makedirs(out_folder + \"sentinel_raster_maps/\")\n",
    "    if not os.path.exists(out_folder + \"target_raster_maps/\"):\n",
    "        os.makedirs(out_folder + \"target_raster_maps/\")\n",
    "    \n",
    "    for i, dltile in enumerate(dltiles):\n",
    "        savefile_image = out_folder + \"sentinel_raster_maps/\" + \"{}.tiff\".format(\"image_\"+str(i))\n",
    "        savefile_target = out_folder + \"target_raster_maps/\" \"{}.tiff\".format(\"target_\"+str(i))\n",
    "        \n",
    "        # Search for scenes for the dltile\n",
    "        scenes, ctx = dl.scenes.search(\n",
    "            aoi=dltile,\n",
    "            products=products,\n",
    "            cloud_fraction=cloud_fraction,\n",
    "            start_datetime=start_datetime,\n",
    "            end_datetime=end_datetime,\n",
    "        )\n",
    "        \n",
    "        #Break if no valid scene for this dltile\n",
    "        if len(scenes) == 0:\n",
    "            break\n",
    "            \n",
    "        #Get the raster image for these scenes - i.e the satellite data in the given bands\n",
    "        arr = scenes.mosaic(bands=bands, ctx=ctx, bands_axis=-1) #* 255 / max_spectral_val\n",
    "        #n.b you can plot this using plt.imshow(arr.data)\n",
    "        arr = np.ma.MaskedArray.astype(np.rint(arr/max_spectral_val * 255), np.uint8)\n",
    "        tifffile.imsave(savefile_image, arr, planarconfig=\"contig\")\n",
    "        #image = Image.fromarray(arr)\n",
    "        #image.save(savefile_image)\n",
    "        \n",
    "        # Using the metadata get the target - the map of whether the settlements are informal or not\n",
    "        ds_target = gdal_dataset_from_geocontext(\n",
    "            ctx,\n",
    "            1,\n",
    "            driver_name=\"GTiff\",\n",
    "            savename=savefile_target,\n",
    "            dtype=\"byte\",\n",
    "            options=[\"COMPRESS=LZW\"],\n",
    "        )\n",
    "        \n",
    "        gdal.RasterizeLayer(\n",
    "            ds_target,\n",
    "            [1],\n",
    "            layer,\n",
    "            burn_values=[1],\n",
    "            options=[\"ALL_TOUCHED=TRUE\", \"COMPRESS=LZW\"],\n",
    "        )\n",
    "\n",
    "        del ds_target\n",
    "\n",
    "        \n",
    "        \n",
    "        if debugging:\n",
    "            arrs.append(arr)\n",
    "            img_target = np.array(Image.open(savefile_target))\n",
    "            trgts.append(img_target)\n",
    "            #Again can be viewed with plt.imshow(img_target)\n",
    "        \n",
    " \n",
    "        \n",
    "\n",
    "    if debugging: \n",
    "        return arrs, trgts\n",
    "    else:\n",
    "        return"
   ]
  },
  {
   "cell_type": "code",
   "execution_count": 31,
   "metadata": {},
   "outputs": [],
   "source": [
    "tilesize=64\n",
    "\n",
    "generate_tiff_from_polygons(\"polygons/parry_town.geojson\",\n",
    "                products='sentinel-2:L1C',\n",
    "                bands=['red', 'green', 'blue', 'red-edge', 'red-edge-2', 'red-edge-3', 'red-edge-4', 'nir', 'swir1', 'swir2'],\n",
    "                resolution=10,\n",
    "                tilesize=tilesize,\n",
    "                pad=0,\n",
    "                cloud_fraction = 0.01,\n",
    "                start_datetime='2017-08-1',\n",
    "                end_datetime='2020-09-9',\n",
    "                out_folder='parry_town_large_aoi_{}/'.format(tilesize),\n",
    "                manual_aoi_poly=\"polygons/parry_town_aoi.geojson\",\n",
    "                )"
   ]
  },
  {
   "cell_type": "markdown",
   "metadata": {},
   "source": [
    "## How to load and show a target/image .tiff files"
   ]
  },
  {
   "cell_type": "code",
   "execution_count": 78,
   "metadata": {},
   "outputs": [],
   "source": [
    "data_folder = \"parry_town_large_aoi_{}/\".format(tilesize)\n",
    "\n",
    "no_images = len(list(filter(lambda x:x.endswith('.tiff') or x.endswith('.tif'), os.listdir(data_folder + \"sentinel_raster_maps/\"))))\n",
    "img_iterator = iter(range(no_images))"
   ]
  },
  {
   "cell_type": "markdown",
   "metadata": {},
   "source": [
    "Run the cell below repeatedly to go through all the corresponding image/targets in the data folder"
   ]
  },
  {
   "cell_type": "code",
   "execution_count": 88,
   "metadata": {},
   "outputs": [
    {
     "data": {
      "text/plain": [
       "<matplotlib.image.AxesImage at 0x7efd033a3e50>"
      ]
     },
     "execution_count": 88,
     "metadata": {},
     "output_type": "execute_result"
    },
    {
     "data": {
      "image/png": "[encoded data removed]",
      "text/plain": [
       "<Figure size 1080x1080 with 2 Axes>"
      ]
     },
     "metadata": {
      "needs_background": "light"
     },
     "output_type": "display_data"
    }
   ],
   "source": [
    "fig, ax = plt.subplots(1,2, figsize = (15,15))\n",
    "\n",
    "i = next(img_iterator)\n",
    "\n",
    "a_target = Image.open('{}/target_{}.tiff'.format(data_folder+\"target_raster_maps\", i)) #tifffile complains about codecs if you try to use that here\n",
    "target_pixel_data = np.reshape(list(a_target.getdata()), (64,64))\n",
    "ax[1].imshow(target_pixel_data)\n",
    "\n",
    "a_image = tifffile.imread(\"{}/image_{}.tiff\".format(data_folder+\"sentinel_raster_maps\", i))\n",
    "image_pixel_data = a_image[:,:,0:3] #RGB Selected as bands 1:3\n",
    "ax[0].imshow(image_pixel_data)"
   ]
  }
 ],
 "metadata": {
  "kernelspec": {
   "display_name": "Python 3",
   "language": "python",
   "name": "python3"
  },
  "language_info": {
   "codemirror_mode": {
    "name": "ipython",
    "version": 3
   },
   "file_extension": ".py",
   "mimetype": "text/x-python",
   "name": "python",
   "nbconvert_exporter": "python",
   "pygments_lexer": "ipython3",
   "version": "3.7.8"
  }
 },
 "nbformat": 4,
 "nbformat_minor": 4
}
