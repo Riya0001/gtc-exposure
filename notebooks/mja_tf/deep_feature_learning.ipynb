{
 "cells": [
  {
   "cell_type": "code",
   "execution_count": 1,
   "metadata": {},
   "outputs": [
    {
     "name": "stdout",
     "output_type": "stream",
     "text": [
      "True\n",
      "2.2.0\n",
      "GPUs available: 1\n"
     ]
    }
   ],
   "source": [
    "import tensorflow as tf\n",
    "import tensorflow_probability as tfp\n",
    "import os\n",
    "import numpy as np\n",
    "import matplotlib.pyplot as plt\n",
    "import pickle as pkl\n",
    "import numpy as np\n",
    "from PIL import Image\n",
    "\n",
    "# Make numpy values easier to read.\n",
    "np.set_printoptions(precision=3, suppress=True)\n",
    "\n",
    "from tensorflow.keras import layers\n",
    "from tensorflow.keras.layers.experimental import preprocessing\n",
    "from tensorflow.keras.preprocessing.image import ImageDataGenerator\n",
    "\n",
    "print(tf.executing_eagerly())\n",
    "\n",
    "print(tf.__version__)\n",
    "print('GPUs available: {}'.format(len(tf.config.list_physical_devices('GPU'))))"
   ]
  },
  {
   "cell_type": "code",
   "execution_count": 2,
   "metadata": {},
   "outputs": [],
   "source": [
    "data_dir = \"data/UCM_preprocessed.tfrecords\""
   ]
  },
  {
   "cell_type": "code",
   "execution_count": 3,
   "metadata": {},
   "outputs": [],
   "source": [
    "# Define the features in the TFRecords file\n",
    "features = {\n",
    "    \"image_raw\": tf.io.FixedLenSequenceFeature(\n",
    "        [], dtype=tf.float32, allow_missing=True\n",
    "    ),\n",
    "    \"height\": tf.io.FixedLenFeature([], tf.int64),\n",
    "    \"width\": tf.io.FixedLenFeature([], tf.int64),\n",
    "    \"channels\": tf.io.FixedLenFeature([], tf.int64),\n",
    "    \"label\": tf.io.FixedLenFeature([], tf.int64),\n",
    "}"
   ]
  },
  {
   "cell_type": "code",
   "execution_count": 4,
   "metadata": {},
   "outputs": [],
   "source": [
    "def parse_example(example_proto):\n",
    "    image_features = tf.io.parse_single_example(example_proto, features)\n",
    "    \n",
    "    height = tf.cast(image_features[\"height\"], tf.int32)\n",
    "    width = tf.cast(image_features[\"width\"], tf.int32)\n",
    "    channels = tf.cast(image_features[\"channels\"], tf.int32)\n",
    "    \n",
    "    image_raw = tf.reshape(\n",
    "        tf.squeeze(image_features[\"image_raw\"]),\n",
    "        tf.stack([height, width, channels])\n",
    "    )\n",
    "    \n",
    "    target = image_features[\"label\"]\n",
    "    \n",
    "    return image_raw, target"
   ]
  },
  {
   "cell_type": "code",
   "execution_count": 5,
   "metadata": {},
   "outputs": [],
   "source": [
    "with open('data/label_dict.pkl', 'rb') as f:\n",
    "    label_dict = pkl.load(f)"
   ]
  },
  {
   "cell_type": "code",
   "execution_count": 9,
   "metadata": {},
   "outputs": [],
   "source": [
    "data = tf.data.TFRecordDataset(data_dir).map(parse_example, num_parallel_calls=tf.data.experimental.AUTOTUNE)\n",
    "\n",
    "data_viz = iter(data.batch(1))"
   ]
  },
  {
   "cell_type": "code",
   "execution_count": 22,
   "metadata": {},
   "outputs": [
    {
     "name": "stderr",
     "output_type": "stream",
     "text": [
      "Clipping input data to the valid range for imshow with RGB data ([0..1] for floats or [0..255] for integers).\n"
     ]
    },
    {
     "name": "stdout",
     "output_type": "stream",
     "text": [
      "Label: agricultural\n",
      "0.04715379\n"
     ]
    },
    {
     "data": {
      "image/png": "[encoded data removed]",
      "text/plain": [
       "<Figure size 432x288 with 1 Axes>"
      ]
     },
     "metadata": {
      "needs_background": "light"
     },
     "output_type": "display_data"
    }
   ],
   "source": [
    "for i in range(50):\n",
    "    img, label = next(data_viz)\n",
    "plt.imshow(img.numpy()[0] + 0.5) #Add 0.5 if it's zero-centered. (it's not quite 0.5 strictly but it's close enough)\n",
    "print(\"Label: {}\".format(label_dict[label.numpy()[0]]))\n",
    "print(img.numpy()[0].mean())"
   ]
  },
  {
   "cell_type": "code",
   "execution_count": null,
   "metadata": {},
   "outputs": [],
   "source": []
  }
 ],
 "metadata": {
  "kernelspec": {
   "display_name": "Python 3",
   "language": "python",
   "name": "python3"
  },
  "language_info": {
   "codemirror_mode": {
    "name": "ipython",
    "version": 3
   },
   "file_extension": ".py",
   "mimetype": "text/x-python",
   "name": "python",
   "nbconvert_exporter": "python",
   "pygments_lexer": "ipython3",
   "version": "3.8.3"
  }
 },
 "nbformat": 4,
 "nbformat_minor": 4
}
