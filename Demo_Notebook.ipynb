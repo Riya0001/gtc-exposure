{
 "cells": [
  {
   "cell_type": "markdown",
   "metadata": {},
   "source": [
    "# GTC Exposure Demonstration"
   ]
  },
  {
   "cell_type": "markdown",
   "metadata": {},
   "source": [
    "## Contents\n",
    "- 1.1 - [Initialisation - Choose Location](#Initialisation)\n",
    "- 1.2 - [Visualise Subsequent Imagery](#visualiseImagery)\n",
    "- 2   - [Settlement Segmentation - Random Forrest Classifier](#Settlement_Segmentation)\n",
    "- 3.1 - [Detect Change - Thresholding Method](#thresholding)\n",
    "- 3.2 - [Detect Change - Trained Classifier Method](#classifier)\n",
    "- 4   - [Exposure Quantification](#exposure_quantification)"
   ]
  },
  {
   "cell_type": "code",
   "execution_count": null,
   "metadata": {},
   "outputs": [],
   "source": [
    "#set up descarteslabs packages\n",
    "import warnings\n",
    "warnings.filterwarnings(\"ignore\")\n",
    "   \n",
    "import descarteslabs\n",
    "import descarteslabs.client.auth.cli as cli\n",
    "\n",
    "o = descarteslabs.common.dotdict.DotDict()\n",
    "o.command = \"login\"\n",
    "cli.LOGIN_URL = \"https://iam.descarteslabs.com/auth/refresh_token\"\n",
    "cli.auth_handler(o)\n",
    "\n",
    "import os\n",
    "import matplotlib.pyplot as plt\n",
    "%matplotlib inline\n",
    "from IPython.display import Image\n",
    "from ipyleaflet import Map, basemaps, LocalTileLayer, ImageOverlay, ScaleControl, LayersControl"
   ]
  },
  {
   "cell_type": "markdown",
   "metadata": {},
   "source": [
    "---\n",
    "N.B. A DescartesLabs account is required to load the [```descarteslabs``` package](https://pypi.org/project/descarteslabs/)."
   ]
  },
  {
   "cell_type": "code",
   "execution_count": null,
   "metadata": {},
   "outputs": [],
   "source": [
    "# Import functions from scripts\n",
    "from change_detection.ratio_method.ir_demo_functions import chooseLocation, assignVariables, submitNewLocation, beforeAfterImages, thresholding, plotChange, drawPolygon, classifyDamage\n",
    "import settlement_segmentation.randomforest.demo_functions as rfc \n",
    "import exposure_quantification.exposure_demo as exq \n",
    "\n",
    "#Download Data\n",
    "download_data()"
   ]
  },
  {
   "cell_type": "markdown",
   "metadata": {},
   "source": [
    "____________\n",
    "<a id='Initialisation'></a>\n",
    "### 1.1 Initialisation - Choose Location\n",
    "Firstly we need to choose a location for which to detect change. You may either choose one of the locations with pre-assigned variables from the list displayed when running the first cell, or you can choose a new location by selecting 'New Location' which will then prompt you to provide variables of your own when running the second cell. Pre-set locations are the following:\n",
    "- Training Set: Roseau, Dominica (pre-post hurricane Maria); Abricots, Haiti (pre-post hurricane Matthew)\n",
    "- Test Set: Jeremie, Haiti (pre-post hurricane Matthew); Port Salut, Haiti (pre-post hurricane Matthew)\n",
    "- Informal Settlements: Bidonville Killick Stenio Vincent, Port-au-Prince, Haiti (2018 to 2019); Parry Town, Ocho Rios, Jamaica (2018 to 2019)\n",
    "- High Resolution: Hidalgo County, Texas, USA (2016 to 2019)"
   ]
  },
  {
   "cell_type": "code",
   "execution_count": null,
   "metadata": {},
   "outputs": [],
   "source": [
    "location = chooseLocation() # Generate pre-defined location list\n",
    "location # Display location dropdown"
   ]
  },
  {
   "cell_type": "code",
   "execution_count": null,
   "metadata": {},
   "outputs": [],
   "source": [
    "variables, updates = assignVariables(location) # Assign variables for chosen location\n",
    "variables, updeates = submitNewLocation(variables, updates) # Submits input variables for new location (if not new location - no action)"
   ]
  },
  {
   "cell_type": "markdown",
   "metadata": {},
   "source": [
    "## _____________\n",
    "<a id='visualiseImagery'></a>\n",
    "### 1.1 - Visualise Imagery\n",
    "We'll start by displaying before and after images for the chosen location. Two pointers here:\n",
    "- You'll need to click the magic markers below the map to scale the imagery band colours properly. You can also untick the 'After' box to toggle between pre and post disaster.\n",
    "- If you have defined a new location and no imagery appears for your location, try increasing the cloud fraction, but check this does not lead to overly cloudy images which may affect detection performance. Alternatively try changing or widening the requested dates, it is not uncommon to span several months for a good image."
   ]
  },
  {
   "cell_type": "code",
   "execution_count": null,
   "metadata": {},
   "outputs": [],
   "source": [
    "# Create map with before and after images for specified location\n",
    "beforeAfterImages(variables)"
   ]
  },
  {
   "cell_type": "markdown",
   "metadata": {},
   "source": [
    "____________\n",
    "<a id='Settlement_Segmentation'></a>\n",
    "## 2 - Settlement Segmentation - Per Pixel Random Forrest Classifier\n",
    "Locates where the informal setttlement are given an image from Sentinel-2"
   ]
  },
  {
   "cell_type": "code",
   "execution_count": null,
   "metadata": {},
   "outputs": [],
   "source": [
    "rfc.classify(variables)"
   ]
  },
  {
   "cell_type": "markdown",
   "metadata": {},
   "source": [
    "______________\n",
    "## 3 - Change Detection - Image Ratio Demo\n",
    "This detects change between satellite images taken at subsequent times over the same location.\n",
    "\n",
    "The methods are calibrated on [Sentinel-2](https://sentinel.esa.int/web/sentinel/user-guides/sentinel-2-msi/overview) pre-post disaster imagery from the Caribbean and [Copernicus Emergency Mapping Service (EMS)](https://emergency.copernicus.eu/mapping/map-of-activations-rapid#zoom=3&lat=29.18235&lon=-70.57787&layers=BT00) ground truth damage assessment data. Section 4 allows you to evaluate predicted damages against reported damages for locations covered by EMS. The models were built using the [Descartes Labs](https://www.descarteslabs.com/) platform. If you wish to re-train the models or have more flexibility in your parameters, plots or methods, please visit the notebooks for each method at [thresholding.ipynb](./thresholding.ipynb) and [unet_classifier.ipynb](./unet_classifier.ipynb).\n",
    "\n",
    "______\n",
    "<a id='thresholding'></a>\n",
    "### 3.1 - Detect Change - Ratio Thresholding\n",
    "Next, let's take the logarithmic ratio of images for selected bands and display detected change superimposed on the image for time 2. Beneath the plot is a slider allowing you to vary the thresholds within which we are detecting change. If damage assessment data is available for the location this will be overlayed for a qualitative comparison.\n",
    "\n",
    "> The optimal threshold interval for detecting building change has been determined as 0.01-0.1. However, due to differences in lighting between repeat images this may need adjsuted according to location. As the ratio is logarithmic, if the second image is considerably darker than the first, the appropriate thresholding may even be negative.\n",
    "\n",
    "Detection interval equation for RGB (red, green and blue bands) where, for example, r1 denotes pixel value for red band at time 1:  $ threshold < \\log\\left(\\frac{r2}{r1} \\times \\frac{b2}{b1} \\times \\frac{g2}{g1}\\right) < cap  $"
   ]
  },
  {
   "cell_type": "code",
   "execution_count": null,
   "metadata": {},
   "outputs": [],
   "source": [
    "# Function to detect change through thresholding for location\n",
    "plotVars, variables = thresholding(variables)"
   ]
  },
  {
   "cell_type": "code",
   "execution_count": null,
   "metadata": {},
   "outputs": [],
   "source": [
    "# Re-plot detected change according to slider values\n",
    "plotVars = plotChange(plotVars)"
   ]
  },
  {
   "cell_type": "markdown",
   "metadata": {},
   "source": [
    "You may observe 2 main limitations with this method.\n",
    "- Lack of small scale change detections due to 10x10m resolution of Sentinel Imagery. Try re-running the notebook selecting the high resolution location to see what is possible where 1x1m resolution is available.\n",
    "- Sensitivity of thresholding to image lighting and changes in areas other than buildings, due to effect on ratio values. If threshold is unadjusted or mask is not applied to ocean this leads to false detections. To mitigate this limitation we trained a [classifier](#classifier) in the next section to recognise the evidence of damage buildings within the image ratio rather than relying on simple thresholding.\n",
    "____________________\n",
    "<a id='classifier'></a>\n",
    "### 3.2 - Detect Change - Ratio Classifier\n",
    "To avoid the drawbacks of thresholding we trained a Convolutional Neural Network (CNN) with a [U-Net](https://arxiv.org/abs/1505.04597) architecture to identify building change from the pixel ratios between before/after Sentinel-2 imagery. This model evaluates change per 'image tile' of which there will be many within your area of interest. Therefore, first let's draw a polygon over the desired area. Then, each corresponding tile will individually be fed in to the model for assessing change detection. Bare in mind the larger the area the longer it will take to run the model for that area.\n",
    "> One could question the decision not to just increase tilesize. However not only does this method make the evaluation area more flexible, but also the model does not cater well for tile sizes larger than that for which it was trained due to the input layer structure."
   ]
  },
  {
   "cell_type": "code",
   "execution_count": null,
   "metadata": {},
   "outputs": [],
   "source": [
    "m3, testPoly = drawPolygon(variables) # Get map upon which to draw polygon for assessment\n",
    "m3 # Display map - When adjusting polygon please maintain geometry (e.g. bottom left as bottom left)"
   ]
  },
  {
   "cell_type": "code",
   "execution_count": null,
   "metadata": {},
   "outputs": [],
   "source": [
    "# Detect change for all tiles at least partly within polygon\n",
    "classified, variables = classifyDamage(testPoly, variables, m3)"
   ]
  },
  {
   "cell_type": "markdown",
   "metadata": {},
   "source": [
    "____________\n",
    "<a id='exposure_quantification'></a>\n",
    "### 4 - Exposure Quantification"
   ]
  },
  {
   "cell_type": "code",
   "execution_count": null,
   "metadata": {},
   "outputs": [],
   "source": [
    "exq.exposure_quantification()"
   ]
  }
 ],
 "metadata": {
  "kernelspec": {
   "display_name": "binder",
   "language": "python",
   "name": "binder"
  },
  "language_info": {
   "codemirror_mode": {
    "name": "ipython",
    "version": 3
   },
   "file_extension": ".py",
   "mimetype": "text/x-python",
   "name": "python",
   "nbconvert_exporter": "python",
   "pygments_lexer": "ipython3",
   "version": "3.8.10"
  },
  "widgets": {
   "application/vnd.jupyter.widget-state+json": {
    "state": {},
    "version_major": 2,
    "version_minor": 0
   }
  }
 },
 "nbformat": 4,
 "nbformat_minor": 4
}
