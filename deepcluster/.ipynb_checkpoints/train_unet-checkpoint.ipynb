{
 "cells": [
  {
   "cell_type": "code",
   "execution_count": 1,
   "metadata": {},
   "outputs": [],
   "source": [
    "import numpy as np\n",
    "import matplotlib.pyplot as plt\n",
    "try:\n",
    "    import faiss\n",
    "except ImportError:\n",
    "    # esnure you are using this version due to a object depreciation that means \\\n",
    "    # the clustering does not run on the newer version\n",
    "    !pip3 install faiss-gpu==1.6.1\n",
    "    import faiss"
   ]
  },
  {
   "cell_type": "code",
   "execution_count": 2,
   "metadata": {},
   "outputs": [],
   "source": [
    "#may have to compile pytorch with cuda in terminal with:\n",
    "# conda install -c pytorch torchvision cudatoolkit=10.1 pytorch"
   ]
  },
  {
   "cell_type": "code",
   "execution_count": 14,
   "metadata": {},
   "outputs": [],
   "source": [
    "DIR=\"/home/jovyan/gtc-exposure/data/\"\n",
    "#ARCH='UNet' --arch {ARCH}\n",
    "#LR=0.05\n",
    "LR=0.01\n",
    "K=6\n",
    "EPOCHS = 20\n",
    "EXP='/home/jovyan/gtc-exposure/deepcluster/output/'\n",
    "# --lr {LR} --wd {WD}\\\n",
    "#  --k {K} --sobel --verbose --workers {WORKERS} --epochs {EPOCHS} "
   ]
  },
  {
   "cell_type": "code",
   "execution_count": 20,
   "metadata": {},
   "outputs": [
    {
     "name": "stdout",
     "output_type": "stream",
     "text": [
      "Architecture: UNet\n",
      "Traceback (most recent call last):\n",
      "  File \"main.py\", line 343, in <module>\n",
      "    main(args)\n",
      "  File \"main.py\", line 81, in main\n",
      "    fd = int(model.top_layer.weight.size()[1])\n",
      "  File \"/opt/conda/lib/python3.7/site-packages/torch/nn/modules/module.py\", line 576, in __getattr__\n",
      "    type(self).__name__, name))\n",
      "AttributeError: 'DoubleConv' object has no attribute 'weight'\n"
     ]
    }
   ],
   "source": [
    "!python3 main.py {DIR} --exp {EXP} --verbose"
   ]
  },
  {
   "cell_type": "code",
   "execution_count": null,
   "metadata": {},
   "outputs": [],
   "source": [
    "Clustering_Losses = [1764.6022, 1451.6779, 1345.4794, 1186.6477, 1428.3203, 1395.3264, 1436.7313, 1462.7643, 1577.7015, 1588.283, 1673.0186, 1649.0116, 1701.5258, 1672.3185, 1678.3419, 1706.3281, 1678.9695, 1634.1978, 1707.3866, 1696.7062]\n",
    "Losses = [2.5460224683169557, 1.6801736669129683, 1.6810097845286882, 1.5522207030478645, 1.5377004182889682, 1.4975386950023033, 1.5951965743002772, 1.5608501051153456, 1.446431006704058, 1.4148147458664508, 1.5173291409341227, 1.479497223779434, 1.443910490815379, 1.409538593738019, 1.3006273798581933, 1.3603775649636733, 1.3314913117459841, 1.3340588870043515, 1.309999556163279, 1.1851813116369128]"
   ]
  },
  {
   "cell_type": "code",
   "execution_count": null,
   "metadata": {},
   "outputs": [],
   "source": [
    "plt.plot(range(EPOCHS), Losses)\n",
    "plt.title('Losses')\n",
    "plt.show()"
   ]
  },
  {
   "cell_type": "markdown",
   "metadata": {},
   "source": [
    "# Log\n",
    "\n",
    "### 15/02/21 -Ira - Following Error:\n",
    "Esnure you are using this version due to a object depreciation that means the clustering does not run on the newer version\n",
    "\n",
    "Fix: ```pip3 unintall faiss-gpu```\n",
    "```pip3 install faiss-gpu==1.6.1```\n",
    "\n",
    "### 16/02/21 -Ira - Following Error:\n",
    "Reduce PCA to 10 as a trial due to following error:\n",
    "```failed: PCA matrix cannot output 256 dimensions from 4096```\n",
    "\n",
    "Reduce number of clusters to 6:\n",
    "```Error: 'nx >= k' failed: need at least as many training points as clusters```\n",
    "\n",
    "Also reduce final sequential layer in the model from ```4096``` to ```2048``` to help with the dimentionailty reduction due to the low resoltuion of the input images from sentinel to overcome: \n",
    "\n",
    "### 19/02/21 -Ira - Following Error:\n",
    "```\n",
    "RuntimeError: Error in virtual void faiss::Clustering::train(faiss::Clustering::idx_t, const float*, faiss::Index&) at Clustering.cpp:90: Error: 'finite (x_in[i])' failed: input contains NaN's or Inf's\n",
    "```\n",
    "\n",
    "Niave solution: reduce the learning rate from ```0.05``` to ```0.005```. This 100% gets stuck in a local minima, however at least it works!\n",
    "\n",
    "\n",
    "It also takes forever and as the performance doesn't get better over time, due to being in this minima- reduce epochs from ```200``` to ```20```. \n",
    "\n",
    "Action points, change this learning rate- improve PCA and K-means.\n",
    "\n",
    "### 22/02/21 -Ira:\n",
    "\n",
    "Generated more data points restrictions on dimentionailty: Increase PCA to ```64``` as a trial due to following error. Model runs somewhat better now. Next step: be more selective on training images to esnure model is given a balanced dataset.\n",
    "\n",
    "Generated smaller dataset tiles as to include less different types in each image.\n",
    "\n",
    "### 23/02/21 -Ira:\n",
    "\n",
    "Increased the learning rate to ```0.05``` however this just overfit the model, reduced to ```0.01```.\n",
    "\n",
    "Created inference notebook to see how the model classifies.\n",
    "\n"
   ]
  },
  {
   "cell_type": "code",
   "execution_count": null,
   "metadata": {},
   "outputs": [],
   "source": []
  }
 ],
 "metadata": {
  "kernelspec": {
   "display_name": "Python 3",
   "language": "python",
   "name": "python3"
  },
  "language_info": {
   "codemirror_mode": {
    "name": "ipython",
    "version": 3
   },
   "file_extension": ".py",
   "mimetype": "text/x-python",
   "name": "python",
   "nbconvert_exporter": "python",
   "pygments_lexer": "ipython3",
   "version": "3.7.8"
  }
 },
 "nbformat": 4,
 "nbformat_minor": 4
}
