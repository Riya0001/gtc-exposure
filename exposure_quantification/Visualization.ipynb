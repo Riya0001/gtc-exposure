{
 "cells": [
  {
   "cell_type": "code",
   "execution_count": 64,
   "metadata": {},
   "outputs": [],
   "source": [
    "from ipyleaflet import Map, basemaps, LocalTileLayer, ImageOverlay, ScaleControl, LayersControl\n",
    "\n",
    "#center = [18.5139906605, -72.2919501705]\n",
    "center = [18.51097696266426, -72.29284267872913]\n",
    "zoom = 16\n",
    "\n",
    "m = Map(basemap=basemaps.OpenStreetMap.Mapnik, center=center, zoom=zoom)\n",
    "\n",
    "m.add_control(ScaleControl(position='bottomleft'))"
   ]
  },
  {
   "cell_type": "code",
   "execution_count": 65,
   "metadata": {},
   "outputs": [],
   "source": [
    "rel_url_S2 = 'GHS_S2_Haiti.png'\n",
    "S2 = ImageOverlay(name='Sentinel-2 Composite', url=rel_url_S2, \n",
    "                  bounds=((18.504317897,-72.309451052),(18.523663424,-72.274449289)))\n",
    "m.add_layer(S2)\n",
    "\n",
    "rel_url_BU = 'GHS_BU_2.png'\n",
    "BU = ImageOverlay(name='GHSL Built-up Probability', url=rel_url_BU, \n",
    "                  bounds=((18.504317897,-72.309451052),(18.523663424,-72.274449289)), opacity=0.7)\n",
    "m.add_layer(BU)\n",
    "\n",
    "rel_url_POP = 'GHS_POP_2.png'\n",
    "POP = ImageOverlay(name='GHSL Population Density', url=rel_url_POP, \n",
    "                  bounds=((18.504317897,-72.309451052),(18.523663424,-72.274449289)), opacity=0.5)\n",
    "m.add_layer(POP)\n",
    "\n",
    "#rel_url = 'GHS_S2_Haiti_1.png'\n",
    "#io1 = ImageOverlay(url=rel_url, bounds=((18.458481455,-72.389775449),(18.569945471,-72.188104178)))\n",
    "#m.add_layer(io1)\n",
    "\n",
    "control = LayersControl(position='topright')\n",
    "m.add_control(control)"
   ]
  },
  {
   "cell_type": "code",
   "execution_count": 66,
   "metadata": {},
   "outputs": [
    {
     "data": {
      "application/vnd.jupyter.widget-view+json": {
       "model_id": "f067b0acd72045ba9c149857f7bb015c",
       "version_major": 2,
       "version_minor": 0
      },
      "text/plain": [
       "Map(center=[18.51097696266426, -72.29284267872913], controls=(ZoomControl(options=['position', 'zoom_in_text',…"
      ]
     },
     "metadata": {},
     "output_type": "display_data"
    }
   ],
   "source": [
    "m"
   ]
  },
  {
   "cell_type": "code",
   "execution_count": null,
   "metadata": {},
   "outputs": [],
   "source": []
  }
 ],
 "metadata": {
  "kernelspec": {
   "display_name": "Python 3",
   "language": "python",
   "name": "python3"
  },
  "language_info": {
   "codemirror_mode": {
    "name": "ipython",
    "version": 3
   },
   "file_extension": ".py",
   "mimetype": "text/x-python",
   "name": "python",
   "nbconvert_exporter": "python",
   "pygments_lexer": "ipython3",
   "version": "3.8.5"
  }
 },
 "nbformat": 4,
 "nbformat_minor": 4
}
